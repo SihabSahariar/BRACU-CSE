{
 "cells": [
  {
   "cell_type": "code",
   "execution_count": 79,
   "metadata": {},
   "outputs": [
    {
     "name": "stdout",
     "output_type": "stream",
     "text": [
      "HFI"
     ]
    }
   ],
   "source": [
    "def reverseEncrypt(message,key,i=0):\n",
    "    if i==len(message):\n",
    "        return\n",
    "    else:\n",
    "        c=ord(message[i])+key\n",
    "        if 65<=c and c<=90:\n",
    "            save=chr(c)\n",
    "        else:\n",
    "            save=chr(c-90+64)\n",
    "            \n",
    "        reverseEncrypt(message,key,i+1)\n",
    "        print(save,end=\"\")\n",
    "\n",
    "reverseEncrypt(\"AXZ\",8)"
   ]
  }
 ],
 "metadata": {
  "kernelspec": {
   "display_name": "Python 3",
   "language": "python",
   "name": "python3"
  },
  "language_info": {
   "codemirror_mode": {
    "name": "ipython",
    "version": 3
   },
   "file_extension": ".py",
   "mimetype": "text/x-python",
   "name": "python",
   "nbconvert_exporter": "python",
   "pygments_lexer": "ipython3",
   "version": "3.7.6"
  }
 },
 "nbformat": 4,
 "nbformat_minor": 4
}
