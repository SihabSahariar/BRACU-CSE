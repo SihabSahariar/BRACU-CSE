{
 "cells": [
  {
   "cell_type": "code",
   "execution_count": 4,
   "metadata": {},
   "outputs": [],
   "source": [
    "# https://github.com/codebasics/data-structures-algorithms-python/blob/master/data_structures/2_Arrays/2_arrays_exercise.md\n",
    "# Let us say your expense for every month are listed below,\n",
    "# January - 2200\n",
    "# February - 2350\n",
    "# March - 2600\n",
    "# April - 2130\n",
    "# May - 2190\n",
    "# Create a list to store these monthly expenses and using that find out,\n",
    "\n",
    "# 1. In Feb, how many dollars you spent extra compare to January?\n",
    "# 2. Find out your total expense in first quarter (first three months) of the year.\n",
    "# 3. Find out if you spent exactly 2000 dollars in any month\n",
    "# 4. June month just finished and your expense is 1980 dollar. Add this item to our monthly expense list\n",
    "# 5. You returned an item that you bought in a month of April and\n",
    "# got a refund of 200$. Make a correction to your monthly expense list based on this"
   ]
  },
  {
   "cell_type": "code",
   "execution_count": 9,
   "metadata": {},
   "outputs": [
    {
     "name": "stdout",
     "output_type": "stream",
     "text": [
      "5 2\n",
      "0 4 5 1 0\n",
      "1\n"
     ]
    }
   ],
   "source": [
    "p = input().split(\" \")\n",
    "n=int(p[0])\n",
    "k=int(p[1])\n",
    "lst=input().split(\" \")\n",
    "count=0\n",
    "j=0\n",
    "while j<n:\n",
    "    if 5-int(lst[j])>=k:\n",
    "        count+=1\n",
    "    j+=1\n",
    "res=int(count/3)\n",
    "print(res)"
   ]
  },
  {
   "cell_type": "code",
   "execution_count": 5,
   "metadata": {},
   "outputs": [
    {
     "name": "stdout",
     "output_type": "stream",
     "text": [
      "150\n"
     ]
    }
   ],
   "source": [
    "exp = [2200,2350,2600,2130,2190]\n",
    "print(exp[1]-exp[0])"
   ]
  },
  {
   "cell_type": "code",
   "execution_count": 6,
   "metadata": {},
   "outputs": [
    {
     "name": "stdout",
     "output_type": "stream",
     "text": [
      "6680\n"
     ]
    }
   ],
   "source": [
    "exp = [2200,2350,2600,2130,2190]\n",
    "three_exp = exp[0]+exp[1]+exp[2]\n",
    "print(three_exp)"
   ]
  },
  {
   "cell_type": "code",
   "execution_count": 11,
   "metadata": {},
   "outputs": [],
   "source": [
    "exp = [2200,2350,2600,2130,2190]\n",
    "for i in exp:\n",
    "    if i==2000:\n",
    "        print(i)"
   ]
  },
  {
   "cell_type": "code",
   "execution_count": 26,
   "metadata": {},
   "outputs": [
    {
     "name": "stdout",
     "output_type": "stream",
     "text": [
      "[2200, 2350, 2600, 2130, 2190, 1980]\n"
     ]
    }
   ],
   "source": [
    "exp = [2200,2350,2600,2130,2190]\n",
    "exp.append(1980)\n",
    "print(exp)"
   ]
  },
  {
   "cell_type": "code",
   "execution_count": 29,
   "metadata": {},
   "outputs": [
    {
     "name": "stdout",
     "output_type": "stream",
     "text": [
      "[2200, 2350, 2600, 1930, 2190, 1980]\n"
     ]
    }
   ],
   "source": [
    "exp = [2200,2350,2600,2130,2190,1980]\n",
    "exp[3] = exp[3]-200\n",
    "print(exp)"
   ]
  },
  {
   "cell_type": "code",
   "execution_count": 30,
   "metadata": {},
   "outputs": [],
   "source": [
    "# You have a list of your favourite marvel super heros.\n",
    "# heros=['spider man','thor','hulk','iron man','captain america']\n",
    "# Using this find out,\n",
    "\n",
    "# 1. Length of the list\n",
    "# 2. Add 'black panther' at the end of this list\n",
    "# 3. You realize that you need to add 'black panther' after 'hulk',\n",
    "#    so remove it from the list first and then add it after 'hulk'\n",
    "# 4. Now you don't like thor and hulk because they get angry easily :)\n",
    "#    So you want to remove thor and hulk from list and replace them with doctor strange (because he is cool).\n",
    "#    Do that with one line of code.\n",
    "# 5. Sort the heros list in alphabetical order (Hint. Use dir() functions to list down all functions available in list)"
   ]
  },
  {
   "cell_type": "code",
   "execution_count": 45,
   "metadata": {},
   "outputs": [
    {
     "name": "stdout",
     "output_type": "stream",
     "text": [
      "5\n",
      "After appending ['spider man', 'thor', 'hulk', 'iron man', 'captain america', 'black panther']\n",
      "After removing ['spider man', 'thor', 'hulk', 'iron man', 'captain america']\n",
      "After inserting ['spider man', 'thor', 'hulk', 'black panther', 'iron man', 'captain america']\n",
      "After replacing ['spider man', 'doctor strange', 'black panther', 'iron man', 'captain america']\n",
      "After sorting ['black panther', 'captain america', 'doctor strange', 'iron man', 'spider man']\n"
     ]
    }
   ],
   "source": [
    "heros=['spider man','thor','hulk','iron man','captain america']\n",
    "print(len(heros))\n",
    "heros.append('black panther')\n",
    "print('After appending',heros)\n",
    "heros.remove('black panther')\n",
    "print('After removing',heros)\n",
    "heros.insert(3,'black panther')\n",
    "print('After inserting',heros)\n",
    "\n",
    "heros[1:3] = ['doctor strange'] #Think to remind\n",
    "print('After replacing',heros)\n",
    "heros.sort()\n",
    "print('After sorting',heros)"
   ]
  },
  {
   "cell_type": "code",
   "execution_count": 48,
   "metadata": {},
   "outputs": [
    {
     "name": "stdout",
     "output_type": "stream",
     "text": [
      "10\n",
      "[0, 2, 4, 6, 8]\n"
     ]
    }
   ],
   "source": [
    "# Create a list of all odd numbers between 1 and a max number. Max number is something you need to take from a user\n",
    "#using input() function\n",
    "\n",
    "i = int(input())\n",
    "lst = []\n",
    "for j in range(i):\n",
    "    if j%2==0:\n",
    "        lst.append(j)\n",
    "        \n",
    "print(lst)"
   ]
  },
  {
   "cell_type": "code",
   "execution_count": null,
   "metadata": {},
   "outputs": [],
   "source": []
  },
  {
   "cell_type": "code",
   "execution_count": null,
   "metadata": {},
   "outputs": [],
   "source": []
  },
  {
   "cell_type": "code",
   "execution_count": null,
   "metadata": {},
   "outputs": [],
   "source": []
  },
  {
   "cell_type": "code",
   "execution_count": null,
   "metadata": {},
   "outputs": [],
   "source": []
  },
  {
   "cell_type": "code",
   "execution_count": 62,
   "metadata": {},
   "outputs": [
    {
     "name": "stdout",
     "output_type": "stream",
     "text": [
      "array('i', [10, 20, 30, 40])\n",
      "(1718499588096, 4)\n",
      "array('i', [40, 30, 20, 10])\n",
      "array('i', [40, 30, 20, 10, 30])\n",
      "Printing as list - \n",
      "40\n",
      "30\n",
      "20\n",
      "10\n",
      "30\n"
     ]
    }
   ],
   "source": [
    "from array import *\n",
    "vals = array('i',[10,20,30,40])\n",
    "print(vals)\n",
    "\n",
    "print(vals.buffer_info())\n",
    "vals.reverse()\n",
    "print(vals)\n",
    "vals.append(30)\n",
    "print(vals)\n",
    "print('Printing as list - ')\n",
    "for i in vals:\n",
    "    print(i)"
   ]
  },
  {
   "cell_type": "code",
   "execution_count": 72,
   "metadata": {},
   "outputs": [
    {
     "name": "stdout",
     "output_type": "stream",
     "text": [
      "[10, 20, 30, 40]\n",
      "array('i', [10, 20, 30, 40, 10, 20, 30])\n",
      "[10, 20, 1000, 30, 40, 10, 20, 30]\n"
     ]
    }
   ],
   "source": [
    "from array import *\n",
    "vals = array('i',[10,20,30,40])\n",
    "\n",
    "newVals = array(vals.typecode,(a for a in vals))\n",
    "\n",
    "lst = list(a for a in newVals)\n",
    "print(lst)\n",
    "\n",
    "vals.extend([10,20,30])\n",
    "print(vals)\n",
    "vals.insert(2,1000)\n",
    "print(list(vals))"
   ]
  },
  {
   "cell_type": "code",
   "execution_count": 74,
   "metadata": {},
   "outputs": [
    {
     "name": "stdout",
     "output_type": "stream",
     "text": [
      "10-20-30-1-2-3-"
     ]
    }
   ],
   "source": [
    "from array import *\n",
    "\n",
    "k = array('i',[10,20,30])\n",
    "j = array('i',[1,2,3])\n",
    "s = k+j\n",
    "for i in s:\n",
    "    print(i,end = \"-\")"
   ]
  },
  {
   "cell_type": "code",
   "execution_count": 2,
   "metadata": {},
   "outputs": [],
   "source": [
    "# P = [10,87,45,67,2]\n",
    "# 1.Shift Array Elements on Right Side by One Position \n",
    "# 2.Take an input as n and then do task 1 for 1 times/ Shift Array Elements on Right Side by n position. "
   ]
  },
  {
   "cell_type": "code",
   "execution_count": 8,
   "metadata": {},
   "outputs": [
    {
     "name": "stdout",
     "output_type": "stream",
     "text": [
      "[2, 10, 87, 45, 67]\n"
     ]
    }
   ],
   "source": [
    "p = [10,87,45,67,2]\n",
    "back = p[-1]\n",
    "start = len(p)-2\n",
    "while start>=0:\n",
    "    p[start+1] = p[start]\n",
    "    start-=1\n",
    "p[0] = back\n",
    "\n",
    "print(p)"
   ]
  },
  {
   "cell_type": "code",
   "execution_count": 10,
   "metadata": {},
   "outputs": [
    {
     "name": "stdout",
     "output_type": "stream",
     "text": [
      "4\n",
      "[87, 45, 67, 2, 10]\n"
     ]
    }
   ],
   "source": [
    "p = [10,87,45,67,2]\n",
    "\n",
    "n = int(input())\n",
    "while n>0:\n",
    "    back = p[-1]\n",
    "    start = len(p)-2\n",
    "    while start>=0:\n",
    "        p[start+1] = p[start]\n",
    "        start-=1\n",
    "    p[0] = back\n",
    "    n-=1\n",
    "\n",
    "print(p)"
   ]
  },
  {
   "cell_type": "code",
   "execution_count": 36,
   "metadata": {},
   "outputs": [
    {
     "data": {
      "text/plain": [
       "[40, 50, 70, 10, 20, 30]"
      ]
     },
     "execution_count": 36,
     "metadata": {},
     "output_type": "execute_result"
    }
   ],
   "source": [
    "##Right Shift and Rotate by K placed\n",
    "\n",
    "def rightShift(array,kotobar):\n",
    "    for j in range(kotobar):\n",
    "        temp = array[-1]\n",
    "        i = len(array)-2\n",
    "        while i>=0:\n",
    "            array[i+1] = array[i]\n",
    "            i-=1\n",
    "        array[0] = temp\n",
    "    return array\n",
    "\n",
    "\n",
    "\n",
    "\n",
    "\n",
    "\n",
    "\n",
    "a=[10,20,30,40,50,70]\n",
    "\n",
    "rightShift(a,3)"
   ]
  },
  {
   "cell_type": "code",
   "execution_count": 3,
   "metadata": {},
   "outputs": [
    {
     "name": "stdout",
     "output_type": "stream",
     "text": [
      "[20, 67, 85, 34, 90, 12]\n"
     ]
    }
   ],
   "source": [
    "#Insertion of an Array\n",
    "\n",
    "def insert(array,size,value,k):\n",
    "    j = size-1 #লাস্ট এলিমেন্টকে পয়েন্ট করছি\n",
    "    array+=[0] #শেষে একটা ফাঁকা স্পেস তৈরী করতেছি\n",
    "    if k>size or k<0:\n",
    "        print(\"Wrong Index\")\n",
    "        return\n",
    "    else:\n",
    "        while j>=k: #যতক্ষন j এর থেকে k অর্থাৎ ইন্সার্টের ইনডেক্স ছোট বা বড় ততক্ষন এরের এলিমেন্টগুলো ডানদিকে এক ঘর শিফট করব \n",
    "            array[j+1] = array[j]\n",
    "            j-=1\n",
    "        array[k] = value #সব এলিমেন্ট ডান দিকে এক ঘর সড়ে গেলে k তম ইনডেক্সে ফাঁকা স্পেস তৈরি হবে(K==k+1 তম ডেক্সের এলিমেন্ট) \n",
    "        size+=1          #এবং সেখানে আমরা  ওখানে ভ্যালু বসিয়ে দিব! এরপর এরের সাইজ এক বাড়ায় দিব। কারণ নতুন এলিমেন্ট এড করতেছি\n",
    "        return\n",
    "    \n",
    "    \n",
    "    \n",
    "\n",
    "    \n",
    "lst = [20,67,85,34,12]\n",
    "\n",
    "size = len(lst)\n",
    "k = 4\n",
    "value = 90\n",
    "insert(lst,size,value,k)\n",
    "print(lst)"
   ]
  }
 ],
 "metadata": {
  "kernelspec": {
   "display_name": "Python 3",
   "language": "python",
   "name": "python3"
  },
  "language_info": {
   "codemirror_mode": {
    "name": "ipython",
    "version": 3
   },
   "file_extension": ".py",
   "mimetype": "text/x-python",
   "name": "python",
   "nbconvert_exporter": "python",
   "pygments_lexer": "ipython3",
   "version": "3.7.6"
  }
 },
 "nbformat": 4,
 "nbformat_minor": 4
}
