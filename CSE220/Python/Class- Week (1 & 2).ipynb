{
 "cells": [
  {
   "cell_type": "code",
   "execution_count": 9,
   "metadata": {},
   "outputs": [
    {
     "name": "stdout",
     "output_type": "stream",
     "text": [
      "1\n",
      "2\n",
      "3\n",
      "4\n",
      "5\n",
      "67\n",
      "[1, 2, 3, 4, 5, 67]\n"
     ]
    }
   ],
   "source": [
    "#Linear Array\n",
    "\n",
    "ara = [1,2,3,4,5,67]\n",
    "#Printing element by element\n",
    "for i in ara:\n",
    "    print(i)\n",
    "    \n",
    "#Getting all the element into a new list   \n",
    "new = [i for i in ara]    \n",
    "print(new)\n"
   ]
  },
  {
   "cell_type": "code",
   "execution_count": 6,
   "metadata": {},
   "outputs": [
    {
     "name": "stdout",
     "output_type": "stream",
     "text": [
      "[1, 2, 3, 4, 5]\n"
     ]
    }
   ],
   "source": [
    "#Write a function which will take a list as input and copy it then return it.\n",
    "def copy_arra(arra):\n",
    "    p = [i for i in arra]\n",
    "    return p\n",
    "\n",
    "list_1 = [1,2,3,4,5]\n",
    "list_2 = copy_arra(list_1)\n",
    "print(list_2)"
   ]
  },
  {
   "cell_type": "code",
   "execution_count": 8,
   "metadata": {},
   "outputs": [
    {
     "name": "stdout",
     "output_type": "stream",
     "text": [
      "450\n"
     ]
    }
   ],
   "source": [
    "#Q1\n",
    "a=[3,5,2,6,7]\n",
    "\n",
    "b=a\n",
    "\n",
    "b[1]=450\n",
    "\n",
    "print(a[1])"
   ]
  },
  {
   "cell_type": "code",
   "execution_count": 11,
   "metadata": {},
   "outputs": [
    {
     "name": "stdout",
     "output_type": "stream",
     "text": [
      "false\n"
     ]
    }
   ],
   "source": [
    "#Q2\n",
    "a=[1,2,3]\n",
    "b=[1,2,3]\n",
    "\n",
    "if(a is b): print(\"true\")\n",
    "else: print(\"false\")"
   ]
  },
  {
   "cell_type": "code",
   "execution_count": 13,
   "metadata": {},
   "outputs": [
    {
     "name": "stdout",
     "output_type": "stream",
     "text": [
      "2\n"
     ]
    }
   ],
   "source": [
    "#Q3\n",
    "a=[2,4,5,10,5,2]\n",
    "print(a[a[a[a[2]]]])"
   ]
  },
  {
   "cell_type": "markdown",
   "metadata": {},
   "source": [
    "# SOME BASICS ABOUT ARRAY"
   ]
  },
  {
   "cell_type": "code",
   "execution_count": 14,
   "metadata": {},
   "outputs": [],
   "source": [
    "#Creating an Array\n",
    "arra = [1,2,3,5]"
   ]
  },
  {
   "cell_type": "code",
   "execution_count": 17,
   "metadata": {},
   "outputs": [
    {
     "name": "stdout",
     "output_type": "stream",
     "text": [
      "1\n",
      "2\n",
      "3\n",
      "5\n"
     ]
    }
   ],
   "source": [
    "# Iterating over the elements of an array\n",
    "arra = [1,2,3,5]\n",
    "for x in range(len(arra)):\n",
    "    print(arra[x])"
   ]
  },
  {
   "cell_type": "code",
   "execution_count": 19,
   "metadata": {},
   "outputs": [
    {
     "name": "stdout",
     "output_type": "stream",
     "text": [
      "[1, 2, 3, 4, 5]\n"
     ]
    }
   ],
   "source": [
    "# Copying an array\n",
    "arra = [1,2,3,4,5]\n",
    "arra_copy = [i for i in arra]\n",
    "print(arra_copy)"
   ]
  },
  {
   "cell_type": "code",
   "execution_count": 12,
   "metadata": {},
   "outputs": [
    {
     "name": "stdout",
     "output_type": "stream",
     "text": [
      "[1, 2, 3, 4]\n",
      "[1, 2, 3, 4, 0, 0, 0, 0, 0, 0]\n"
     ]
    }
   ],
   "source": [
    "# Resizing an array\n",
    "\n",
    "def resize(array,new_size): \n",
    "    lst =[]\n",
    "    for i in range(new_size):\n",
    "        if i<len(array):\n",
    "            lst+=[array[i]]\n",
    "        else:\n",
    "            lst+=[0]\n",
    "    return lst\n",
    "    \n",
    "if __name__ == \"__main__\":\n",
    "    x = [1,2,3,4]\n",
    "    print(x)\n",
    "    new = resize(x,10)\n",
    "    print(new)\n",
    "    "
   ]
  },
  {
   "cell_type": "code",
   "execution_count": 178,
   "metadata": {},
   "outputs": [
    {
     "name": "stdout",
     "output_type": "stream",
     "text": [
      "After reversing :-  [67, 55, 11, 10]\n",
      "After reversing :-  [67, 55, 11, 10]\n",
      "[67, 55, 11, 10]\n"
     ]
    }
   ],
   "source": [
    "#Reversing an array\n",
    "def rev1(arra): #Out of place approach\n",
    "    new = [0]*len(arra)\n",
    "    i = 0\n",
    "    j = len(arra)-1\n",
    "    while i<len(arra):\n",
    "        new[j]=arra[i]\n",
    "        i+=1\n",
    "        j-=1\n",
    "    return new\n",
    "\n",
    "def rev2(arra): #In of place approach\n",
    "    i = 0\n",
    "    j = len(arra)-1\n",
    "    while i<j:\n",
    "        temp = arra[i]\n",
    "        arra[i] = arra[j]\n",
    "        arra[j] = temp\n",
    "        i+=1\n",
    "        j-=1\n",
    "\n",
    "\n",
    "lst = [10,11,55,67]\n",
    "rev_lst = lst[::-1] #Using range function\n",
    "rev_lst1 = rev1(lst)\n",
    "print(\"After reversing :- \",rev_lst)\n",
    "print(\"After reversing :- \",rev_lst1)\n",
    "rev2(lst)\n",
    "print(lst)"
   ]
  },
  {
   "cell_type": "code",
   "execution_count": 89,
   "metadata": {},
   "outputs": [
    {
     "name": "stdout",
     "output_type": "stream",
     "text": [
      "[23, 56, 25, 90, 10]\n",
      "[23, 56, 25, 90, 10]\n"
     ]
    }
   ],
   "source": [
    "#Shifing an array left\n",
    "\n",
    "def leftShift(array):\n",
    "    return array[1:]+array[0:1]#সব যেহেতু বামে সড়ে যাবে এক ঘর,সেহেতু সেকেন্ড ইলিমেন্ট থেকে n পর্যন্ত আগে প্রিন্ট করব এরপর এরের প্রথমটা\n",
    "\n",
    "def manual(ara):\n",
    "    i = 1\n",
    "    lost = ara[0]\n",
    "    while i<len(ara):\n",
    "        ara[i-1] = ara[i]\n",
    "        i+=1\n",
    "    ara[-1] = lost\n",
    "    return ara\n",
    "    \n",
    "    \n",
    "#if __name__ == \"__main__\":\n",
    "lst = [10,23,56,25,90]\n",
    "lst_new = leftShift(lst)\n",
    "lst_new1 = manual(lst)\n",
    "print(lst_new)\n",
    "print(lst_new1)\n"
   ]
  },
  {
   "cell_type": "code",
   "execution_count": 125,
   "metadata": {},
   "outputs": [
    {
     "name": "stdout",
     "output_type": "stream",
     "text": [
      "[90, 10, 23, 56, 25]\n",
      "[90, 10, 23, 56, 25]\n"
     ]
    }
   ],
   "source": [
    "#Shifing an array Right\n",
    "def rightShift(array):\n",
    "    return array[:len(array)-2:-1]+array[0:len(array)-1]#সব যেহেতু বামে সড়ে যাবে এক ঘর,সেহেতু সেকেন্ড ইলিমেন্ট থেকে n পর্যন্ত আগে প্রিন্ট করব এরপর এরের প্রথমটা\n",
    "\n",
    "def manual(array):\n",
    "    i = len(array)-1\n",
    "    lost = array[-1]\n",
    "    while i>0:\n",
    "        array[i] = array[i-1]\n",
    "        i-=1\n",
    "    array[0] = lost\n",
    "    return array\n",
    "    \n",
    "    \n",
    "#if __name__ == \"__main__\":\n",
    "lst = [10,23,56,25,90]\n",
    "lst_new = rightShift(lst)\n",
    "lst_new1 = manual(lst)\n",
    "print(lst_new)\n",
    "print(lst_new1)\n"
   ]
  },
  {
   "cell_type": "code",
   "execution_count": 50,
   "metadata": {},
   "outputs": [
    {
     "data": {
      "text/plain": [
       "[0, 0, 0, 10, 20]"
      ]
     },
     "execution_count": 50,
     "metadata": {},
     "output_type": "execute_result"
    }
   ],
   "source": [
    "#Right Shift and Rotate by K placed\n",
    "\n",
    "def rightShift(array,k):\n",
    "    i = len(array)-1\n",
    "    while i>=k:\n",
    "            array[i] = array[i-k]\n",
    "            i-=1\n",
    "  \n",
    "    i = 0\n",
    "    while i<k:\n",
    "        array[i] = 0\n",
    "        i+=1\n",
    "    return array\n",
    "\n",
    "\n",
    "a=[10,20,30,40,50]\n",
    "rightShift(a,3)"
   ]
  },
  {
   "cell_type": "code",
   "execution_count": 73,
   "metadata": {},
   "outputs": [
    {
     "name": "stdout",
     "output_type": "stream",
     "text": [
      "[40, 50, 70, 10, 20, 30] [70, 50, 40]\n"
     ]
    }
   ],
   "source": [
    "##Right Shift and Rotate by K placed (ei solution e jhamela ache)\n",
    "array = [10,20,30,40,50,70]\n",
    "k = 3\n",
    "\n",
    "\n",
    "i = len(array)-1\n",
    "temp = []\n",
    "back = array[k-1]\n",
    "\n",
    "while i>=k:\n",
    "    temp.append(array[i])\n",
    "    array[i] = array[i-k]\n",
    "    i-=1\n",
    "#temp.append(back)\n",
    "#print(array,temp)\n",
    "i = 0\n",
    "j = k-1\n",
    "while i<k:\n",
    "    array[i]=temp[j]\n",
    "    j-=1\n",
    "    i+=1\n",
    "    \n",
    "print(array,temp)\n",
    "\n",
    "\n"
   ]
  },
  {
   "cell_type": "markdown",
   "metadata": {},
   "source": [
    "---------------------------------------------------------------------"
   ]
  },
  {
   "cell_type": "code",
   "execution_count": 81,
   "metadata": {},
   "outputs": [
    {
     "name": "stdout",
     "output_type": "stream",
     "text": [
      "[1, 2, 56, 7, 9, 67, 88, 9]\n"
     ]
    }
   ],
   "source": [
    "a = [1,2,56,7,9,67,88,9]\n",
    "print(a)"
   ]
  },
  {
   "cell_type": "code",
   "execution_count": 82,
   "metadata": {},
   "outputs": [
    {
     "name": "stdout",
     "output_type": "stream",
     "text": [
      "[9, 88, 67, 9, 7, 56, 2, 1]\n",
      "[1, 2, 56, 7, 9, 67, 88, 9]\n",
      "[1, 56, 9, 88]\n"
     ]
    }
   ],
   "source": [
    "print(a[::-1]) #Revverse\n",
    "print(a[0::]) #All the elements\n",
    "print(a[0:len(a):2]) #Print jumping 2 steps"
   ]
  },
  {
   "cell_type": "code",
   "execution_count": 93,
   "metadata": {},
   "outputs": [
    {
     "name": "stdout",
     "output_type": "stream",
     "text": [
      "888\n",
      "546\n",
      "2\n",
      "1\n"
     ]
    }
   ],
   "source": [
    "#Reverse\n",
    "def rev(array):\n",
    "    i = len(array)-1\n",
    "    while i>=0:\n",
    "        print(array[i])\n",
    "        i-=1\n",
    "        \n",
    "array = [1,2,546,888]\n",
    "rev(array)"
   ]
  },
  {
   "cell_type": "code",
   "execution_count": 110,
   "metadata": {},
   "outputs": [
    {
     "name": "stdout",
     "output_type": "stream",
     "text": [
      "[1, 2, 40, 56, 7, 9, 67, 88, 9, 0, 0]\n"
     ]
    }
   ],
   "source": [
    "#Insertion of an array.\n",
    "def insert(array,position,element,size):\n",
    "    if len(array)==size: \n",
    "        print(\"No Space Avilable\")\n",
    "        return \n",
    "    if position<0 or position>size:\n",
    "        print(\"Wrong Index\")\n",
    "        return\n",
    "    i = size-1\n",
    "    while i>=position:\n",
    "        array[i+1]=array[i]\n",
    "        i-=1\n",
    "    array[position] = element\n",
    "    \n",
    "\n",
    "\n",
    "\n",
    "\n",
    "a = [1,2,56,7,9,67,88,9,0,0,0]\n",
    "insert(a,2,40,9)\n",
    "print(a)"
   ]
  },
  {
   "cell_type": "code",
   "execution_count": 8,
   "metadata": {},
   "outputs": [
    {
     "name": "stdout",
     "output_type": "stream",
     "text": [
      "[1, 2, 56, 7, 9, 67, 9, 9]\n"
     ]
    }
   ],
   "source": [
    "#Deletion of an array.\n",
    "def delete(array,position,size):\n",
    "    if position<0 or position>size:\n",
    "        print(\"Wrong Index\")\n",
    "        return\n",
    "    i = position\n",
    "    while i<size-1:\n",
    "        array[i]=array[i+1]\n",
    "        i+=1\n",
    "    \n",
    "    \n",
    "    \n",
    "\n",
    "\n",
    "\n",
    "\n",
    "a = [1,2,56,7,9,67,88,9]\n",
    "size = len(a)\n",
    "delete(a,6,size)\n",
    "print(a)"
   ]
  },
  {
   "cell_type": "markdown",
   "metadata": {},
   "source": [
    "# Circular Array"
   ]
  },
  {
   "cell_type": "code",
   "execution_count": 22,
   "metadata": {},
   "outputs": [
    {
     "name": "stdout",
     "output_type": "stream",
     "text": [
      "step=0:Head->|A|0|->|A|0|->|G|0|->|I|0|->|A|0|->|H|0|->|A|0|->|S|0|->|B|0|->|A|0|->|H|0|->|I|0|->|S|0|->|P|0|->|R|0|->None\n"
     ]
    },
    {
     "ename": "TypeError",
     "evalue": "can only concatenate str (not \"int\") to str",
     "output_type": "error",
     "traceback": [
      "\u001b[1;31m---------------------------------------------------------------------------\u001b[0m",
      "\u001b[1;31mTypeError\u001b[0m                                 Traceback (most recent call last)",
      "\u001b[1;32m<ipython-input-22-cb307e546f22>\u001b[0m in \u001b[0;36m<module>\u001b[1;34m\u001b[0m\n\u001b[0;32m     23\u001b[0m \u001b[1;33m\u001b[0m\u001b[0m\n\u001b[0;32m     24\u001b[0m \u001b[0mlst\u001b[0m \u001b[1;33m=\u001b[0m \u001b[1;33m[\u001b[0m\u001b[1;34m'A'\u001b[0m\u001b[1;33m,\u001b[0m\u001b[1;34m'A'\u001b[0m\u001b[1;33m,\u001b[0m\u001b[1;34m'G'\u001b[0m\u001b[1;33m,\u001b[0m\u001b[1;34m'I'\u001b[0m\u001b[1;33m,\u001b[0m\u001b[1;34m'A'\u001b[0m\u001b[1;33m,\u001b[0m\u001b[1;34m'H'\u001b[0m\u001b[1;33m,\u001b[0m\u001b[1;34m'A'\u001b[0m\u001b[1;33m,\u001b[0m\u001b[1;34m'S'\u001b[0m\u001b[1;33m,\u001b[0m\u001b[1;34m'B'\u001b[0m\u001b[1;33m,\u001b[0m\u001b[1;34m'A'\u001b[0m\u001b[1;33m,\u001b[0m\u001b[1;34m'H'\u001b[0m\u001b[1;33m,\u001b[0m\u001b[1;34m'I'\u001b[0m\u001b[1;33m,\u001b[0m\u001b[1;34m'S'\u001b[0m\u001b[1;33m,\u001b[0m\u001b[1;34m'P'\u001b[0m\u001b[1;33m,\u001b[0m\u001b[1;34m'R'\u001b[0m\u001b[1;33m]\u001b[0m\u001b[1;33m\u001b[0m\u001b[1;33m\u001b[0m\u001b[0m\n\u001b[1;32m---> 25\u001b[1;33m \u001b[0mbubble_sort\u001b[0m\u001b[1;33m(\u001b[0m\u001b[0mlst\u001b[0m\u001b[1;33m)\u001b[0m\u001b[1;33m\u001b[0m\u001b[1;33m\u001b[0m\u001b[0m\n\u001b[0m\u001b[0;32m     26\u001b[0m \u001b[0mprint\u001b[0m\u001b[1;33m(\u001b[0m\u001b[1;34m'Sorted Output'\u001b[0m\u001b[1;33m)\u001b[0m\u001b[1;33m\u001b[0m\u001b[1;33m\u001b[0m\u001b[0m\n\u001b[0;32m     27\u001b[0m \u001b[0mt\u001b[0m\u001b[1;33m=\u001b[0m\u001b[1;36m0\u001b[0m\u001b[1;33m\u001b[0m\u001b[1;33m\u001b[0m\u001b[0m\n",
      "\u001b[1;32m<ipython-input-22-cb307e546f22>\u001b[0m in \u001b[0;36mbubble_sort\u001b[1;34m(arr)\u001b[0m\n\u001b[0;32m     16\u001b[0m             \u001b[0mprint\u001b[0m\u001b[1;33m(\u001b[0m\u001b[1;34m'None'\u001b[0m\u001b[1;33m,\u001b[0m\u001b[0mend\u001b[0m\u001b[1;33m=\u001b[0m\u001b[1;34m\"\"\u001b[0m\u001b[1;33m)\u001b[0m\u001b[1;33m\u001b[0m\u001b[1;33m\u001b[0m\u001b[0m\n\u001b[0;32m     17\u001b[0m             \u001b[0mprint\u001b[0m\u001b[1;33m(\u001b[0m\u001b[1;33m)\u001b[0m\u001b[1;33m\u001b[0m\u001b[1;33m\u001b[0m\u001b[0m\n\u001b[1;32m---> 18\u001b[1;33m             \u001b[0mk\u001b[0m\u001b[1;33m+=\u001b[0m\u001b[1;36m1\u001b[0m\u001b[1;33m\u001b[0m\u001b[1;33m\u001b[0m\u001b[0m\n\u001b[0m\u001b[0;32m     19\u001b[0m \u001b[1;33m\u001b[0m\u001b[0m\n\u001b[0;32m     20\u001b[0m \u001b[1;33m\u001b[0m\u001b[0m\n",
      "\u001b[1;31mTypeError\u001b[0m: can only concatenate str (not \"int\") to str"
     ]
    }
   ],
   "source": [
    "def bubble_sort(arr):\n",
    "    n = len(arr)\n",
    "    k=0\n",
    "    for i in range(n):\n",
    "        t=0\n",
    "        for j in range(n - i - 1):\n",
    "            if arr[j] > arr[j + 1]:\n",
    "                # sorting by using simultaneous assignment in python\n",
    "                arr[j], arr[j + 1] = arr[j + 1], arr[j]\n",
    "            print(f'step={k}:',end=\"\")\n",
    "      \n",
    "            print('Head->',end=\"\")\n",
    "            for i in lst:\n",
    "                print('|'+str(i)+'|'+str(j)+'|->',end=\"\")\n",
    "               \n",
    "            print('None',end=\"\")\n",
    "            print()\n",
    "            k+=1\n",
    "                \n",
    "                \n",
    "\n",
    "                \n",
    "                \n",
    "lst = ['A','A','G','I','A','H','A','S','B','A','H','I','S','P','R']\n",
    "bubble_sort(lst)\n",
    "print('Sorted Output')\n",
    "t=0\n",
    "print('Head->',end=\"\")\n",
    "for i in lst:\n",
    "    print('|'+str(i)+'|'+str(t)+'|->',end=\"\")\n",
    "    t+=1\n",
    "print('None',end=\"\")"
   ]
  },
  {
   "cell_type": "code",
   "execution_count": 34,
   "metadata": {},
   "outputs": [
    {
     "name": "stdout",
     "output_type": "stream",
     "text": [
      "Step 0\n",
      "|I|0|->|A|1|->|H|2|->|A|3|->|S|4|->|B|5|->|A|6|->|H|7|->|I|8|->|S|9|->|P|10|->|R|11|->|A|12|->|A|13|->|G|14|\n",
      "Step 1\n",
      "|A|1|->|I|0|->|H|2|->|A|3|->|S|4|->|B|5|->|A|6|->|H|7|->|I|8|->|S|9|->|P|10|->|R|11|->|A|12|->|A|13|->|G|14|\n",
      "Step 2\n",
      "|A|1|->|I|0|->|H|2|->|A|3|->|S|4|->|B|5|->|A|6|->|H|7|->|I|8|->|S|9|->|P|10|->|R|11|->|A|12|->|A|13|->|G|14|\n",
      "Step 3\n",
      "|A|1|->|I|0|->|H|2|->|A|3|->|S|4|->|B|5|->|A|6|->|H|7|->|I|8|->|S|9|->|P|10|->|R|11|->|A|12|->|A|13|->|G|14|\n",
      "Step 4\n",
      "|A|1|->|I|0|->|H|2|->|A|3|->|S|4|->|B|5|->|A|6|->|H|7|->|I|8|->|S|9|->|P|10|->|R|11|->|A|12|->|A|13|->|G|14|\n",
      "Step 5\n",
      "|A|1|->|I|0|->|H|2|->|A|3|->|S|4|->|B|5|->|A|6|->|H|7|->|I|8|->|S|9|->|P|10|->|R|11|->|A|12|->|A|13|->|G|14|\n",
      "Step 6\n",
      "|A|1|->|I|0|->|H|2|->|A|3|->|S|4|->|B|5|->|A|6|->|H|7|->|I|8|->|S|9|->|P|10|->|R|11|->|A|12|->|A|13|->|G|14|\n",
      "Step 7\n",
      "|A|1|->|I|0|->|H|2|->|A|3|->|S|4|->|B|5|->|A|6|->|H|7|->|I|8|->|S|9|->|P|10|->|R|11|->|A|12|->|A|13|->|G|14|\n",
      "Step 8\n",
      "|A|1|->|I|0|->|H|2|->|A|3|->|S|4|->|B|5|->|A|6|->|H|7|->|I|8|->|S|9|->|P|10|->|R|11|->|A|12|->|A|13|->|G|14|\n",
      "Step 9\n",
      "|A|1|->|I|0|->|H|2|->|A|3|->|S|4|->|B|5|->|A|6|->|H|7|->|I|8|->|S|9|->|P|10|->|R|11|->|A|12|->|A|13|->|G|14|\n",
      "Step 10\n",
      "|A|1|->|I|0|->|H|2|->|A|3|->|S|4|->|B|5|->|A|6|->|H|7|->|I|8|->|S|9|->|P|10|->|R|11|->|A|12|->|A|13|->|G|14|\n",
      "Step 11\n",
      "|A|1|->|I|0|->|H|2|->|A|3|->|S|4|->|B|5|->|A|6|->|H|7|->|I|8|->|S|9|->|P|10|->|R|11|->|A|12|->|A|13|->|G|14|\n",
      "Step 12\n",
      "|A|12|->|I|0|->|H|2|->|A|3|->|S|4|->|B|5|->|A|6|->|H|7|->|I|8|->|S|9|->|P|10|->|R|11|->|A|1|->|A|13|->|G|14|\n",
      "Step 13\n",
      "|A|12|->|I|0|->|H|2|->|A|3|->|S|4|->|B|5|->|A|6|->|H|7|->|I|8|->|S|9|->|P|10|->|R|11|->|A|1|->|A|13|->|G|14|\n",
      "Step 14\n",
      "|A|12|->|I|0|->|H|2|->|A|3|->|S|4|->|B|5|->|A|6|->|H|7|->|I|8|->|S|9|->|P|10|->|R|11|->|A|1|->|A|13|->|G|14|\n",
      "Step 15\n",
      "|A|12|->|H|2|->|I|0|->|A|3|->|S|4|->|B|5|->|A|6|->|H|7|->|I|8|->|S|9|->|P|10|->|R|11|->|A|1|->|A|13|->|G|14|\n",
      "Step 16\n",
      "|A|12|->|A|3|->|I|0|->|H|2|->|S|4|->|B|5|->|A|6|->|H|7|->|I|8|->|S|9|->|P|10|->|R|11|->|A|1|->|A|13|->|G|14|\n",
      "Step 17\n",
      "|A|12|->|A|3|->|I|0|->|H|2|->|S|4|->|B|5|->|A|6|->|H|7|->|I|8|->|S|9|->|P|10|->|R|11|->|A|1|->|A|13|->|G|14|\n",
      "Step 18\n",
      "|A|12|->|A|3|->|I|0|->|H|2|->|S|4|->|B|5|->|A|6|->|H|7|->|I|8|->|S|9|->|P|10|->|R|11|->|A|1|->|A|13|->|G|14|\n",
      "Step 19\n",
      "|A|12|->|A|3|->|I|0|->|H|2|->|S|4|->|B|5|->|A|6|->|H|7|->|I|8|->|S|9|->|P|10|->|R|11|->|A|1|->|A|13|->|G|14|\n",
      "Step 20\n",
      "|A|12|->|A|3|->|I|0|->|H|2|->|S|4|->|B|5|->|A|6|->|H|7|->|I|8|->|S|9|->|P|10|->|R|11|->|A|1|->|A|13|->|G|14|\n",
      "Step 21\n",
      "|A|12|->|A|3|->|I|0|->|H|2|->|S|4|->|B|5|->|A|6|->|H|7|->|I|8|->|S|9|->|P|10|->|R|11|->|A|1|->|A|13|->|G|14|\n",
      "Step 22\n",
      "|A|12|->|A|3|->|I|0|->|H|2|->|S|4|->|B|5|->|A|6|->|H|7|->|I|8|->|S|9|->|P|10|->|R|11|->|A|1|->|A|13|->|G|14|\n",
      "Step 23\n",
      "|A|12|->|A|3|->|I|0|->|H|2|->|S|4|->|B|5|->|A|6|->|H|7|->|I|8|->|S|9|->|P|10|->|R|11|->|A|1|->|A|13|->|G|14|\n",
      "Step 24\n",
      "|A|12|->|A|3|->|I|0|->|H|2|->|S|4|->|B|5|->|A|6|->|H|7|->|I|8|->|S|9|->|P|10|->|R|11|->|A|1|->|A|13|->|G|14|\n",
      "Step 25\n",
      "|A|12|->|A|1|->|I|0|->|H|2|->|S|4|->|B|5|->|A|6|->|H|7|->|I|8|->|S|9|->|P|10|->|R|11|->|A|3|->|A|13|->|G|14|\n",
      "Step 26\n",
      "|A|12|->|A|13|->|I|0|->|H|2|->|S|4|->|B|5|->|A|6|->|H|7|->|I|8|->|S|9|->|P|10|->|R|11|->|A|3|->|A|1|->|G|14|\n",
      "Step 27\n",
      "|A|12|->|A|13|->|I|0|->|H|2|->|S|4|->|B|5|->|A|6|->|H|7|->|I|8|->|S|9|->|P|10|->|R|11|->|A|3|->|A|1|->|G|14|\n",
      "Step 28\n",
      "|A|12|->|A|13|->|H|2|->|I|0|->|S|4|->|B|5|->|A|6|->|H|7|->|I|8|->|S|9|->|P|10|->|R|11|->|A|3|->|A|1|->|G|14|\n",
      "Step 29\n",
      "|A|12|->|A|13|->|H|2|->|I|0|->|S|4|->|B|5|->|A|6|->|H|7|->|I|8|->|S|9|->|P|10|->|R|11|->|A|3|->|A|1|->|G|14|\n",
      "Step 30\n",
      "|A|12|->|A|13|->|B|5|->|I|0|->|S|4|->|H|2|->|A|6|->|H|7|->|I|8|->|S|9|->|P|10|->|R|11|->|A|3|->|A|1|->|G|14|\n",
      "Step 31\n",
      "|A|12|->|A|13|->|A|6|->|I|0|->|S|4|->|H|2|->|B|5|->|H|7|->|I|8|->|S|9|->|P|10|->|R|11|->|A|3|->|A|1|->|G|14|\n",
      "Step 32\n",
      "|A|12|->|A|13|->|A|6|->|I|0|->|S|4|->|H|2|->|B|5|->|H|7|->|I|8|->|S|9|->|P|10|->|R|11|->|A|3|->|A|1|->|G|14|\n",
      "Step 33\n",
      "|A|12|->|A|13|->|A|6|->|I|0|->|S|4|->|H|2|->|B|5|->|H|7|->|I|8|->|S|9|->|P|10|->|R|11|->|A|3|->|A|1|->|G|14|\n",
      "Step 34\n",
      "|A|12|->|A|13|->|A|6|->|I|0|->|S|4|->|H|2|->|B|5|->|H|7|->|I|8|->|S|9|->|P|10|->|R|11|->|A|3|->|A|1|->|G|14|\n",
      "Step 35\n",
      "|A|12|->|A|13|->|A|6|->|I|0|->|S|4|->|H|2|->|B|5|->|H|7|->|I|8|->|S|9|->|P|10|->|R|11|->|A|3|->|A|1|->|G|14|\n",
      "Step 36\n",
      "|A|12|->|A|13|->|A|6|->|I|0|->|S|4|->|H|2|->|B|5|->|H|7|->|I|8|->|S|9|->|P|10|->|R|11|->|A|3|->|A|1|->|G|14|\n",
      "Step 37\n",
      "|A|12|->|A|13|->|A|3|->|I|0|->|S|4|->|H|2|->|B|5|->|H|7|->|I|8|->|S|9|->|P|10|->|R|11|->|A|6|->|A|1|->|G|14|\n",
      "Step 38\n",
      "|A|12|->|A|13|->|A|1|->|I|0|->|S|4|->|H|2|->|B|5|->|H|7|->|I|8|->|S|9|->|P|10|->|R|11|->|A|6|->|A|3|->|G|14|\n",
      "Step 39\n",
      "|A|12|->|A|13|->|A|1|->|I|0|->|S|4|->|H|2|->|B|5|->|H|7|->|I|8|->|S|9|->|P|10|->|R|11|->|A|6|->|A|3|->|G|14|\n",
      "Step 40\n",
      "|A|12|->|A|13|->|A|1|->|I|0|->|S|4|->|H|2|->|B|5|->|H|7|->|I|8|->|S|9|->|P|10|->|R|11|->|A|6|->|A|3|->|G|14|\n",
      "Step 41\n",
      "|A|12|->|A|13|->|A|1|->|H|2|->|S|4|->|I|0|->|B|5|->|H|7|->|I|8|->|S|9|->|P|10|->|R|11|->|A|6|->|A|3|->|G|14|\n",
      "Step 42\n",
      "|A|12|->|A|13|->|A|1|->|B|5|->|S|4|->|I|0|->|H|2|->|H|7|->|I|8|->|S|9|->|P|10|->|R|11|->|A|6|->|A|3|->|G|14|\n",
      "Step 43\n",
      "|A|12|->|A|13|->|A|1|->|B|5|->|S|4|->|I|0|->|H|2|->|H|7|->|I|8|->|S|9|->|P|10|->|R|11|->|A|6|->|A|3|->|G|14|\n",
      "Step 44\n",
      "|A|12|->|A|13|->|A|1|->|B|5|->|S|4|->|I|0|->|H|2|->|H|7|->|I|8|->|S|9|->|P|10|->|R|11|->|A|6|->|A|3|->|G|14|\n",
      "Step 45\n",
      "|A|12|->|A|13|->|A|1|->|B|5|->|S|4|->|I|0|->|H|2|->|H|7|->|I|8|->|S|9|->|P|10|->|R|11|->|A|6|->|A|3|->|G|14|\n",
      "Step 46\n",
      "|A|12|->|A|13|->|A|1|->|B|5|->|S|4|->|I|0|->|H|2|->|H|7|->|I|8|->|S|9|->|P|10|->|R|11|->|A|6|->|A|3|->|G|14|\n",
      "Step 47\n",
      "|A|12|->|A|13|->|A|1|->|B|5|->|S|4|->|I|0|->|H|2|->|H|7|->|I|8|->|S|9|->|P|10|->|R|11|->|A|6|->|A|3|->|G|14|\n",
      "Step 48\n",
      "|A|12|->|A|13|->|A|1|->|A|6|->|S|4|->|I|0|->|H|2|->|H|7|->|I|8|->|S|9|->|P|10|->|R|11|->|B|5|->|A|3|->|G|14|\n",
      "Step 49\n",
      "|A|12|->|A|13|->|A|1|->|A|3|->|S|4|->|I|0|->|H|2|->|H|7|->|I|8|->|S|9|->|P|10|->|R|11|->|B|5|->|A|6|->|G|14|\n",
      "Step 50\n",
      "|A|12|->|A|13|->|A|1|->|A|3|->|S|4|->|I|0|->|H|2|->|H|7|->|I|8|->|S|9|->|P|10|->|R|11|->|B|5|->|A|6|->|G|14|\n",
      "Step 51\n",
      "|A|12|->|A|13|->|A|1|->|A|3|->|I|0|->|S|4|->|H|2|->|H|7|->|I|8|->|S|9|->|P|10|->|R|11|->|B|5|->|A|6|->|G|14|\n",
      "Step 52\n",
      "|A|12|->|A|13|->|A|1|->|A|3|->|H|2|->|S|4|->|I|0|->|H|7|->|I|8|->|S|9|->|P|10|->|R|11|->|B|5|->|A|6|->|G|14|\n",
      "Step 53\n",
      "|A|12|->|A|13|->|A|1|->|A|3|->|H|2|->|S|4|->|I|0|->|H|7|->|I|8|->|S|9|->|P|10|->|R|11|->|B|5|->|A|6|->|G|14|\n",
      "Step 54\n",
      "|A|12|->|A|13|->|A|1|->|A|3|->|H|2|->|S|4|->|I|0|->|H|7|->|I|8|->|S|9|->|P|10|->|R|11|->|B|5|->|A|6|->|G|14|\n",
      "Step 55\n",
      "|A|12|->|A|13|->|A|1|->|A|3|->|H|2|->|S|4|->|I|0|->|H|7|->|I|8|->|S|9|->|P|10|->|R|11|->|B|5|->|A|6|->|G|14|\n",
      "Step 56\n",
      "|A|12|->|A|13|->|A|1|->|A|3|->|H|2|->|S|4|->|I|0|->|H|7|->|I|8|->|S|9|->|P|10|->|R|11|->|B|5|->|A|6|->|G|14|\n",
      "Step 57\n",
      "|A|12|->|A|13|->|A|1|->|A|3|->|H|2|->|S|4|->|I|0|->|H|7|->|I|8|->|S|9|->|P|10|->|R|11|->|B|5|->|A|6|->|G|14|\n",
      "Step 58\n",
      "|A|12|->|A|13|->|A|1|->|A|3|->|B|5|->|S|4|->|I|0|->|H|7|->|I|8|->|S|9|->|P|10|->|R|11|->|H|2|->|A|6|->|G|14|\n",
      "Step 59\n",
      "|A|12|->|A|13|->|A|1|->|A|3|->|A|6|->|S|4|->|I|0|->|H|7|->|I|8|->|S|9|->|P|10|->|R|11|->|H|2|->|B|5|->|G|14|\n",
      "Step 60\n",
      "|A|12|->|A|13|->|A|1|->|A|3|->|A|6|->|S|4|->|I|0|->|H|7|->|I|8|->|S|9|->|P|10|->|R|11|->|H|2|->|B|5|->|G|14|\n",
      "Step 61\n",
      "|A|12|->|A|13|->|A|1|->|A|3|->|A|6|->|I|0|->|S|4|->|H|7|->|I|8|->|S|9|->|P|10|->|R|11|->|H|2|->|B|5|->|G|14|\n",
      "Step 62\n",
      "|A|12|->|A|13|->|A|1|->|A|3|->|A|6|->|H|7|->|S|4|->|I|0|->|I|8|->|S|9|->|P|10|->|R|11|->|H|2|->|B|5|->|G|14|\n",
      "Step 63\n",
      "|A|12|->|A|13|->|A|1|->|A|3|->|A|6|->|H|7|->|S|4|->|I|0|->|I|8|->|S|9|->|P|10|->|R|11|->|H|2|->|B|5|->|G|14|\n",
      "Step 64\n",
      "|A|12|->|A|13|->|A|1|->|A|3|->|A|6|->|H|7|->|S|4|->|I|0|->|I|8|->|S|9|->|P|10|->|R|11|->|H|2|->|B|5|->|G|14|\n",
      "Step 65\n",
      "|A|12|->|A|13|->|A|1|->|A|3|->|A|6|->|H|7|->|S|4|->|I|0|->|I|8|->|S|9|->|P|10|->|R|11|->|H|2|->|B|5|->|G|14|\n",
      "Step 66\n",
      "|A|12|->|A|13|->|A|1|->|A|3|->|A|6|->|H|7|->|S|4|->|I|0|->|I|8|->|S|9|->|P|10|->|R|11|->|H|2|->|B|5|->|G|14|\n",
      "Step 67\n",
      "|A|12|->|A|13|->|A|1|->|A|3|->|A|6|->|H|2|->|S|4|->|I|0|->|I|8|->|S|9|->|P|10|->|R|11|->|H|7|->|B|5|->|G|14|\n",
      "Step 68\n",
      "|A|12|->|A|13|->|A|1|->|A|3|->|A|6|->|B|5|->|S|4|->|I|0|->|I|8|->|S|9|->|P|10|->|R|11|->|H|7|->|H|2|->|G|14|\n",
      "Step 69\n",
      "|A|12|->|A|13|->|A|1|->|A|3|->|A|6|->|B|5|->|S|4|->|I|0|->|I|8|->|S|9|->|P|10|->|R|11|->|H|7|->|H|2|->|G|14|\n",
      "Step 70\n",
      "|A|12|->|A|13|->|A|1|->|A|3|->|A|6|->|B|5|->|I|0|->|S|4|->|I|8|->|S|9|->|P|10|->|R|11|->|H|7|->|H|2|->|G|14|\n",
      "Step 71\n",
      "|A|12|->|A|13|->|A|1|->|A|3|->|A|6|->|B|5|->|I|0|->|S|4|->|I|8|->|S|9|->|P|10|->|R|11|->|H|7|->|H|2|->|G|14|\n",
      "Step 72\n",
      "|A|12|->|A|13|->|A|1|->|A|3|->|A|6|->|B|5|->|I|0|->|S|4|->|I|8|->|S|9|->|P|10|->|R|11|->|H|7|->|H|2|->|G|14|\n",
      "Step 73\n",
      "|A|12|->|A|13|->|A|1|->|A|3|->|A|6|->|B|5|->|I|0|->|S|4|->|I|8|->|S|9|->|P|10|->|R|11|->|H|7|->|H|2|->|G|14|\n",
      "Step 74\n",
      "|A|12|->|A|13|->|A|1|->|A|3|->|A|6|->|B|5|->|I|0|->|S|4|->|I|8|->|S|9|->|P|10|->|R|11|->|H|7|->|H|2|->|G|14|\n",
      "Step 75\n",
      "|A|12|->|A|13|->|A|1|->|A|3|->|A|6|->|B|5|->|H|7|->|S|4|->|I|8|->|S|9|->|P|10|->|R|11|->|I|0|->|H|2|->|G|14|\n",
      "Step 76\n",
      "|A|12|->|A|13|->|A|1|->|A|3|->|A|6|->|B|5|->|H|2|->|S|4|->|I|8|->|S|9|->|P|10|->|R|11|->|I|0|->|H|7|->|G|14|\n",
      "Step 77\n",
      "|A|12|->|A|13|->|A|1|->|A|3|->|A|6|->|B|5|->|G|14|->|S|4|->|I|8|->|S|9|->|P|10|->|R|11|->|I|0|->|H|7|->|H|2|\n",
      "Step 78\n",
      "|A|12|->|A|13|->|A|1|->|A|3|->|A|6|->|B|5|->|G|14|->|I|8|->|S|4|->|S|9|->|P|10|->|R|11|->|I|0|->|H|7|->|H|2|\n",
      "Step 79\n",
      "|A|12|->|A|13|->|A|1|->|A|3|->|A|6|->|B|5|->|G|14|->|I|8|->|S|4|->|S|9|->|P|10|->|R|11|->|I|0|->|H|7|->|H|2|\n",
      "Step 80\n",
      "|A|12|->|A|13|->|A|1|->|A|3|->|A|6|->|B|5|->|G|14|->|I|8|->|S|4|->|S|9|->|P|10|->|R|11|->|I|0|->|H|7|->|H|2|\n",
      "Step 81\n",
      "|A|12|->|A|13|->|A|1|->|A|3|->|A|6|->|B|5|->|G|14|->|I|8|->|S|4|->|S|9|->|P|10|->|R|11|->|I|0|->|H|7|->|H|2|\n",
      "Step 82\n",
      "|A|12|->|A|13|->|A|1|->|A|3|->|A|6|->|B|5|->|G|14|->|I|0|->|S|4|->|S|9|->|P|10|->|R|11|->|I|8|->|H|7|->|H|2|\n",
      "Step 83\n",
      "|A|12|->|A|13|->|A|1|->|A|3|->|A|6|->|B|5|->|G|14|->|H|7|->|S|4|->|S|9|->|P|10|->|R|11|->|I|8|->|I|0|->|H|2|\n",
      "Step 84\n",
      "|A|12|->|A|13|->|A|1|->|A|3|->|A|6|->|B|5|->|G|14|->|H|2|->|S|4|->|S|9|->|P|10|->|R|11|->|I|8|->|I|0|->|H|7|\n",
      "Step 85\n",
      "|A|12|->|A|13|->|A|1|->|A|3|->|A|6|->|B|5|->|G|14|->|H|2|->|S|4|->|S|9|->|P|10|->|R|11|->|I|8|->|I|0|->|H|7|\n",
      "Step 86\n",
      "|A|12|->|A|13|->|A|1|->|A|3|->|A|6|->|B|5|->|G|14|->|H|2|->|P|10|->|S|9|->|S|4|->|R|11|->|I|8|->|I|0|->|H|7|\n",
      "Step 87\n",
      "|A|12|->|A|13|->|A|1|->|A|3|->|A|6|->|B|5|->|G|14|->|H|2|->|P|10|->|S|9|->|S|4|->|R|11|->|I|8|->|I|0|->|H|7|\n",
      "Step 88\n",
      "|A|12|->|A|13|->|A|1|->|A|3|->|A|6|->|B|5|->|G|14|->|H|2|->|I|8|->|S|9|->|S|4|->|R|11|->|P|10|->|I|0|->|H|7|\n",
      "Step 89\n",
      "|A|12|->|A|13|->|A|1|->|A|3|->|A|6|->|B|5|->|G|14|->|H|2|->|I|0|->|S|9|->|S|4|->|R|11|->|P|10|->|I|8|->|H|7|\n",
      "Step 90\n",
      "|A|12|->|A|13|->|A|1|->|A|3|->|A|6|->|B|5|->|G|14|->|H|2|->|H|7|->|S|9|->|S|4|->|R|11|->|P|10|->|I|8|->|I|0|\n",
      "Step 91\n",
      "|A|12|->|A|13|->|A|1|->|A|3|->|A|6|->|B|5|->|G|14|->|H|2|->|H|7|->|S|4|->|S|9|->|R|11|->|P|10|->|I|8|->|I|0|\n",
      "Step 92\n",
      "|A|12|->|A|13|->|A|1|->|A|3|->|A|6|->|B|5|->|G|14|->|H|2|->|H|7|->|R|11|->|S|9|->|S|4|->|P|10|->|I|8|->|I|0|\n",
      "Step 93\n",
      "|A|12|->|A|13|->|A|1|->|A|3|->|A|6|->|B|5|->|G|14|->|H|2|->|H|7|->|P|10|->|S|9|->|S|4|->|R|11|->|I|8|->|I|0|\n",
      "Step 94\n",
      "|A|12|->|A|13|->|A|1|->|A|3|->|A|6|->|B|5|->|G|14|->|H|2|->|H|7|->|I|8|->|S|9|->|S|4|->|R|11|->|P|10|->|I|0|\n",
      "Step 95\n",
      "|A|12|->|A|13|->|A|1|->|A|3|->|A|6|->|B|5|->|G|14|->|H|2|->|H|7|->|I|0|->|S|9|->|S|4|->|R|11|->|P|10|->|I|8|\n",
      "Step 96\n",
      "|A|12|->|A|13|->|A|1|->|A|3|->|A|6|->|B|5|->|G|14|->|H|2|->|H|7|->|I|0|->|S|4|->|S|9|->|R|11|->|P|10|->|I|8|\n",
      "Step 97\n",
      "|A|12|->|A|13|->|A|1|->|A|3|->|A|6|->|B|5|->|G|14|->|H|2|->|H|7|->|I|0|->|R|11|->|S|9|->|S|4|->|P|10|->|I|8|\n",
      "Step 98\n",
      "|A|12|->|A|13|->|A|1|->|A|3|->|A|6|->|B|5|->|G|14|->|H|2|->|H|7|->|I|0|->|P|10|->|S|9|->|S|4|->|R|11|->|I|8|\n",
      "Step 99\n",
      "|A|12|->|A|13|->|A|1|->|A|3|->|A|6|->|B|5|->|G|14|->|H|2|->|H|7|->|I|0|->|I|8|->|S|9|->|S|4|->|R|11|->|P|10|\n",
      "Step 100\n",
      "|A|12|->|A|13|->|A|1|->|A|3|->|A|6|->|B|5|->|G|14|->|H|2|->|H|7|->|I|0|->|I|8|->|S|4|->|S|9|->|R|11|->|P|10|\n",
      "Step 101\n",
      "|A|12|->|A|13|->|A|1|->|A|3|->|A|6|->|B|5|->|G|14|->|H|2|->|H|7|->|I|0|->|I|8|->|R|11|->|S|9|->|S|4|->|P|10|\n",
      "Step 102\n",
      "|A|12|->|A|13|->|A|1|->|A|3|->|A|6|->|B|5|->|G|14|->|H|2|->|H|7|->|I|0|->|I|8|->|P|10|->|S|9|->|S|4|->|R|11|\n",
      "Step 103\n",
      "|A|12|->|A|13|->|A|1|->|A|3|->|A|6|->|B|5|->|G|14|->|H|2|->|H|7|->|I|0|->|I|8|->|P|10|->|S|4|->|S|9|->|R|11|\n",
      "Step 104\n",
      "|A|12|->|A|13|->|A|1|->|A|3|->|A|6|->|B|5|->|G|14|->|H|2|->|H|7|->|I|0|->|I|8|->|P|10|->|R|11|->|S|9|->|S|4|\n",
      "Step 105\n",
      "|A|12|->|A|13|->|A|1|->|A|3|->|A|6|->|B|5|->|G|14|->|H|2|->|H|7|->|I|0|->|I|8|->|P|10|->|R|11|->|S|4|->|S|9|\n"
     ]
    }
   ],
   "source": [
    "# Programmers_Hive\n",
    "\n",
    "class Node:\n",
    "\n",
    "    def __init__(self,data):\n",
    "        self.data=data\n",
    "        self.next=None\n",
    "\n",
    "class MyList:\n",
    "\n",
    "    def __init__(self,lst=None):\n",
    "        self.head=None\n",
    "        self.tail=None\n",
    "        self.k=0\n",
    "        if lst is not None:\n",
    "            for i in range(len(lst)):\n",
    "                s='|'+str(lst[i])+\"|\"+str(i)+\"|\"\n",
    "                node=Node(s)\n",
    "                if self.head==None:\n",
    "                    self.head=node\n",
    "                    self.tail=node\n",
    "                else:\n",
    "                    self.tail.next=node\n",
    "                    self.tail=node\n",
    "    def showList(self):\n",
    "        print('Step',self.k)\n",
    "        p=self.head\n",
    "       # print(self.tail.data)\n",
    "        while p.next!=None:\n",
    "            print(p.data,end=\"->\")\n",
    "            p=p.next\n",
    "        print(p.data)\n",
    "        self.k+=1\n",
    "\n",
    "\n",
    "    def even(self):\n",
    "        head = None\n",
    "        tail = None\n",
    "        p = self.head\n",
    "        while p:\n",
    "            node = Node(p.data)\n",
    "            if p.data % 2 == 0:\n",
    "                if head == None:\n",
    "                    head = node\n",
    "                    tail = node\n",
    "                else:\n",
    "\n",
    "                    tail.next = node\n",
    "\n",
    "                    tail = node\n",
    "\n",
    "            p = p.next\n",
    "\n",
    "        while head.next!=None:\n",
    "            print(head.data, end=\"->\")\n",
    "            head = head.next\n",
    "        print(head.data)\n",
    "    def remove(self,key):\n",
    "        if key==0:\n",
    "            if self.head==None:\n",
    "                print(\"List deosnt exist\")\n",
    "                return\n",
    "            else:\n",
    "                n=self.head\n",
    "                self.head=n.next\n",
    "                n.next=None\n",
    "            return\n",
    "        n=self.head\n",
    "        c=0\n",
    "        while n:\n",
    "            if key-1==c:\n",
    "                break\n",
    "            n=n.next\n",
    "            c+=1\n",
    "        if n is None:\n",
    "            print(\"Index out of bound\")\n",
    "            return\n",
    "        node=n.next\n",
    "        n.next=node.next\n",
    "        node.next=None\n",
    "    def find(self,x):\n",
    "        p=self.head\n",
    "        while p:\n",
    "            if p.data==x:\n",
    "                return True\n",
    "            p=p.next\n",
    "        return False\n",
    "    def reverse(self):\n",
    "        curr=self.head\n",
    "        prev=None\n",
    "        while curr:\n",
    "            next,curr.next=curr.next,prev\n",
    "            prev,curr=curr,next\n",
    "\n",
    "        self.head=prev\n",
    "        p=self.head\n",
    "        while p.next:\n",
    "            p=p.next\n",
    "\n",
    "        self.tail=p\n",
    "\n",
    "    def sort(self):#Bubble sort technique\n",
    "        i=self.head\n",
    "        j=None\n",
    "        while i:\n",
    "            j=i.next\n",
    "            while j:\n",
    "                if i.data> j.data:\n",
    "                    i.data,j.data=j.data,i.data\n",
    "                j=j.next\n",
    "                llst.showList()\n",
    "            i=i.next\n",
    "\n",
    "        #print(self.tail.data)\n",
    "    def sum(self):\n",
    "        p=self.head\n",
    "        sum=0\n",
    "        while p:\n",
    "            sum+=p.data\n",
    "            p=p.next\n",
    "        return sum\n",
    "    def rotate(self,s,k):\n",
    "        i=0\n",
    "        if s==\"left\":\n",
    "            while i<k:\n",
    "                p=self.head\n",
    "                q=p.next\n",
    "                self.head=q\n",
    "\n",
    "                while q.next:\n",
    "                    q=q.next\n",
    "                node=Node(p.data)\n",
    "                node.next=q.next\n",
    "                q.next=node\n",
    "                i+=1\n",
    "                llst.showList()\n",
    "        else:\n",
    "            p=self.head\n",
    "            c=0\n",
    "            while p:\n",
    "                c+=1\n",
    "                p=p.next\n",
    "            new_k=c-k\n",
    "            i=0\n",
    "            while i<new_k:\n",
    "                p=self.head\n",
    "                q=p.next\n",
    "                self.head=q\n",
    "\n",
    "                while q.next:\n",
    "                    q=q.next\n",
    "                node=Node(p.data)\n",
    "                node.next=q.next\n",
    "                q.next=node\n",
    "                i+=1\n",
    "               # llst.showList()\n",
    "    def insert(self,val,x=None):\n",
    "        if x is None:\n",
    "            n=Node(val)\n",
    "            if self.head==None:\n",
    "                self.head=n\n",
    "                self.tail=n\n",
    "                return\n",
    "            self.tail.next=n\n",
    "            self.tail=n\n",
    "            return\n",
    "        else:\n",
    "            n = self.head\n",
    "            c=0\n",
    "            while n is not None:\n",
    "                if x-1 == c:\n",
    "                    break\n",
    "                n = n.next\n",
    "                c+=1\n",
    "            if n is None:\n",
    "                print(\"Index out of bound\")\n",
    "                return\n",
    "\n",
    "            node = Node(val)\n",
    "            node.next = n.next\n",
    "            n.next = node\n",
    "\n",
    "if __name__=='__main__':\n",
    "    MyList()\n",
    "    s = ['I','A','H','A','S','B','A','H','I','S','P','R','A','A','G']\n",
    "\n",
    "    l1 = []\n",
    "    for i in s:\n",
    "        if i !=\" \":\n",
    "            l1.append(i)\n",
    "    llst=MyList(s)\n",
    "    llst.showList()\n",
    "    llst.sort()\n"
   ]
  },
  {
   "cell_type": "code",
   "execution_count": 48,
   "metadata": {},
   "outputs": [
    {
     "name": "stdout",
     "output_type": "stream",
     "text": [
      "x⇌1⇌2⇌3⇌4⇌5\n",
      "x⇌1⇌2⇌50⇌3⇌4⇌5\n"
     ]
    }
   ],
   "source": [
    "class Node:\n",
    "    def __init__(self,data):\n",
    "        self.data=data\n",
    "        self.next=None\n",
    "        self.prev=None\n",
    "def MyList(lst):\n",
    "\n",
    "    head = None\n",
    "    tail = None\n",
    "    node=Node(\"x\")\n",
    "    head=node\n",
    "    tail=node\n",
    "\n",
    "    for i in lst:\n",
    "\n",
    "        node = Node(i)\n",
    "\n",
    "        if(head == None):\n",
    "\n",
    "            head = node\n",
    "\n",
    "            tail = node\n",
    "\n",
    "        else:\n",
    "\n",
    "            tail.next = node\n",
    "            node.prev=tail\n",
    "            tail = node\n",
    "    tail.next=head\n",
    "    tail.next.prev=head\n",
    "    return head\n",
    "\n",
    "def prt(head):\n",
    "    n=head\n",
    "    while n.next is not head:\n",
    "        print(n.data,end=\"⇌\")\n",
    "        n=n.next\n",
    "    print(n.data)\n",
    "    \n",
    "def insertBefore(head, elem, newElement):\n",
    "    tmp = head\n",
    "    while tmp !=None:\n",
    "        if tmp.data == elem:\n",
    "            break\n",
    "        tmp = tmp.next\n",
    "    if tmp== None:\n",
    "        print(\"item not in the list\")\n",
    "    else:\n",
    "        new_node = Node(newElement)\n",
    "        new_node.next = tmp\n",
    "        new_node.prev = tmp.prev\n",
    "        if tmp.prev != None:\n",
    "            tmp.prev.next = new_node\n",
    "        tmp.prev = new_node\n",
    "\n",
    "\n",
    "x=[1,2,3,4,5]\n",
    "lst=MyList(x)\n",
    "prt(lst)\n",
    "insertBefore(lst,3,50)\n",
    "prt(lst)"
   ]
  }
 ],
 "metadata": {
  "kernelspec": {
   "display_name": "Python 3",
   "language": "python",
   "name": "python3"
  },
  "language_info": {
   "codemirror_mode": {
    "name": "ipython",
    "version": 3
   },
   "file_extension": ".py",
   "mimetype": "text/x-python",
   "name": "python",
   "nbconvert_exporter": "python",
   "pygments_lexer": "ipython3",
   "version": "3.7.6"
  }
 },
 "nbformat": 4,
 "nbformat_minor": 4
}
