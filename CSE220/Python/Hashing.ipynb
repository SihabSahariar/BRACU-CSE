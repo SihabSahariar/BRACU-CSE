{
 "cells": [
  {
   "cell_type": "code",
   "execution_count": 85,
   "metadata": {},
   "outputs": [
    {
     "name": "stdout",
     "output_type": "stream",
     "text": [
      "3\n"
     ]
    }
   ],
   "source": [
    "#Task1\n",
    "def powerN(n,r):\n",
    "    if r<=1:\n",
    "        return n\n",
    "    return n*powerN(n,r-1)\n",
    "\n",
    "\n",
    "num = powerN(3,0)\n",
    "print(num)"
   ]
  },
  {
   "cell_type": "code",
   "execution_count": null,
   "metadata": {},
   "outputs": [],
   "source": [
    "#Task2 (khata)\n",
    "class Trace:\n",
    "    def hMB(self,h):\n",
    "        if (h==0):\n",
    "            print(\"Stop: \",h)\n",
    "            return 0\n",
    "        elif(h==1):\n",
    "            print(\"Stop: \",h)\n",
    "            return h\n",
    "        else:\n",
    "            print(\"Continue: \",h)\n",
    "            return h + self.hMB(h-1)\n",
    "#Tester\n",
    "t = Trace()\n",
    "print(\"Finally \",t.hMB(5))"
   ]
  },
  {
   "cell_type": "code",
   "execution_count": 86,
   "metadata": {},
   "outputs": [
    {
     "data": {
      "text/plain": [
       "20"
      ]
     },
     "execution_count": 86,
     "metadata": {},
     "output_type": "execute_result"
    }
   ],
   "source": [
    "#Task3\n",
    "def hocBuilder(height):\n",
    "    if height<8:\n",
    "        return 0 \n",
    "    return 1+hocBuilder(height-5)\n",
    "\n",
    "\n",
    "hocBuilder(103)"
   ]
  },
  {
   "cell_type": "code",
   "execution_count": null,
   "metadata": {},
   "outputs": [],
   "source": [
    "#Task4\n",
    "\n",
    "class Surprise:\n",
    "    def mystery(self,n):\n",
    "        print(\"h(\" ,n,\")\")\n",
    "        if(n==0):\n",
    "            print(\"value: 0\")\n",
    "            return 0\n",
    "        else:\n",
    "            print(\"going down\")\n",
    "            temp = self.mystery(n-1)+1\n",
    "            print(\"h(\",n,\") --> \",temp)\n",
    "            return temp\n",
    "#Tester\n",
    "s = Surprise()\n",
    "s.mystery(4)"
   ]
  },
  {
   "cell_type": "code",
   "execution_count": 87,
   "metadata": {},
   "outputs": [
    {
     "name": "stdout",
     "output_type": "stream",
     "text": [
      "1 \n",
      "1 2 \n",
      "1 2 3 \n",
      "1 2 3 4 \n",
      "1 2 3 4 5 \n"
     ]
    }
   ],
   "source": [
    "#Task5(a)\n",
    "\n",
    "def pattern1(size,i=0):\n",
    "    if i==size:\n",
    "        return \n",
    "    else:\n",
    "        for j in range(i+1):\n",
    "            print(j+1,end =\" \")\n",
    "        print()\n",
    "        return pattern1(size,i+1)\n",
    "    \n",
    "pattern1(5)"
   ]
  },
  {
   "cell_type": "code",
   "execution_count": 88,
   "metadata": {},
   "outputs": [
    {
     "name": "stdout",
     "output_type": "stream",
     "text": [
      "          1 \n",
      "        1 2 \n",
      "      1 2 3 \n",
      "    1 2 3 4 \n",
      "  1 2 3 4 5 \n"
     ]
    }
   ],
   "source": [
    "#Task5(b)\n",
    "def pattern2(size,i=0):\n",
    "    if i==size:\n",
    "        return\n",
    "    else:\n",
    "        for k in range(size-i): #space\n",
    "            print(\" \",end=\" \")\n",
    "            \n",
    "        for j in range(i+1): #number\n",
    "            print(j+1,end=\" \")\n",
    "        print()\n",
    "        return pattern2(size,i+1)\n",
    "    \n",
    "pattern2(5)\n"
   ]
  },
  {
   "cell_type": "code",
   "execution_count": 89,
   "metadata": {},
   "outputs": [
    {
     "name": "stdout",
     "output_type": "stream",
     "text": [
      "1. Investment: 25000; Profit: 0.0\n",
      "2. Investment: 100000; Profit: 3375.0\n",
      "3. Investment: 250000; Profit: 15375.0\n",
      "4. Investment: 350000; Profit: 23375.0\n"
     ]
    }
   ],
   "source": [
    "#Task6\n",
    "class FinalQ:\n",
    "    def print(self,array,idx):\n",
    "        if idx<len(array):\n",
    "            profit = self.calcProfit(array[idx])\n",
    "            final_res = str(idx+1)+\". Investment: \"+str(array[idx])+\"; Profit: \"+str(profit)\n",
    "            print(final_res)\n",
    "            self.print(array,idx+1)\n",
    "\n",
    "    def calcProfit(self,investment):\n",
    "        if investment<=25000:\n",
    "            return 0.0\n",
    "        elif investment<=100000:\n",
    "            return 45 + self.calcProfit(investment-1000) \n",
    "        return 80 + self.calcProfit(investment-1000) \n",
    "\n",
    "#Tester\n",
    "array=[25000,100000,250000,350000]\n",
    "f = FinalQ()\n",
    "f.print(array,0)\n",
    "\n",
    "\n"
   ]
  },
  {
   "cell_type": "code",
   "execution_count": null,
   "metadata": {},
   "outputs": [],
   "source": [
    "#Task7\n",
    "\n",
    "def SmallerSearch(array,left,right,key):\n",
    "    count = 0\n",
    "    while (left <= right):\n",
    "        mid = (right + left) // 2\n",
    "        if (array[mid] <= key):\n",
    "            count = mid + 1\n",
    "            left = mid + 1\n",
    "        else:\n",
    "            right = mid - 1\n",
    "    return count\n",
    "    \n",
    "    \n",
    "size1 = int(input())\n",
    "size2 = int(input())\n",
    "lst1 = []\n",
    "lst2 = []\n",
    "for i in range(size1):\n",
    "    lst1+=[int(input())]\n",
    "for j in range(size2):\n",
    "    lst2+=[int(input())]\n",
    "    \n",
    "left = 0\n",
    "right = len(lst1)-1\n",
    "for i in lst2:\n",
    "    count_no = SmallerSearch(lst1,left,right, i)   \n",
    "    print(count_no,end=\" \")"
   ]
  },
  {
   "cell_type": "raw",
   "metadata": {},
   "source": [
    "SmallerSearch(array,left,right,key)\n",
    "    count<- 0\n",
    "    while left <= right do\n",
    "        mid<- (right + left) / 2\n",
    "        if array[mid] <= key then\n",
    "            count <- mid + 1\n",
    "            left <- mid + 1\n",
    "        else \n",
    "            right <- mid - 1\n",
    "    end while\n",
    "    return count\n",
    "    \n",
    "    \n",
    "size1 <- int(input())\n",
    "size2 <- int(input())\n",
    "lst1 <- []\n",
    "lst2 <- []\n",
    "for i in range(size1):\n",
    "    lst1+=[int(input())]\n",
    "for j in range(size2):\n",
    "    lst2+=[int(input())]\n",
    "    \n",
    "left <- 0\n",
    "right <- len(lst1)-1\n",
    "for i in lst2:\n",
    "    count_no <- SmallerSearch(lst1,left,right, i)   \n",
    "    Print count_no"
   ]
  },
  {
   "cell_type": "code",
   "execution_count": 84,
   "metadata": {},
   "outputs": [
    {
     "name": "stdout",
     "output_type": "stream",
     "text": [
      "2\n"
     ]
    }
   ],
   "source": [
    "def fillArray(n):\n",
    "    lst = [i for i in range(1,n+1)]\n",
    "    return lst\n",
    "\n",
    "def Friday_Game(lst,di,i=0,dj=0):\n",
    "    if len(lst)==1:\n",
    "        return lst[0]\n",
    "    elif di[dj]==1 or di[dj]==3 or di[dj]==5 or di[dj]==6:\n",
    "        \n",
    "        i= (i+1) % len(lst)\n",
    "        dj= (dj+1)%len(di) \n",
    "        \n",
    "    elif di[dj]==2 or di[dj]==4:\n",
    "        lst.pop(i) \n",
    "        \n",
    "        i= (i+1) % len(lst)\n",
    "        dj= (dj+1)%len(di)\n",
    "        \n",
    "    return Friday_Game(lst,di,i,dj)\n",
    "\n",
    "\n",
    "n = 3\n",
    "dice = '152'\n",
    "lst =fillArray(n)\n",
    "dice=[int(i) for i in dice]\n",
    "print(Friday_Game(dice, lst))"
   ]
  }
 ],
 "metadata": {
  "kernelspec": {
   "display_name": "Python 3",
   "language": "python",
   "name": "python3"
  },
  "language_info": {
   "codemirror_mode": {
    "name": "ipython",
    "version": 3
   },
   "file_extension": ".py",
   "mimetype": "text/x-python",
   "name": "python",
   "nbconvert_exporter": "python",
   "pygments_lexer": "ipython3",
   "version": "3.7.6"
  }
 },
 "nbformat": 4,
 "nbformat_minor": 4
}
