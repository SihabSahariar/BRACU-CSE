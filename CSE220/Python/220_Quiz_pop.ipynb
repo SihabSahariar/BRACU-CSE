{
 "cells": [
  {
   "cell_type": "code",
   "execution_count": 4,
   "metadata": {},
   "outputs": [
    {
     "data": {
      "text/plain": [
       "33"
      ]
     },
     "execution_count": 4,
     "metadata": {},
     "output_type": "execute_result"
    }
   ],
   "source": [
    "class Task:\n",
    "\n",
    "    def max_total_nodes(self,height,level):\n",
    "        return 2*height-1\n",
    "    def max_internal_nodes(self,height,level):\n",
    "        return 2**level\n",
    "    def max_external_nodes(self,height,level):\n",
    "        return self.max_internal_nodes(height,level)+1\n",
    "\n",
    "    \n",
    "x = Task()\n",
    "x.max_external_nodes(4,5)"
   ]
  }
 ],
 "metadata": {
  "kernelspec": {
   "display_name": "Python 3",
   "language": "python",
   "name": "python3"
  },
  "language_info": {
   "codemirror_mode": {
    "name": "ipython",
    "version": 3
   },
   "file_extension": ".py",
   "mimetype": "text/x-python",
   "name": "python",
   "nbconvert_exporter": "python",
   "pygments_lexer": "ipython3",
   "version": "3.7.6"
  }
 },
 "nbformat": 4,
 "nbformat_minor": 4
}
