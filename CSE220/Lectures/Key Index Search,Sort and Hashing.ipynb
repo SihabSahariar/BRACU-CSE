{
 "cells": [
  {
   "cell_type": "code",
   "execution_count": 26,
   "metadata": {},
   "outputs": [
    {
     "name": "stdout",
     "output_type": "stream",
     "text": [
      "[1, 3, 5, 8, 9]\n"
     ]
    }
   ],
   "source": [
    "def IndexSort(array):\n",
    "    mx = array[0]\n",
    "    for i in range(len(array)):\n",
    "        if array[i]>mx:\n",
    "            mx = array[i]\n",
    "    \n",
    "    new_array=[0]*mx+[0]\n",
    "    #print(new_array)\n",
    "    for j in range(len(array)):\n",
    "        new_array[array[j]]+=1\n",
    "    i=0\n",
    "    c=0     \n",
    "    while(i<mx+1):\n",
    "        if(new_array[i]>0):\n",
    "            array[c]=i\n",
    "            c+=1\n",
    "            new_array[i]-=1\n",
    "        else:\n",
    "            i+=1\n",
    "            \n",
    "    return array\n",
    "\n",
    "            \n",
    "id = [3,5,8,9,1]\n",
    "IndexSort(id)\n",
    "print(id)"
   ]
  },
  {
   "cell_type": "code",
   "execution_count": null,
   "metadata": {},
   "outputs": [],
   "source": [
    "#Lab07"
   ]
  },
  {
   "cell_type": "code",
   "execution_count": 82,
   "metadata": {},
   "outputs": [
    {
     "name": "stdout",
     "output_type": "stream",
     "text": [
      "[-6, -3, -1, 4, 5]\n",
      "True\n"
     ]
    }
   ],
   "source": [
    "#Task1\n",
    "class KeyIndex:\n",
    "    def __init__(self,array):\n",
    "        self.arr = []\n",
    "        for i in array:\n",
    "            self.arr+=[i]\n",
    "\n",
    "\n",
    "    def sort(self):\n",
    "        mx = self.arr[0]\n",
    "        mn = self.arr[0]\n",
    "        for i in range(len(self.arr)):\n",
    "            if self.arr[i]>mx:\n",
    "                mx = self.arr[i]\n",
    "            if self.arr[i] <mn:\n",
    "                mn = self.arr[i]\n",
    "                \n",
    "        new_arr = [0]*(mx-mn+1)\n",
    "        i=0\n",
    "        while(i<len(self.arr)):\n",
    "            new_arr[self.arr[i]-mn]+=1\n",
    "            i+=1\n",
    "            \n",
    "        k= 0\n",
    "        for j in range(mn,mx+1):\n",
    "            i = 0\n",
    "            for i in range(new_arr[j-mn]):\n",
    "                self.arr[k] = j;\n",
    "                k+=1\n",
    "        return self.arr\n",
    "    \n",
    "    \n",
    "    def search(self,val):\n",
    "        mx = self.arr[0]\n",
    "        mn = self.arr[0]\n",
    "        for i in range(len(self.arr)):\n",
    "            if self.arr[i]>mx:\n",
    "                mx = self.arr[i]\n",
    "            if self.arr[i] <mn:\n",
    "                mn = self.arr[i]\n",
    "        new= [0]*(mx-mn+1)\n",
    "        for i in range(len(self.arr)):\n",
    "            new[self.arr[i]-mn]=True  \n",
    "        if val<mn or val>mx:\n",
    "            return False\n",
    "        return new[val-mn]!=0\n",
    "            \n",
    "if __name__ ==\"__main__\":   \n",
    "    #Class constructor \n",
    "    obj1 = KeyIndex([-1,-3,-6,4,5])  \n",
    "    \n",
    "    #Sort the array \n",
    "    obj1.sort()\n",
    "    print(obj1.arr)\n",
    "    \n",
    "    #Search the value\n",
    "    key = obj1.search(-3)\n",
    "    print(key)"
   ]
  },
  {
   "cell_type": "code",
   "execution_count": 86,
   "metadata": {},
   "outputs": [
    {
     "name": "stdout",
     "output_type": "stream",
     "text": [
      "e\n",
      "w\n",
      "e\n",
      "t\n",
      "d\n",
      "g\n",
      "x\n",
      "y\n",
      "\n"
     ]
    },
    {
     "ename": "IndexError",
     "evalue": "list index out of range",
     "output_type": "error",
     "traceback": [
      "\u001b[1;31m---------------------------------------------------------------------------\u001b[0m",
      "\u001b[1;31mIndexError\u001b[0m                                Traceback (most recent call last)",
      "\u001b[1;32m<ipython-input-86-9388a908166f>\u001b[0m in \u001b[0;36m<module>\u001b[1;34m\u001b[0m\n\u001b[0;32m     25\u001b[0m     \u001b[0mres\u001b[0m \u001b[1;33m=\u001b[0m \u001b[1;33m(\u001b[0m\u001b[0malpha\u001b[0m\u001b[1;33m*\u001b[0m\u001b[1;36m24\u001b[0m\u001b[1;33m+\u001b[0m\u001b[0msom\u001b[0m\u001b[1;33m)\u001b[0m\u001b[1;33m%\u001b[0m\u001b[1;36m9\u001b[0m\u001b[1;33m\u001b[0m\u001b[1;33m\u001b[0m\u001b[0m\n\u001b[0;32m     26\u001b[0m     \u001b[1;32mwhile\u001b[0m \u001b[1;32mTrue\u001b[0m\u001b[1;33m:\u001b[0m\u001b[1;33m\u001b[0m\u001b[1;33m\u001b[0m\u001b[0m\n\u001b[1;32m---> 27\u001b[1;33m         \u001b[1;32mif\u001b[0m \u001b[0mhash\u001b[0m\u001b[1;33m[\u001b[0m\u001b[0mres\u001b[0m\u001b[1;33m]\u001b[0m \u001b[1;33m==\u001b[0m\u001b[1;34m\"\"\u001b[0m\u001b[1;33m:\u001b[0m\u001b[1;33m\u001b[0m\u001b[1;33m\u001b[0m\u001b[0m\n\u001b[0m\u001b[0;32m     28\u001b[0m             \u001b[0mhash\u001b[0m\u001b[1;33m[\u001b[0m\u001b[0mx\u001b[0m\u001b[1;33m]\u001b[0m \u001b[1;33m=\u001b[0m \u001b[0mlst\u001b[0m\u001b[1;33m[\u001b[0m\u001b[0mi\u001b[0m\u001b[1;33m]\u001b[0m\u001b[1;33m\u001b[0m\u001b[1;33m\u001b[0m\u001b[0m\n\u001b[0;32m     29\u001b[0m             \u001b[1;32mbreak\u001b[0m\u001b[1;33m\u001b[0m\u001b[1;33m\u001b[0m\u001b[0m\n",
      "\u001b[1;31mIndexError\u001b[0m: list index out of range"
     ]
    }
   ],
   "source": [
    "#Task2\n",
    "n = 9\n",
    "lst = []\n",
    "hash = []\n",
    "for i in range(n):\n",
    "    k = input()\n",
    "    lst+=[k]\n",
    "i =0\n",
    "while i<len(lst):\n",
    "    alpha =0\n",
    "    som = 0\n",
    "    j = 0\n",
    "    while j<len(lst[i]):\n",
    "        if lst[i][j] >='0':\n",
    "            if lst[i][j]<='9':\n",
    "                sum = int(lst[i][j])-48\n",
    "                som+=sum\n",
    "        else:\n",
    "            if lst[i][j] not in 'AEIOU':\n",
    "                alpha+=1\n",
    "        j+=1\n",
    "    \n",
    "\n",
    "    \n",
    "    res = (alpha*24+som)%9\n",
    "    while True:\n",
    "        if hash[res] ==\"\":\n",
    "            hash[x] = lst[i]\n",
    "            break\n",
    "        x = (x+1)%n\n",
    "        \n",
    "    for i in hash:\n",
    "        print(i,end=\"\")\n",
    "                \n",
    "    \n",
    "            \n",
    "        \n",
    "    \n",
    "    \n"
   ]
  }
 ],
 "metadata": {
  "kernelspec": {
   "display_name": "Python 3",
   "language": "python",
   "name": "python3"
  },
  "language_info": {
   "codemirror_mode": {
    "name": "ipython",
    "version": 3
   },
   "file_extension": ".py",
   "mimetype": "text/x-python",
   "name": "python",
   "nbconvert_exporter": "python",
   "pygments_lexer": "ipython3",
   "version": "3.7.6"
  }
 },
 "nbformat": 4,
 "nbformat_minor": 4
}
