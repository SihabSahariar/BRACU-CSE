{
 "cells": [
  {
   "cell_type": "code",
   "execution_count": 1,
   "metadata": {},
   "outputs": [
    {
     "name": "stdout",
     "output_type": "stream",
     "text": [
      "[40, 50, 60, 0, 0, 0]\n"
     ]
    }
   ],
   "source": [
    "#Task1-Shift Left k Cells\n",
    "def shiftLeft(source,k):\n",
    "    j=0\n",
    "    while j<k:\n",
    "        i = 1\n",
    "        while i<len(source):\n",
    "            source[i-1] = source[i]\n",
    "            i+=1\n",
    "        source[-1] = 0\n",
    "        j+=1\n",
    "    print(source)\n",
    "    return #source\n",
    "\n",
    "source=[10,20,30,40,50,60]\n",
    "shiftLeft(source,3)"
   ]
  },
  {
   "cell_type": "code",
   "execution_count": 2,
   "metadata": {},
   "outputs": [
    {
     "name": "stdout",
     "output_type": "stream",
     "text": [
      "[45, 25, 5, 19, 7, 5, 26, 25, 17, 52, 25, 0, 0]\n"
     ]
    }
   ],
   "source": [
    "#Task2-Rotate Left k cells\n",
    "\n",
    "def rotateLeft(source,k):\n",
    "    j =0\n",
    "    while j<k:\n",
    "        \n",
    "        i = 1\n",
    "        lost = source[0]\n",
    "        while i<len(source):\n",
    "            source[i-1] = source[i]\n",
    "            i+=1\n",
    "        source[-1] = lost\n",
    "        j+=1\n",
    "    print(source)\n",
    "    return \n",
    "    \n",
    "source=[25 ,17 ,52 ,25, 0, 0, 45, 25, 5, 19, 7 ,5 ,26]\n",
    "rotateLeft(source,6)"
   ]
  },
  {
   "cell_type": "code",
   "execution_count": 39,
   "metadata": {},
   "outputs": [
    {
     "name": "stdout",
     "output_type": "stream",
     "text": [
      "[10, 20, 40, 50, 0, 0, 0]\n"
     ]
    }
   ],
   "source": [
    "#Task3-Remove an element from an array\n",
    "def remove(source,size,id):\n",
    "    if id<0 or id>size:\n",
    "        print(\"Wrong Index\")\n",
    "        return\n",
    "    i = id\n",
    "    while i<size:\n",
    "        source[i]=source[i+1]\n",
    "        i+=1\n",
    "        source[-1] = 0\n",
    "    print(source)\n",
    "    return\n",
    "\n",
    "source=[10,20,30,40,50,0,0]\n",
    "remove(source,5,2)"
   ]
  },
  {
   "cell_type": "code",
   "execution_count": 55,
   "metadata": {},
   "outputs": [
    {
     "name": "stdout",
     "output_type": "stream",
     "text": [
      "[10, 30, 50, 0, 0, 0, 0, 0, 0, 0]\n"
     ]
    }
   ],
   "source": [
    "#Task4-Remove all occurrences of a particular element from an array\n",
    "def removeAll(source,size,element):\n",
    "    res =[]\n",
    "    for i in source:\n",
    "        if i != element:\n",
    "            res+=[i]\n",
    "    for i in range(len(res)):\n",
    "        res+=[0]\n",
    "    print(res)       \n",
    "    \n",
    "source=[10,2,30,2,50,2,2,0,0]\n",
    "removeAll(source,7,2)\n"
   ]
  },
  {
   "cell_type": "code",
   "execution_count": 62,
   "metadata": {},
   "outputs": [
    {
     "name": "stdout",
     "output_type": "stream",
     "text": [
      "true\n"
     ]
    }
   ],
   "source": [
    "#Task5-Splitting an Array\n",
    "\n",
    "def split(array):\n",
    "    sum = 0\n",
    "    for i in array:\n",
    "        sum+=i\n",
    "    sum1=0\n",
    "    i=0\n",
    "    while i<len(array):\n",
    "        sum1+=array[i]\n",
    "        if sum1 == sum-sum1:\n",
    "            print(\"true\")\n",
    "            return \n",
    "        i+=1\n",
    "    print(\"false\")\n",
    "    return \n",
    "\n",
    "array = [10, 3, 1, 2, 10]\n",
    "split(array)"
   ]
  },
  {
   "cell_type": "code",
   "execution_count": 187,
   "metadata": {},
   "outputs": [
    {
     "name": "stdout",
     "output_type": "stream",
     "text": [
      "0, 0, 0, 1,  0, 0, 2, 1,  0, 3, 2, 1,  4, 3, 2, 1 "
     ]
    }
   ],
   "source": [
    "#Task6-Array series\n",
    "def series(n):\n",
    "    l = []\n",
    "    for i in range(1,n+1):\n",
    "        for k in range(n-i):\n",
    "            l+=[0]\n",
    "        for k in range(i,0,-1):\n",
    "            l+=[k]\n",
    "    i=1\n",
    "    while i<=len(l):\n",
    "        if i-1==len(l)-1:\n",
    "            print(l[i-1],end=\" \")\n",
    "        elif i%n==0:\n",
    "            print(l[i-1],end=\",  \")\n",
    "        else:\n",
    "            print(l[i-1],end=\", \")\n",
    "        i+=1\n",
    "        \n",
    "    return \n",
    "    \n",
    "series(4)"
   ]
  },
  {
   "cell_type": "code",
   "execution_count": 204,
   "metadata": {},
   "outputs": [
    {
     "name": "stdout",
     "output_type": "stream",
     "text": [
      "4\n"
     ]
    }
   ],
   "source": [
    "#Task7-Max Bunch Count\n",
    "def max_bunch(l):\n",
    "    if l == []:\n",
    "        print(\"Nothing\")\n",
    "        return\n",
    "\n",
    "    element = l[0]\n",
    "    new = []\n",
    "    lar = []\n",
    "    for e in l:            \n",
    "        if e == element:\n",
    "            new+=[e]\n",
    "        else:\n",
    "            if len(new) > len(lar):\n",
    "                lar = new\n",
    "            new = []\n",
    "            new+=[e]\n",
    "            element = e\n",
    "    if len(new) > len(lar):\n",
    "        lar = new    \n",
    "    print(len(lar))\n",
    "    return\n",
    "\n",
    "\n",
    "l = [1,1,2, 2, 1, 1,1,1]\n",
    "max_bunch(l)"
   ]
  },
  {
   "cell_type": "code",
   "execution_count": 234,
   "metadata": {},
   "outputs": [
    {
     "name": "stdout",
     "output_type": "stream",
     "text": [
      "True\n"
     ]
    }
   ],
   "source": [
    "#Task8- Repetition\n",
    "def countElement(a):\n",
    "    g = {}\n",
    "    for i in a:\n",
    "        if i in g:\n",
    "            g[i] +=1\n",
    "        else:\n",
    "             g[i] =1\n",
    "    val=[]            \n",
    "    for x,y in g.items():\n",
    "        if y>1:\n",
    "            val+=[y]\n",
    "    k = 0\n",
    "    while k<len(val):\n",
    "        count = 0\n",
    "        for ele in val: \n",
    "            if (ele == x): \n",
    "                count = count + 1\n",
    "        if count>1:\n",
    "            print(\"True\")\n",
    "            return \n",
    "        k+=1\n",
    "    print(\"False\")        \n",
    "    return \n",
    "\n",
    "a = [4,5,6,6,4,3,6,4]\n",
    "countElement(a)"
   ]
  },
  {
   "cell_type": "code",
   "execution_count": 235,
   "metadata": {},
   "outputs": [],
   "source": [
    "# Circular Array"
   ]
  },
  {
   "cell_type": "code",
   "execution_count": 241,
   "metadata": {},
   "outputs": [
    {
     "name": "stdout",
     "output_type": "stream",
     "text": [
      "True\n"
     ]
    }
   ],
   "source": [
    "#Task1- Palindrome\n",
    "def palindrome(c,start,size):\n",
    "    lst1=[]\n",
    "    lst2=[]\n",
    "    index=start\n",
    "\n",
    "    i=0\n",
    "\n",
    "    while(i<size):\n",
    "\n",
    "        lst1+=[c[index]]\n",
    "\n",
    "        index=(index+1)%len(c)\n",
    "\n",
    "        i=i+1\n",
    "        ind=(start+size-1)%len(c)\n",
    "\n",
    "    j=0\n",
    "\n",
    "    while(j<size):\n",
    "\n",
    "        lst2+=[c[ind]]\n",
    "\n",
    "        ind-=1\n",
    "\n",
    "        if(ind<0):\n",
    "\n",
    "            ind=len(c)-1  \n",
    "\n",
    "        j+=1\n",
    "    for i in range(len(lst1)):\n",
    "        if lst1[i]=lst2[i]:\n",
    "            print(\"False\")\n",
    "            return\n",
    "    print(\"True\")\n",
    "    return\n",
    "\n",
    "c =  [20,10,0,0,0,10,20,30]\n",
    "palindrome(c,5,5)\n",
    "    "
   ]
  },
  {
   "cell_type": "code",
   "execution_count": null,
   "metadata": {},
   "outputs": [],
   "source": [
    "#Task1- Palindrome\n",
    "def Intersection(c1,c2,start1,,start2,size1,size2):\n",
    "    lst1=[]\n",
    "    lst2=[]\n",
    "    index=start1\n",
    "\n",
    "    i=0\n",
    "\n",
    "    while(i<size):\n",
    "\n",
    "        lst1+=[c[index]]\n",
    "\n",
    "        index=(index+1)%len(c)\n",
    "\n",
    "        i=i+1\n",
    "        ind=(start+size-1)%len(c)\n",
    "\n",
    "    j=0\n",
    "\n",
    "    while(j<size):\n",
    "\n",
    "        lst2+=[c[ind]]\n",
    "\n",
    "        ind-=1\n",
    "\n",
    "        if(ind<0):\n",
    "\n",
    "            ind=len(c)-1  \n",
    "\n",
    "        j+=1\n",
    "    for i in range(len(lst1)):\n",
    "        if lst1[i]=lst2[i]:\n",
    "            print(\"False\")\n",
    "            return\n",
    "    print(\"True\")\n",
    "    return\n",
    "\n",
    "c =  [20,10,0,0,0,10,20,30]\n",
    "palindrome(c,5,5)\n",
    "    "
   ]
  }
 ],
 "metadata": {
  "kernelspec": {
   "display_name": "Python 3",
   "language": "python",
   "name": "python3"
  },
  "language_info": {
   "codemirror_mode": {
    "name": "ipython",
    "version": 3
   },
   "file_extension": ".py",
   "mimetype": "text/x-python",
   "name": "python",
   "nbconvert_exporter": "python",
   "pygments_lexer": "ipython3",
   "version": "3.7.6"
  }
 },
 "nbformat": 4,
 "nbformat_minor": 4
}
