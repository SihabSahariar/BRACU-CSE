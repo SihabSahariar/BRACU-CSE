{
 "cells": [
  {
   "cell_type": "code",
   "execution_count": 12,
   "metadata": {},
   "outputs": [
    {
     "name": "stdout",
     "output_type": "stream",
     "text": [
      "0      1      2      3      4      5      6      \n",
      "30 -> 456 -> 366 -> 22 -> 111 -> 557 ->   0\n"
     ]
    }
   ],
   "source": [
    "#Array Traversal \n",
    "\n",
    "a = [30,456,366,22,111,557,0]\n",
    "for i in range(len(a)):\n",
    "    print(i,end=\"      \")\n",
    "    \n",
    "print()\n",
    "for i in a:\n",
    "    if i!= a[-1]:\n",
    "        print(i,'-> ',end=\"\")\n",
    "    else:\n",
    "        print(\" \",i)"
   ]
  },
  {
   "cell_type": "code",
   "execution_count": 40,
   "metadata": {},
   "outputs": [
    {
     "name": "stdout",
     "output_type": "stream",
     "text": [
      "20 4 2 1 5 \n",
      "20 4 2 1 5 \n",
      "<__main__.prinT object at 0x00000132BD85D208>\n",
      "<__main__.prinT object at 0x00000132BD85DBC8>\n"
     ]
    }
   ],
   "source": [
    "class prinT:\n",
    "    def __init__(self,lst=None):\n",
    "        for i in lst:\n",
    "            print(i,end=\" \")\n",
    "        print()\n",
    "            \n",
    "            \n",
    "lst = [20,4,2,1,5]\n",
    "obj1 = prinT(lst)\n",
    "obj2 = prinT([20,4,2,1,5])\n",
    "print(str(obj1)+'\\n'+str(obj2))"
   ]
  },
  {
   "cell_type": "code",
   "execution_count": 61,
   "metadata": {},
   "outputs": [
    {
     "name": "stdout",
     "output_type": "stream",
     "text": [
      "[45, 30, 10]\n"
     ]
    }
   ],
   "source": [
    "#Reversing an array (out of place)\n",
    "\n",
    "def reverse_OP(lst = None):\n",
    "    rev = [0]*len(lst)\n",
    "    i = len(lst)-1\n",
    "    j=0\n",
    "    while i>=0:\n",
    "        rev[j]=lst[i]\n",
    "        i-=1\n",
    "        j+=1\n",
    "    return rev\n",
    "\n",
    "\n",
    "x = [10,30,45]\n",
    "y = reverse_OP(x)\n",
    "print(y)"
   ]
  },
  {
   "cell_type": "code",
   "execution_count": 73,
   "metadata": {},
   "outputs": [
    {
     "name": "stdout",
     "output_type": "stream",
     "text": [
      "[45, 30, 10]\n"
     ]
    }
   ],
   "source": [
    "#Reversing an array (in place)\n",
    "\n",
    "def reverse_ip(lst):\n",
    "    i =0\n",
    "    j = len(lst)-1\n",
    "    while i<j:\n",
    "        temp = lst[i]\n",
    "        lst[i],lst[j] = lst[j],temp\n",
    "        i+=1\n",
    "        j-=1\n",
    "\n",
    "    \n",
    "    \n",
    "x = [10,30,45]\n",
    "reverse_ip(x)\n",
    "print(x)"
   ]
  },
  {
   "cell_type": "code",
   "execution_count": 103,
   "metadata": {},
   "outputs": [
    {
     "name": "stdout",
     "output_type": "stream",
     "text": [
      "[0, 0, 0, 10, 20]\n"
     ]
    }
   ],
   "source": [
    "#Right Shift - k cells\n",
    "\n",
    "def rightShift(lst,k):\n",
    "    for i in range(k):\n",
    "        ln = len(lst)-1\n",
    "        temp = lst[ln]\n",
    "\n",
    "\n",
    "        while ln>=1:\n",
    "            lst[ln] = lst[ln-1]\n",
    "            ln-=1\n",
    "        lst[0] = 0\n",
    "    \n",
    "    \n",
    "    \n",
    "x = [10,20,30,40,50]\n",
    "rightShift(x,3)\n",
    "print(x)"
   ]
  },
  {
   "cell_type": "code",
   "execution_count": 76,
   "metadata": {},
   "outputs": [
    {
     "name": "stdout",
     "output_type": "stream",
     "text": [
      "[50, 10, 20, 30, 40]\n"
     ]
    }
   ],
   "source": [
    "#Right Shift and rotate by 1 place\n",
    "\n",
    "def rightShift(lst = None):\n",
    "    ln = len(lst)-1\n",
    "    temp = lst[ln]\n",
    "    \n",
    "\n",
    "    while ln>=1:\n",
    "        lst[ln] = lst[ln-1]\n",
    "        ln-=1\n",
    "    lst[0] = temp\n",
    "    \n",
    "    \n",
    "    \n",
    "x = ['I','A','H','A','S','B','A','H','I','S','P','R','A','A','G']\n",
    "rightShift(x)\n",
    "print(x)"
   ]
  },
  {
   "cell_type": "code",
   "execution_count": 19,
   "metadata": {},
   "outputs": [
    {
     "name": "stdout",
     "output_type": "stream",
     "text": [
      "Main List\n",
      "|I|0|->|A|1|->|H|2|->|A|3|->|S|4|->|B|5|->|A|6|->|H|7|->|I|8|->|S|9|->|P|10|->|R|11|->|A|12|->|A|13|->|G|14|->\n",
      "\n",
      "rotation by 1 time:\n",
      "|G|0|->|I|1|->|A|2|->|H|3|->|A|4|->|S|5|->|B|6|->|A|7|->|H|8|->|I|9|->|S|10|->|P|11|->|R|12|->|A|13|->|A|14|->\n",
      "\n",
      "\n",
      "rotation by 2 time:\n",
      "|A|0|->|G|1|->|I|2|->|A|3|->|H|4|->|A|5|->|S|6|->|B|7|->|A|8|->|H|9|->|I|10|->|S|11|->|P|12|->|R|13|->|A|14|->\n",
      "\n",
      "\n",
      "rotation by 3 time:\n",
      "|A|0|->|A|1|->|G|2|->|I|3|->|A|4|->|H|5|->|A|6|->|S|7|->|B|8|->|A|9|->|H|10|->|I|11|->|S|12|->|P|13|->|R|14|->\n",
      "\n",
      "\n"
     ]
    }
   ],
   "source": [
    "#Right Shift by k times\n",
    "def rightShift(lst = None,k=0):\n",
    "    \n",
    "    for i in range(k):\n",
    "        ln = len(lst)-1\n",
    "        temp = lst[ln]\n",
    "\n",
    "\n",
    "        while ln>=1:\n",
    "            lst[ln] = lst[ln-1]\n",
    "            ln-=1\n",
    "        lst[0] = temp\n",
    "        print(f'rotation by {i+1} time:')\n",
    "        t=0\n",
    "        for i in lst:\n",
    "            print('|'+str(i)+'|'+str(t)+'|->',end=\"\")\n",
    "            t+=1\n",
    "        \n",
    "        print('\\n\\n')\n",
    "    \n",
    "    \n",
    "x = ['I','A','H','A','S','B','A','H','I','S','P','R','A','A','G']\n",
    "t=0\n",
    "print('Main List')\n",
    "for i in x:\n",
    "    print('|'+str(i)+'|'+str(t)+'|->',end=\"\")\n",
    "    t+=1\n",
    "\n",
    "print('\\n')\n",
    "k = 3\n",
    "rightShift(x,k)"
   ]
  },
  {
   "cell_type": "code",
   "execution_count": 106,
   "metadata": {},
   "outputs": [
    {
     "name": "stdout",
     "output_type": "stream",
     "text": [
      "rotation by 1 time: [20, 30, 40, 50, 60, 0]\n",
      "rotation by 2 time: [30, 40, 50, 60, 0, 0]\n",
      "rotation by 3 time: [40, 50, 60, 0, 0, 0]\n"
     ]
    }
   ],
   "source": [
    "#Task1-Shift Left k Cells\n",
    "def shiftLeft(source,k):\n",
    "    j=0\n",
    "    while j<k:\n",
    "        i = 1\n",
    "        while i<len(source):\n",
    "            source[i-1] = source[i]\n",
    "            i+=1\n",
    "        source[-1] = 0\n",
    "        print(f'rotation by {j+1} time:',source)\n",
    "        j+=1\n",
    "    \n",
    "    return #source\n",
    "\n",
    "source=[10,20,30,40,50,60]\n",
    "shiftLeft(source,3)"
   ]
  },
  {
   "cell_type": "code",
   "execution_count": 7,
   "metadata": {},
   "outputs": [
    {
     "name": "stdout",
     "output_type": "stream",
     "text": [
      "P R A A I R A H A S B A H I S \n",
      "rotation by 1 time: ['R', 'A', 'A', 'I', 'R', 'A', 'H', 'A', 'S', 'B', 'A', 'H', 'I', 'S', 'P']\n",
      "\n",
      "rotation by 2 time: ['A', 'A', 'I', 'R', 'A', 'H', 'A', 'S', 'B', 'A', 'H', 'I', 'S', 'P', 'R']\n",
      "\n",
      "rotation by 3 time: ['A', 'I', 'R', 'A', 'H', 'A', 'S', 'B', 'A', 'H', 'I', 'S', 'P', 'R', 'A']\n",
      "\n",
      "rotation by 4 time: ['I', 'R', 'A', 'H', 'A', 'S', 'B', 'A', 'H', 'I', 'S', 'P', 'R', 'A', 'A']\n"
     ]
    }
   ],
   "source": [
    "#Task2-Rotate Left k cells\n",
    "\n",
    "def rotateLeft(source,k):\n",
    "    j =0\n",
    "    while j<k:\n",
    "        \n",
    "        i = 1\n",
    "        lost = source[0]\n",
    "        while i<len(source):\n",
    "            source[i-1] = source[i]\n",
    "            \n",
    "            i+=1\n",
    "        source[-1] = lost\n",
    "        print(f'\\nrotation by {j+1} time:',source)\n",
    "        j+=1\n",
    "    return \n",
    "    \n",
    "source=['P','R','A','A','I','R','A','H','A','S','B','A','H','I','S']\n",
    "for i in source:\n",
    "    print(i,end=\" \")\n",
    "rotateLeft(source,4)"
   ]
  },
  {
   "cell_type": "code",
   "execution_count": 142,
   "metadata": {},
   "outputs": [
    {
     "name": "stdout",
     "output_type": "stream",
     "text": [
      "[20, 67, 85, 34, 12, 90]\n"
     ]
    }
   ],
   "source": [
    "#Insertion of an Array\n",
    "\n",
    "def insert(array,size,value,k):\n",
    "    j = len(array)-1 #লাস্ট এলিমেন্টকে পয়েন্ট করছি\n",
    "    if k>len(array) or k<0:\n",
    "        print(\"Wrong Index\")\n",
    "        return\n",
    "    elif size==len(array):\n",
    "        print('Array is full')\n",
    "        return\n",
    "    else:\n",
    "        array+=[0] #শেষে একটা ফাঁকা স্পেস তৈরী করতেছি\n",
    "        while j>=k: #যতক্ষন j এর থেকে k অর্থাৎ ইন্সার্টের ইনডেক্স ছোট বা বড় ততক্ষন এরের এলিমেন্টগুলো ডানদিকে এক ঘর শিফট করব \n",
    "            array[j+1] = array[j]\n",
    "            j-=1\n",
    "        array[k] = value #সব এলিমেন্ট ডান দিকে এক ঘর সড়ে গেলে k তম ইনডেক্সে ফাঁকা স্পেস তৈরি হবে(K==k+1 তম ডেক্সের এলিমেন্ট) \n",
    "        size+=1          #এবং সেখানে আমরা  ওখানে ভ্যালু বসিয়ে দিব! এরপর এরের সাইজ এক বাড়ায় দিব। কারণ নতুন এলিমেন্ট এড করতেছি\n",
    "        return\n",
    "    \n",
    "    \n",
    "    \n",
    "\n",
    "    \n",
    "lst = [20,67,85,34,12]\n",
    "\n",
    "size = 8\n",
    "k = 5\n",
    "value = 90\n",
    "insert(lst,size,value,k)\n",
    "print(lst)"
   ]
  },
  {
   "cell_type": "code",
   "execution_count": 117,
   "metadata": {},
   "outputs": [
    {
     "name": "stdout",
     "output_type": "stream",
     "text": [
      "[2, 56, 7, 9, 67, 88, 9, 0]\n"
     ]
    }
   ],
   "source": [
    "#Deletion of an array.\n",
    "def delete(array,position,size):\n",
    "    if position<0 or position>size:\n",
    "        print(\"Wrong Index\")\n",
    "        return\n",
    "    i = position\n",
    "    while i<size-1:\n",
    "        array[i]=array[i+1]\n",
    "        i+=1\n",
    "    array[-1]=0\n",
    "    size-=1\n",
    "    \n",
    "    \n",
    "    \n",
    "    \n",
    "\n",
    "\n",
    "\n",
    "\n",
    "a = [1,2,56,7,9,67,88,9]\n",
    "size = len(a)\n",
    "delete(a,0,size)\n",
    "print(a)"
   ]
  },
  {
   "cell_type": "code",
   "execution_count": 143,
   "metadata": {},
   "outputs": [
    {
     "name": "stdout",
     "output_type": "stream",
     "text": [
      "10\n",
      "20\n",
      "30\n",
      "40\n",
      "50\n"
     ]
    }
   ],
   "source": [
    "#Circular Array\n",
    "def printForward(c,start,size):\n",
    "\n",
    "    index=start\n",
    "\n",
    "    i=0\n",
    "\n",
    "    while(i<size):\n",
    "\n",
    "        print(c[index])\n",
    "\n",
    "        index=(index+1)%len(c)\n",
    "\n",
    "        i=i+1\n",
    "\n",
    "\n",
    "\n",
    "circularArray=[40,50,0,0,0,0,0,0,10,20,30] #creating a circular array with start 8 and size 5\n",
    "\n",
    "printForward(circularArray,8,5)"
   ]
  },
  {
   "cell_type": "code",
   "execution_count": 144,
   "metadata": {},
   "outputs": [
    {
     "name": "stdout",
     "output_type": "stream",
     "text": [
      "50\n",
      "40\n",
      "30\n",
      "20\n",
      "10\n"
     ]
    }
   ],
   "source": [
    "def printReverse(c,start,size):\n",
    "\n",
    "    index=(start+size-1)%len(c)\n",
    "\n",
    "    i=0\n",
    "\n",
    "    while(i<size):\n",
    "\n",
    "        print(c[index])\n",
    "\n",
    "        index=index-1\n",
    "\n",
    "        if(index<0):\n",
    "\n",
    "            index=len(c)-1  \n",
    "\n",
    "        i=i+1\n",
    "\n",
    "\n",
    "\n",
    "circularArray=[40,50,0,0,0,0,0,0,10,20,30] #creating a circular array with start 8 and size 5\n",
    "\n",
    "printReverse(circularArray,8,5)"
   ]
  },
  {
   "cell_type": "code",
   "execution_count": 146,
   "metadata": {},
   "outputs": [
    {
     "name": "stdout",
     "output_type": "stream",
     "text": [
      "[40, 50, 0, 0, 0, 0, 0, 0, 10, 20, 30]\n"
     ]
    }
   ],
   "source": [
    "def circularize(linear,start,size):\n",
    "\n",
    "    circular=[0]*len(linear)\n",
    "\n",
    "    index=start\n",
    "\n",
    "    i=0\n",
    "\n",
    "    while(i<size):\n",
    "\n",
    "        circular[index]=linear[i]\n",
    "\n",
    "        index=(index+1)%len(circular) \n",
    "\n",
    "        i=i+1\n",
    "\n",
    "    return circular\n",
    "\n",
    "\n",
    "\n",
    "linear=[10,20,30,40,50,0,0,0,0,0,0]\n",
    "\n",
    "circ=circularize(linear,8,5)\n",
    "\n",
    "print(circ)"
   ]
  },
  {
   "cell_type": "code",
   "execution_count": 147,
   "metadata": {},
   "outputs": [
    {
     "name": "stdout",
     "output_type": "stream",
     "text": [
      "[40, 50, 0, 0, 10, 20, 30]\n"
     ]
    }
   ],
   "source": [
    "\n",
    "def resize(circ,start,size):\n",
    "\n",
    "    resizedCirc=[0]*(len(circ)+2)\n",
    "\n",
    "    index_circ=start\n",
    "\n",
    "    index_resizedCirc=start\n",
    "\n",
    "    i=0\n",
    "\n",
    "    while(i<size):\n",
    "\n",
    "        resizedCirc[index_resizedCirc]=circ[index_circ]\n",
    "\n",
    "        index_circ=(index_circ+1)%len(circ)\n",
    "\n",
    "        index_resizedCirc=(index_resizedCirc+1)%len(resizedCirc)  \n",
    "\n",
    "        i=i+1\n",
    "\n",
    "    return resizedCirc\n",
    "\n",
    "\n",
    "\n",
    "circ=[20,30,40,50,10] #creating a circular array with start 4 and size 5\n",
    "\n",
    "circ=resize(circ,4,5) \n",
    "\n",
    "print(circ)"
   ]
  },
  {
   "cell_type": "code",
   "execution_count": 152,
   "metadata": {},
   "outputs": [
    {
     "name": "stdout",
     "output_type": "stream",
     "text": [
      "False\n"
     ]
    }
   ],
   "source": [
    "#parenthesis Balancing\n",
    "def BalancedBrackets(Str):\n",
    "    stack = []\n",
    "    for char in Str:\n",
    "        if char == '{' or char == '(' or char == '[':\n",
    "            stack.append(char) \n",
    "        elif char == '}' or char == ')' or char == ']':\n",
    "            if len(stack) == 0:\n",
    "                return False\n",
    "            top_element = stack.pop() \n",
    "            if not Compare(top_element, char):\n",
    "                return False\n",
    "    if len(stack) != 0:\n",
    "        return False\n",
    "              \n",
    "    return True\n",
    "\n",
    "def Compare(opening, closing):\n",
    "    if opening == '(' and closing == ')':\n",
    "        return True\n",
    "    if opening == '[' and closing == ']':\n",
    "        return True\n",
    "    if opening == '{' and closing == '}':\n",
    "        return True  \n",
    "    return False\n",
    "\n",
    "print(BalancedBrackets(\"{1}23(456[.768])}\"))"
   ]
  },
  {
   "cell_type": "code",
   "execution_count": 159,
   "metadata": {},
   "outputs": [
    {
     "name": "stdout",
     "output_type": "stream",
     "text": [
      "Enter infix expressionx+Y-Z\n",
      "infix expression:  x+Y-Z\n",
      "postfix expression:  xY+Z-\n"
     ]
    }
   ],
   "source": [
    "#Infix to postfix\n",
    "OPERATORS = set(['+', '-', '*', '/', '(', ')', '^'])  # set of operators\n",
    "\n",
    "PRIORITY = {'+':1, '-':1, '*':2, '/':2, '^':3} # dictionary having priorities \n",
    "\n",
    " \n",
    "\n",
    "def infix_to_postfix(expression): #input expression\n",
    "    stack = [] \n",
    "\n",
    "    output = ''\n",
    "    for ch in expression:\n",
    "\n",
    "        if ch not in OPERATORS:  \n",
    "\n",
    "            output+= ch\n",
    "\n",
    "        elif ch=='(':  \n",
    "\n",
    "            stack.append('(')\n",
    "\n",
    "        elif ch==')':\n",
    "\n",
    "            while stack and stack[-1]!= '(':\n",
    "\n",
    "                output+=stack.pop()\n",
    "\n",
    "            stack.pop()\n",
    "\n",
    "        else:\n",
    "            while stack and stack[-1]!='(' and PRIORITY[ch]<=PRIORITY[stack[-1]]:\n",
    "\n",
    "                output+=stack.pop()\n",
    "\n",
    "            stack.append(ch)\n",
    "\n",
    "    while stack:\n",
    "\n",
    "        output+=stack.pop()\n",
    "\n",
    "    return output\n",
    "\n",
    " \n",
    "\n",
    "expression = input('Enter infix expression')\n",
    "\n",
    "print('infix expression: ',expression)\n",
    "\n",
    "print('postfix expression: ',infix_to_postfix(expression))"
   ]
  },
  {
   "cell_type": "code",
   "execution_count": 158,
   "metadata": {},
   "outputs": [
    {
     "name": "stdout",
     "output_type": "stream",
     "text": [
      "\n",
      "Enter an Infix Equation = x+y-z\n",
      " Symbol  |  Stack  | Postfix\n",
      "----------------------------\n",
      "   z     |         | z      \n",
      "   -     | -       | z      \n",
      "   y     | -       | zy     \n",
      "   +     | +       | zy-    \n",
      "   x     | +       | zy-x   \n",
      "         |         | zy-x+  \n",
      "\n",
      "\t x+y-z (Infix) ->  +x-yz (Prefix)\n"
     ]
    }
   ],
   "source": [
    "#Infix to prefix\n",
    "\n",
    "\"\"\"\n",
    "Output:\n",
    " \n",
    "Enter an Infix Equation = a + b ^c\n",
    " Symbol  |  Stack  | Postfix\n",
    "----------------------------\n",
    "   c     |         | c\n",
    "   ^     | ^       | c\n",
    "   b     | ^       | cb\n",
    "   +     | +       | cb^\n",
    "   a     | +       | cb^a\n",
    "         |         | cb^a+\n",
    " \n",
    "         a+b^c (Infix) ->  +a^bc (Prefix)\n",
    "\"\"\"\n",
    " \n",
    " \n",
    "def infix_2_postfix(Infix):\n",
    "    Stack = []\n",
    "    Postfix = []\n",
    "    priority = {\n",
    "        \"^\": 3,\n",
    "        \"*\": 2,\n",
    "        \"/\": 2,\n",
    "        \"%\": 2,\n",
    "        \"+\": 1,\n",
    "        \"-\": 1,\n",
    "    }  # Priority of each operator\n",
    "    print_width = len(Infix) if (len(Infix) > 7) else 7\n",
    " \n",
    "    # Print table header for output\n",
    "    print(\n",
    "        \"Symbol\".center(8),\n",
    "        \"Stack\".center(print_width),\n",
    "        \"Postfix\".center(print_width),\n",
    "        sep=\" | \",\n",
    "    )\n",
    "    print(\"-\" * (print_width * 3 + 7))\n",
    " \n",
    "    for x in Infix:\n",
    "        if x.isalpha() or x.isdigit():\n",
    "            Postfix.append(x)  # if x is Alphabet / Digit, add it to Postfix\n",
    "        elif x == \"(\":\n",
    "            Stack.append(x)  # if x is \"(\" push to Stack\n",
    "        elif x == \")\":  # if x is \")\" pop stack until \"(\" is encountered\n",
    "            while Stack[-1] != \"(\":\n",
    "                Postfix.append(Stack.pop())  # Pop stack & add the content to Postfix\n",
    "            Stack.pop()\n",
    "        else:\n",
    "            if len(Stack) == 0:\n",
    "                Stack.append(x)  # If stack is empty, push x to stack\n",
    "            else:\n",
    "                while (\n",
    "                    len(Stack) > 0 and priority[x] <= priority[Stack[-1]]\n",
    "                ):  # while priority of x is not greater than priority of element in the stack\n",
    "                    Postfix.append(Stack.pop())  # pop stack & add to Postfix\n",
    "                Stack.append(x)  # push x to stack\n",
    " \n",
    "        print(\n",
    "            x.center(8),\n",
    "            (\"\".join(Stack)).ljust(print_width),\n",
    "            (\"\".join(Postfix)).ljust(print_width),\n",
    "            sep=\" | \",\n",
    "        )  # Output in tabular format\n",
    " \n",
    "    while len(Stack) > 0:  # while stack is not empty\n",
    "        Postfix.append(Stack.pop())  # pop stack & add to Postfix\n",
    "        print(\n",
    "            \" \".center(8),\n",
    "            (\"\".join(Stack)).ljust(print_width),\n",
    "            (\"\".join(Postfix)).ljust(print_width),\n",
    "            sep=\" | \",\n",
    "        )  # Output in tabular format\n",
    " \n",
    "    return \"\".join(Postfix)  # return Postfix as str\n",
    " \n",
    " \n",
    "def infix_2_prefix(Infix):\n",
    "    Infix = list(Infix[::-1])  # reverse the infix equation\n",
    " \n",
    "    for i in range(len(Infix)):\n",
    "        if Infix[i] == \"(\":\n",
    "            Infix[i] = \")\"  # change \"(\" to \")\"\n",
    "        elif Infix[i] == \")\":\n",
    "            Infix[i] = \"(\"  # change \")\" to \"(\"\n",
    " \n",
    "    return (infix_2_postfix(\"\".join(Infix)))[\n",
    "        ::-1\n",
    "    ]  # call infix_2_postfix on Infix, return reverse of Postfix\n",
    " \n",
    " \n",
    "if __name__ == \"__main__\":\n",
    "    Infix = input(\"\\nEnter an Infix Equation = \")  # Input an Infix equation\n",
    "    Infix = \"\".join(Infix.split())  # Remove spaces from the input\n",
    "    print(\"\\n\\t\", Infix, \"(Infix) -> \", infix_2_prefix(Infix), \"(Prefix)\")"
   ]
  },
  {
   "cell_type": "code",
   "execution_count": 168,
   "metadata": {},
   "outputs": [
    {
     "name": "stdout",
     "output_type": "stream",
     "text": [
      "a+b-(c-d)\n"
     ]
    }
   ],
   "source": [
    "#Postfix to infix\n",
    "def post_to_infix(expression):\n",
    "    prec = {'+': 0, '-' : 0, '*' : 1, \"/\" : 1, '%' : 1, '^': 2}\n",
    "    stack = []\n",
    "    for x in expression:\n",
    "        if x == \" \":\n",
    "          continue \n",
    "        if x in prec.keys():\n",
    "            #['+','-','*','/','%','^']:\n",
    "            if len(stack) < 2:\n",
    "              return \"invalid\";\n",
    "            op2 = stack.pop()  # pop a wrapped list out\n",
    "            op1 = stack.pop()\n",
    "            if len(op2) > 1 and ((prec[op2[1]] < prec[x]) or (prec[op2[1]]== prec[x])):\n",
    "                op2 = \"(%s)\" % op2[0]\n",
    "            else:\n",
    "                op2 = op2[0]\n",
    "\n",
    "            if len(op1) > 1 and prec[op1[1]] < prec[x]:\n",
    "                op1 = \"(%s)\" % op1[0]\n",
    "            else:\n",
    "                op1 = op1[0]\n",
    "\n",
    "            stack.append([\"%s%s%s\" % (op1, x, op2), x])\n",
    "\n",
    "        else:\n",
    "            stack.append([x])\n",
    "    if len(stack) != 1: \n",
    "      return \"invalid\"\n",
    "    return stack.pop()[0]\n",
    "\n",
    "\n",
    "s = post_to_infix(\"a b+cd--\")\n",
    "\n",
    "\n",
    "print (s)"
   ]
  },
  {
   "cell_type": "code",
   "execution_count": 172,
   "metadata": {},
   "outputs": [
    {
     "data": {
      "text/plain": [
       "90"
      ]
     },
     "execution_count": 172,
     "metadata": {},
     "output_type": "execute_result"
    }
   ],
   "source": [
    "# Stack Implementation \n",
    "class stack:\n",
    "    stack = []\n",
    "    pointer = -1\n",
    "    \n",
    "    def push(self,element):\n",
    "        self.stack.append(element)\n",
    "        self.pointer+=1\n",
    "    def peek(self):\n",
    "        return self.stack[self.pointer]\n",
    "    def pop(self):\n",
    "        val = self.stack[self.pointer]\n",
    "        self.stack = self.stack[:-1]\n",
    "        self.pointer-=1\n",
    "        return val\n",
    "    \n",
    "    \n",
    "    \n",
    "stack1 = stack()\n",
    "stack1.push(90)\n",
    "stack1.push(78)\n",
    "\n",
    "        "
   ]
  },
  {
   "cell_type": "code",
   "execution_count": 206,
   "metadata": {},
   "outputs": [
    {
     "name": "stdout",
     "output_type": "stream",
     "text": [
      "920\n"
     ]
    },
    {
     "data": {
      "text/plain": [
       "590"
      ]
     },
     "execution_count": 206,
     "metadata": {},
     "output_type": "execute_result"
    }
   ],
   "source": [
    "class Node:\n",
    "    def __init__(self,val):\n",
    "        self.value = val\n",
    "        self.next = None\n",
    "        \n",
    "class Stack:\n",
    "    def __init__(self):\n",
    "        self.head = None\n",
    "    def push(self,elem):\n",
    "        if self.head == None:\n",
    "            self.head = Node(elem)\n",
    "        else:\n",
    "            n = Node(elem)\n",
    "            n.next = self.head\n",
    "            self.head = n\n",
    "    def peek(self):\n",
    "        return self.head.value\n",
    "    \n",
    "    def pop(self):\n",
    "        temp =self.head\n",
    "        self.head = self.head.next\n",
    "        temp.value = None\n",
    "        temp.next = None\n",
    "            \n",
    "            \n",
    "stack = Stack()\n",
    "stack.push(90)\n",
    "stack.push(290)\n",
    "stack.push(590)\n",
    "stack.push(920)\n",
    "print(stack.peek())\n",
    "stack.pop()\n",
    "stack.peek()\n",
    "        "
   ]
  }
 ],
 "metadata": {
  "kernelspec": {
   "display_name": "Python 3",
   "language": "python",
   "name": "python3"
  },
  "language_info": {
   "codemirror_mode": {
    "name": "ipython",
    "version": 3
   },
   "file_extension": ".py",
   "mimetype": "text/x-python",
   "name": "python",
   "nbconvert_exporter": "python",
   "pygments_lexer": "ipython3",
   "version": "3.7.6"
  }
 },
 "nbformat": 4,
 "nbformat_minor": 4
}
