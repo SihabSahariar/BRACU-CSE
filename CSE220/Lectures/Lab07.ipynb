{
 "cells": [
  {
   "cell_type": "code",
   "execution_count": 10,
   "metadata": {},
   "outputs": [
    {
     "name": "stdout",
     "output_type": "stream",
     "text": [
      "[2, 3, 5, 6, 7]\n"
     ]
    },
    {
     "data": {
      "text/plain": [
       "True"
      ]
     },
     "execution_count": 10,
     "metadata": {},
     "output_type": "execute_result"
    }
   ],
   "source": [
    "class KeyIndex:\n",
    "    def __init__(self,array):\n",
    "        self.array = []\n",
    "        for i in array:\n",
    "            self.array.append(i)\n",
    "            \n",
    "    def sort(self):\n",
    "        mx = self.array[-1]\n",
    "        for i in range(len(self.array)):\n",
    "            if self.array[i]>mx:\n",
    "                mx = self.array[i]\n",
    "\n",
    "        na=[0 for _ in range(mx+1)]\n",
    "        \n",
    "        for j in range(len(self.array)):\n",
    "            na[self.array[j]]+=1\n",
    "        i=0\n",
    "        c=0     \n",
    "        while(i<mx+1):\n",
    "            if(na[i]>0):\n",
    "                self.array[c]=i\n",
    "                c+=1\n",
    "                na[i]-=1\n",
    "            else:\n",
    "                i+=1\n",
    "\n",
    "        return self.array   \n",
    "    def search(self,val):\n",
    "        if val in self.array:\n",
    "            return True\n",
    "        return False\n",
    "    \n",
    "    \n",
    "    \n",
    "#Tester    \n",
    "    \n",
    "array = KeyIndex([3,5,2,6,7])    \n",
    "array.sort()\n",
    "lst = array.array\n",
    "print(lst)\n",
    "array.search(5)\n"
   ]
  },
  {
   "cell_type": "code",
   "execution_count": 16,
   "metadata": {},
   "outputs": [
    {
     "name": "stdout",
     "output_type": "stream",
     "text": [
      "\n",
      "\n",
      "0 = ST1E89B8A32\n",
      "The no. of element in the respective table are : 1\n",
      "1 = 0\n",
      "The no. of element in the respective table are : 1\n",
      "2 = 0\n",
      "The no. of element in the respective table are : 1\n",
      "3 = 0\n",
      "The no. of element in the respective table are : 1\n",
      "4 = 0\n",
      "The no. of element in the respective table are : 1\n",
      "5 = 0\n",
      "The no. of element in the respective table are : 1\n",
      "6 = 0\n",
      "The no. of element in the respective table are : 1\n",
      "7 = 0\n",
      "The no. of element in the respective table are : 1\n",
      "8 = 0\n",
      "The no. of element in the respective table are : 1\n"
     ]
    }
   ],
   "source": [
    "class hashTable:#class\n",
    "    def __init__(self):# initializingg the hash Table\n",
    "        self.size = 9\n",
    "        self.table = list(0 for i in range(self.size))# initializing the table with all the elements as 0\n",
    "        self.elementCount = 0\n",
    "        self.comparisons = 0\n",
    "    def isFull(self):# a method that will check whether if the hash table is full or not\n",
    "        if self.elementCount == self.size:#if condition\n",
    "            return True\n",
    "        else:# else condition\n",
    "            return False\n",
    "    def hashFunction(self, element):# a method that will returns the position for a given element\n",
    "        value = 0\n",
    "        count = 0\n",
    "        sum = 0\n",
    "        for l in element:\n",
    "            if l not in ('A', 'E', 'I', 'O', 'U', '1', '2','3','4','5','6','7','8','9','0'):# if condition\n",
    "                count +=1\n",
    "            else:# else condition\n",
    "                if l not in ('A', 'E', 'I', 'O', 'U'):\n",
    "                    sum += ord(l)-ord('0')\n",
    "                value = (count*24 + sum)\n",
    "            return value % self.size\n",
    "    def insert(self, element):# a method that will inserts the element inside the hash table\n",
    "        if self.isFull():# check if the table is full\n",
    "            print(\"Hash Table Full\")#display\n",
    "            return False\n",
    "        isStored = False\n",
    "        position = self.hashFunction(element)\n",
    "        if self.table[position] == 0: # check if the position is empty or not\n",
    "            self.table[position] = element\n",
    "            isStored = True\n",
    "            self.elementCount += 1\n",
    "        else:# we do linear probing due to the collision occured\n",
    "            while self.table[position] != 0:#while loop\n",
    "                position += 1\n",
    "                if position >= self.size:\n",
    "                    position = 0\n",
    "                    self.table[position] = element\n",
    "                    isStored = True\n",
    "                self.elementCount += 1\n",
    "            return isStored\n",
    "    def display(self):# a method to display the hash table\n",
    "        print(\"\\n\")\n",
    "        for i in range(self.size):\n",
    "            print(str(i) + \" = \" + str(self.table[i]))\n",
    "            print(\"The no. of element in the respective table are : \" + str(self.elementCount)) \n",
    "            \n",
    "table1 = hashTable()# main function\n",
    "table1.insert('ST1E89B8A32')\n",
    "table1.display()# show the table"
   ]
  }
 ],
 "metadata": {
  "kernelspec": {
   "display_name": "Python 3",
   "language": "python",
   "name": "python3"
  },
  "language_info": {
   "codemirror_mode": {
    "name": "ipython",
    "version": 3
   },
   "file_extension": ".py",
   "mimetype": "text/x-python",
   "name": "python",
   "nbconvert_exporter": "python",
   "pygments_lexer": "ipython3",
   "version": "3.7.6"
  }
 },
 "nbformat": 4,
 "nbformat_minor": 4
}
