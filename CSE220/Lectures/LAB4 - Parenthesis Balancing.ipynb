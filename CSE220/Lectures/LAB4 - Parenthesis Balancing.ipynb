{
 "cells": [
  {
   "cell_type": "code",
   "execution_count": 39,
   "metadata": {},
   "outputs": [
    {
     "name": "stdout",
     "output_type": "stream",
     "text": [
      "This expression is NOT correct.\n",
      "Error at character #10.'{'-not closed.\n"
     ]
    }
   ],
   "source": [
    "#-----------------------------Task1-----------------------------\n",
    "\n",
    "def List_check(st):\n",
    "    stack = [] \n",
    "    opened = ['[','(','{']\n",
    "    closed = [']',')','}']  \n",
    "    for i in st: \n",
    "        if i in opened:\n",
    "            stack+=[i]  \n",
    "        if i in closed:\n",
    "            if(len(stack)==0):  \n",
    "                return f\"This expression is NOT correct.Error at character #{st.index(i)+1}.'{i}'-not opened.\"\n",
    "            elem = stack.pop()\n",
    "            id1=opened.index(elem)\n",
    "            id2=closed.index(i)\n",
    "            if((elem not in opened) or (id1!=id2)):\n",
    "                return f\"This expression is NOT correct.\\nError at character #{st.index(elem)+1}.'{elem}'-not closed.\"\n",
    "\n",
    "    return \"This expression is correct\"\n",
    "    \n",
    "if __name__ == \"__main__\":\n",
    "    s = \"1+2*[3*3+{4–5(6(7/8/9)+10)–11+(12*8)]+14\"\n",
    "    res = List_check(s)\n",
    "    print(res)\n",
    "    "
   ]
  },
  {
   "cell_type": "code",
   "execution_count": 37,
   "metadata": {},
   "outputs": [
    {
     "name": "stdout",
     "output_type": "stream",
     "text": [
      "This expression is NOT correct.\n",
      "Error at character #10.'{'-not closed.\n"
     ]
    }
   ],
   "source": [
    "#-------------------------Task2---------------------------\n",
    "\n",
    "class Node:\n",
    "    def __init__(self, data):\n",
    "        self.data = data\n",
    "        self.next = None\n",
    " \n",
    "class Stack:   \n",
    "    def __init__(self):\n",
    "        self.head = None\n",
    "        \n",
    "    def isempty(self):\n",
    "        if self.head == None:\n",
    "            return True\n",
    "        else:\n",
    "            return False\n",
    "    def push(self, data):  \n",
    "        if self.head is None:\n",
    "            self.head = Node(data)\n",
    "        else:\n",
    "            new_node = Node(data)\n",
    "            new_node.next = self.head\n",
    "            self.head = new_node\n",
    " \n",
    "    def pop(self):  \n",
    "        if self.head is None:\n",
    "            return None\n",
    "        else:\n",
    "            popped = self.head.data\n",
    "            self.head = self.head.next\n",
    "            return popped\n",
    " \n",
    "\n",
    "\n",
    "\n",
    "def linkedList_check(s):\n",
    "    stack = Stack()\n",
    "    opened = ['[','(','{']\n",
    "    closed = [']',')','}']  \n",
    "    for i in s:\n",
    "        if i in opened:\n",
    "            stack.push(i)\n",
    "        if i in closed:\n",
    "            elem = stack.pop()\n",
    "            if lst == None:\n",
    "                id1=opened.index(elem)\n",
    "                id2=closed.index(i)\n",
    "                return f\"This expression is NOT correct.Error at character #{s.index(i)+1}.'{i}'-not opened.\"\n",
    "            if((elem not in opened) or (id1 != id2)):\n",
    "                return f\"This expression is NOT correct.\\nError at character #{s.index(elem)+1}.'{elem}'-not closed.\"\n",
    "            \n",
    "    return \"This expression is correct\"\n",
    "    \n",
    "\n",
    "    \n",
    "if __name__ == \"__main__\":\n",
    "    s = \"1+2*[3*3+{4–5(6(7/8/9)+10)–11+(12*8)]+14\"\n",
    "    res = balance_1(s)\n",
    "    print(res)\n",
    "    "
   ]
  }
 ],
 "metadata": {
  "kernelspec": {
   "display_name": "Python 3",
   "language": "python",
   "name": "python3"
  },
  "language_info": {
   "codemirror_mode": {
    "name": "ipython",
    "version": 3
   },
   "file_extension": ".py",
   "mimetype": "text/x-python",
   "name": "python",
   "nbconvert_exporter": "python",
   "pygments_lexer": "ipython3",
   "version": "3.7.6"
  }
 },
 "nbformat": 4,
 "nbformat_minor": 4
}
