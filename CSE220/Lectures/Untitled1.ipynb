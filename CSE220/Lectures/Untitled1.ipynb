{
 "cells": [
  {
   "cell_type": "code",
   "execution_count": 3,
   "metadata": {},
   "outputs": [
    {
     "name": "stdout",
     "output_type": "stream",
     "text": [
      "3 4\n",
      "2\n",
      "0\n",
      "1\n",
      "0\n",
      "1\n",
      "4\n",
      "0\n",
      "2\n"
     ]
    }
   ],
   "source": [
    "class Node:\n",
    "    def __init__(self,v,n):\n",
    "        self.val = v\n",
    "        self.next = n\n",
    "\n",
    "\n",
    "class Mylist:\n",
    "    def __init__(self,lst):\n",
    "        self.head = None\n",
    "        if lst != None:\n",
    "            self.head = Node('x',None)\n",
    "            for i in str(lst):\n",
    "                new_node = Node(i,None)\n",
    "                last = self.head\n",
    "                while(last.next):\n",
    "                    last = last.next\n",
    "                last.next = new_node\n",
    "                \n",
    "    def insert_at(self,newElement,index= None):\n",
    "        if index>=0 and index<=self.cnt():\n",
    "            if index==0:\n",
    "                    self.insert_at_first(newElement)\n",
    "                    \n",
    "            elif index==self.cnt() or index== None:\n",
    "                self.insert_at_last(newElement)\n",
    "                \n",
    "            else:\n",
    "                c1nt = 1\n",
    "                tmp =self.head\n",
    "                while(tmp):\n",
    "                    if index==c1nt:\n",
    "                        temp = tmp.next\n",
    "                        new_node = Node(newElement,temp)\n",
    "                        tmp.next = new_node\n",
    "                        break\n",
    "\n",
    "                    c1nt+=1\n",
    "                    tmp = tmp.next   \n",
    "    def removeIndexes(self,a,b):\n",
    "        tmp =self.head \n",
    "        \n",
    "    def prnt(self):\n",
    "        tmp =self.head.next\n",
    "        while(tmp):\n",
    "            print(tmp.val)\n",
    "            tmp = tmp.next\n",
    "                \n",
    "                \n",
    "id1 = Mylist(20101402)\n",
    "a, b = list(map(int, input().split()))\n",
    "id1.prnt()"
   ]
  }
 ],
 "metadata": {
  "kernelspec": {
   "display_name": "Python 3",
   "language": "python",
   "name": "python3"
  },
  "language_info": {
   "codemirror_mode": {
    "name": "ipython",
    "version": 3
   },
   "file_extension": ".py",
   "mimetype": "text/x-python",
   "name": "python",
   "nbconvert_exporter": "python",
   "pygments_lexer": "ipython3",
   "version": "3.7.6"
  }
 },
 "nbformat": 4,
 "nbformat_minor": 4
}
