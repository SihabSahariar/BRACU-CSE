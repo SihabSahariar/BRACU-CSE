{
 "cells": [
  {
   "cell_type": "code",
   "execution_count": 5,
   "metadata": {},
   "outputs": [
    {
     "name": "stdout",
     "output_type": "stream",
     "text": [
      "Yes3 x= 7\n",
      "Yes2 x= 9\n",
      "Yes1 x= 10\n"
     ]
    }
   ],
   "source": [
    "#Before Recursion\n",
    "\n",
    "def f1(x):\n",
    "    f2(x-1) #f2(9)\n",
    "    print('Yes1','x=',x)\n",
    "    \n",
    "def f2(x):\n",
    "    f3(x-2) #f2(7)\n",
    "    print('Yes2','x=',x)\n",
    "    \n",
    "def f3(x):\n",
    "    print('Yes3','x=',x)\n",
    "    \n",
    "    \n",
    "    \n",
    "f1(10)"
   ]
  },
  {
   "cell_type": "code",
   "execution_count": null,
   "metadata": {},
   "outputs": [],
   "source": [
    "#Recursion Basics (Length of a string/list)\n",
    "def recur(x):\n",
    "    if x=='':  #বেস কেস \n",
    "        return 0\n",
    "    return 1+recur(x[1:])  #জেনারেল কেস\n",
    "    \n",
    "    \n",
    "    \n",
    "\n",
    "\n",
    "text = \"SIHAB\"\n",
    "lenght = recur(text)\n",
    "print(lenght)\n"
   ]
  },
  {
   "cell_type": "code",
   "execution_count": 98,
   "metadata": {},
   "outputs": [
    {
     "name": "stdout",
     "output_type": "stream",
     "text": [
      "-------Printing Linked List--------\n",
      "10\n",
      "20\n",
      "30\n",
      "40\n",
      "50\n",
      "------------------------------------\n",
      "Size:  5\n"
     ]
    }
   ],
   "source": [
    "#Length of a Linked List\n",
    "class Node:\n",
    "    def __init__(self,data):\n",
    "        self.data =data\n",
    "        self.next = None\n",
    "        \n",
    "        \n",
    "class Mylist:\n",
    "    def __init__(self,lst):\n",
    "        self.head = None\n",
    "        for i in lst:\n",
    "            new_node = Node(i)\n",
    "            \n",
    "            if self.head==None:\n",
    "                self.head = new_node\n",
    "            else:\n",
    "                last = self.head\n",
    "                while(last.next):\n",
    "                    last = last.next\n",
    "                last.next = new_node\n",
    "                \n",
    "        \n",
    "    def pr(self):\n",
    "        print('-------Printing Linked List--------')\n",
    "        temp = self.head\n",
    "        while(temp):\n",
    "            print(temp.data)\n",
    "            temp=temp.next\n",
    "        print('------------------------------------')\n",
    "    \n",
    "\n",
    "    def size_linked_lst(self,node):\n",
    "        if node == None:\n",
    "            return 0\n",
    "        return 1+self.size_linked_lst(node.next)\n",
    "    \n",
    "    \n",
    "    \n",
    "if __name__ == '__main__':    \n",
    "    lst = Mylist([10,20,30,40,50])\n",
    "    lst.pr()\n",
    "    print('Size: ',lst.size_linked_lst(lst.head))"
   ]
  },
  {
   "cell_type": "code",
   "execution_count": null,
   "metadata": {},
   "outputs": [],
   "source": [
    "#Sum of natural numbers\n",
    "\n",
    "def sum(x):\n",
    "    if x==0:\n",
    "        return 0\n",
    "    return x+sum(x-1)\n",
    "\n",
    "s = sum(10)\n",
    "print(s)"
   ]
  },
  {
   "cell_type": "code",
   "execution_count": null,
   "metadata": {},
   "outputs": [],
   "source": [
    "#Exponentiaton1\n",
    "\n",
    "def expt(x,y):\n",
    "    if y==0:\n",
    "        return 1\n",
    "    return x*expt(x,y-1)\n",
    "\n",
    "\n",
    "if __name__ == '__main__':\n",
    "    x = 2\n",
    "    y = 4\n",
    "    res = expt(x,y)\n",
    "    print(res)"
   ]
  },
  {
   "cell_type": "code",
   "execution_count": 334,
   "metadata": {},
   "outputs": [
    {
     "name": "stdout",
     "output_type": "stream",
     "text": [
      "1024\n"
     ]
    }
   ],
   "source": [
    "#Exponentiaton2\n",
    "\n",
    "#exp(2,8)\n",
    "\n",
    "def exp(x,y):\n",
    "    if y==0:\n",
    "        return 1\n",
    "    calc = exp(x,y//2)\n",
    "    if (y%2 == 0):\n",
    "        return calc*calc\n",
    "    else:\n",
    "        return x*calc*calc\n",
    "\n",
    "\n",
    "x = 2\n",
    "y = 10\n",
    "res = exp(x,y)\n",
    "print(res)"
   ]
  },
  {
   "cell_type": "code",
   "execution_count": null,
   "metadata": {},
   "outputs": [],
   "source": [
    "#Binary to Decimal \n",
    "def bintodec(x):\n",
    "    i = 0\n",
    "    dec = 0\n",
    "    while(x>0):\n",
    "        t = x%10\n",
    "        dec+=(t*(2**i))\n",
    "        i+=1\n",
    "        x//=10\n",
    "\n",
    "    return dec\n",
    "\n",
    "#print(bintodec(101))\n",
    "'''\n",
    "\n",
    "f(x) = x ; x = 0,1 অর্থাৎ যদি ১ অথবা ০ এর ডেসিমাল ভ্যালু জানতে চাই তবে বাইন আর ডেসিমাল সেম নাম্বার \n",
    "\n",
    "f(x) = x%10 + f(x//10)*2  ; অন্য যেকোন কেস\n",
    "\n",
    "'''\n",
    "\n",
    "def Binary(num):\n",
    "    if num==1 or num==0:\n",
    "        return num\n",
    "    else:\n",
    "        return num%10+Binary(num//10)*2\n",
    "        \n",
    "        \n",
    "Binary(11)"
   ]
  },
  {
   "cell_type": "code",
   "execution_count": null,
   "metadata": {},
   "outputs": [],
   "source": [
    "#Digit summaton\n",
    "\n",
    "\n",
    "def sum(x):\n",
    "    if x==0:\n",
    "        return 0\n",
    "    return x%10+sum(x//10)\n",
    "\n",
    "\n",
    "num = 123477\n",
    "print(sum(num))"
   ]
  },
  {
   "cell_type": "code",
   "execution_count": null,
   "metadata": {},
   "outputs": [],
   "source": [
    "#Factorials\n",
    "\n",
    "def fact(x):\n",
    "    if x==0:\n",
    "        return 1\n",
    "    return x*fact(x-1)\n",
    "\n",
    "\n",
    "f =5\n",
    "print(fact(f))"
   ]
  },
  {
   "cell_type": "code",
   "execution_count": null,
   "metadata": {},
   "outputs": [],
   "source": [
    "#Fibonacci - nth series\n",
    "'''\n",
    "0 1 1 2 3 5 8 13 21 34 55\n",
    "'''\n",
    "def fibo(x):\n",
    "    if x==0 or x==1:\n",
    "        return x\n",
    "    return fibo(x-1)+fibo(x-2) \n",
    "\n",
    "\n",
    "fibo(10)\n",
    "        "
   ]
  },
  {
   "cell_type": "code",
   "execution_count": 51,
   "metadata": {},
   "outputs": [
    {
     "name": "stdout",
     "output_type": "stream",
     "text": [
      "3\n",
      "2\n",
      "1\n",
      "1\n",
      "1\n",
      "2\n",
      "2\n",
      "3\n",
      "1\n",
      "1\n",
      "1\n",
      "3\n"
     ]
    }
   ],
   "source": [
    "#Practice-Lecture1\n",
    "\n",
    "def f(x): \n",
    "    if x<1:\n",
    "        return\n",
    "    else:\n",
    "        print(x) \n",
    "        f(x-1)\n",
    "        print(x)\n",
    "        f(x-2)\n",
    "        print(x)\n",
    "        \n",
    "        \n",
    "        \n",
    "        \n",
    "rec(3)"
   ]
  },
  {
   "cell_type": "code",
   "execution_count": 56,
   "metadata": {},
   "outputs": [
    {
     "name": "stdout",
     "output_type": "stream",
     "text": [
      "1-N-WAY1\n",
      "\n",
      "1\n",
      "2\n",
      "3\n",
      "4\n",
      "5\n",
      "6\n",
      "7\n",
      "8\n",
      "9\n",
      "10\n",
      "11\n",
      "\n",
      "1-N-WAY2\n",
      "\n",
      "1\n",
      "2\n",
      "3\n",
      "4\n",
      "5\n",
      "6\n",
      "7\n",
      "8\n",
      "9\n",
      "10\n",
      "\n",
      "N-1\n",
      "\n",
      "5\n",
      "4\n",
      "3\n",
      "2\n",
      "1\n"
     ]
    }
   ],
   "source": [
    "#Practice - print 1 to n and reverse also\n",
    "\n",
    "\n",
    "\n",
    "def prn_D(x):\n",
    "    if x==0:\n",
    "        return\n",
    "    print(x)\n",
    "    return prn_D(x-1)\n",
    "\n",
    "\n",
    "\n",
    "def prn_A1(x,i=1): #using tail recursion \n",
    "    if x<0:\n",
    "        return\n",
    "    print(i)\n",
    "    return prn_A1(x-1,i+1)\n",
    "\n",
    "\n",
    "def prn_A2(x):\n",
    "    if x==0:\n",
    "        return\n",
    "    prn_A2(x-1)\n",
    "    print(x)\n",
    "\n",
    "\n",
    "\n",
    "print('1-N-WAY1\\n')\n",
    "prn_A1(10)\n",
    "\n",
    "print('\\n1-N-WAY2\\n')\n",
    "prn_A2(10)\n",
    "\n",
    "print('\\nN-1\\n')\n",
    "prn_D(5)"
   ]
  },
  {
   "cell_type": "code",
   "execution_count": 61,
   "metadata": {},
   "outputs": [
    {
     "data": {
      "text/plain": [
       "120"
      ]
     },
     "execution_count": 61,
     "metadata": {},
     "output_type": "execute_result"
    }
   ],
   "source": [
    "#factorial using tail recursion\n",
    "\n",
    "def fact(x,val=1):\n",
    "    if x==0:\n",
    "        return val\n",
    "    return fact(x-1,x*val)\n",
    "\n",
    "\n",
    "fact(5)"
   ]
  },
  {
   "cell_type": "code",
   "execution_count": 99,
   "metadata": {},
   "outputs": [
    {
     "name": "stdout",
     "output_type": "stream",
     "text": [
      "True\n"
     ]
    }
   ],
   "source": [
    "#Palindrome check\n",
    "\n",
    "def palindrome(s,i,l):\n",
    "#     if l<0:\n",
    "#         return\n",
    "    if i==l or i>l:\n",
    "        return True\n",
    "    if s[i]!=s[l]:\n",
    "        return False\n",
    "    return pal(s,i+1,l-1)\n",
    "\n",
    "#   pal(s,i+1,l-1)\n",
    "#   return True\n",
    "    \n",
    "    \n",
    "    \n",
    "\n",
    "    \n",
    "st = 'MADAM'\n",
    "i = 0\n",
    "l = len(st)-1\n",
    "x = palindrome(st,i,l)\n",
    "print(x)"
   ]
  },
  {
   "cell_type": "code",
   "execution_count": 89,
   "metadata": {},
   "outputs": [
    {
     "name": "stdout",
     "output_type": "stream",
     "text": [
      "3\n",
      "10\n"
     ]
    }
   ],
   "source": [
    "#josephus Problem with recursion \n",
    "\n",
    "#input func(total number of people(n),kill at kth position (k)) -> starts from 1 index\n",
    "def jos(n,k):\n",
    "    \"\"\"\n",
    "      :param n: The number of objects in the circle (array)\n",
    "      :param k: The number of skips after an object is removed\n",
    "      :return: The position of the final object left\n",
    "    \"\"\"\n",
    "    if n==1:\n",
    "        return 1\n",
    "    return (jos(n-1,k)+k-1)%n+1\n",
    "\n",
    "\n",
    "#input func(total number of people(n)) and it'll kill one after one-> starts from 1 index\n",
    "def jos_41(n):\n",
    "    if n==1:\n",
    "        return n\n",
    "    return (jos_41(n-1)+1)%n+1\n",
    "\n",
    "\n",
    " \n",
    "\n",
    "print(jos_41(9))\n",
    "print(jos(12,3))\n",
    "\n",
    "\n"
   ]
  },
  {
   "cell_type": "code",
   "execution_count": 4,
   "metadata": {},
   "outputs": [
    {
     "name": "stdout",
     "output_type": "stream",
     "text": [
      "Output: 3\n"
     ]
    }
   ],
   "source": [
    "#josephus Problem with loop\n",
    "\n",
    "def josephus(n,k):\n",
    "    res = 0;\n",
    "    i=1\n",
    "    while i <= n:\n",
    "        res = (res + k) % i;\n",
    "        i+=1\n",
    "    return res + 1;\n",
    "\n",
    "\n",
    "       \n",
    "print('Output:',josephus(3,2))\n"
   ]
  },
  {
   "cell_type": "code",
   "execution_count": 104,
   "metadata": {},
   "outputs": [
    {
     "name": "stdout",
     "output_type": "stream",
     "text": [
      "-------Printing Linked List--------\n",
      "10\n",
      "20\n",
      "30\n",
      "40\n",
      "50\n",
      "------------------------------------\n",
      "SUM:  150\n"
     ]
    }
   ],
   "source": [
    "#Sum of a Linked List\n",
    "class Node:\n",
    "    def __init__(self,data):\n",
    "        self.data =data\n",
    "        self.next = None\n",
    "        \n",
    "        \n",
    "class Mylist:\n",
    "    def __init__(self,lst):\n",
    "        self.head = None\n",
    "        for i in lst:\n",
    "            new_node = Node(i)\n",
    "            \n",
    "            if self.head==None:\n",
    "                self.head = new_node\n",
    "            else:\n",
    "                last = self.head\n",
    "                while(last.next):\n",
    "                    last = last.next\n",
    "                last.next = new_node\n",
    "                \n",
    "        \n",
    "    def pr(self):\n",
    "        print('-------Printing Linked List--------')\n",
    "        temp = self.head\n",
    "        while(temp):\n",
    "            print(temp.data)\n",
    "            temp=temp.next\n",
    "        print('------------------------------------')\n",
    "    \n",
    "\n",
    "    def size_linked_lst(self,node):\n",
    "        if node == None:\n",
    "            return 0\n",
    "        return node.data +self.size_linked_lst(node.next)\n",
    "    \n",
    "    \n",
    "    \n",
    "if __name__ == '__main__':    \n",
    "    lst = Mylist([10,20,30,40,50])\n",
    "    lst.pr()\n",
    "    print('SUM: ',lst.size_linked_lst(lst.head))"
   ]
  },
  {
   "cell_type": "code",
   "execution_count": 114,
   "metadata": {},
   "outputs": [
    {
     "name": "stdout",
     "output_type": "stream",
     "text": [
      "SUM OF ARRAY =  180\n"
     ]
    }
   ],
   "source": [
    "#Array Sum\n",
    "\n",
    "def arraySum(x,i):\n",
    "    if i<0:\n",
    "        return 0\n",
    "    return x[i]+arraySum(x,i-1)\n",
    "\n",
    "a = [10,40,60,70]\n",
    "i = len(a)-1\n",
    "print('SUM OF ARRAY = ',arraySum(a,i))"
   ]
  },
  {
   "cell_type": "code",
   "execution_count": 130,
   "metadata": {},
   "outputs": [
    {
     "data": {
      "text/plain": [
       "False"
      ]
     },
     "execution_count": 130,
     "metadata": {},
     "output_type": "execute_result"
    }
   ],
   "source": [
    "#Linear Search/Sequential Search -1\n",
    "\n",
    "def sL(lst,size,key):\n",
    "    if size<0:\n",
    "        return \n",
    "    if lst[size] == key:\n",
    "        return True\n",
    "    else:\n",
    "        sL(lst[1:],size-1,key)\n",
    "    return False\n",
    "    \n",
    "    \n",
    "a = [10,70,90,45]\n",
    "sL(a,3,70)"
   ]
  },
  {
   "cell_type": "code",
   "execution_count": 219,
   "metadata": {},
   "outputs": [
    {
     "name": "stdout",
     "output_type": "stream",
     "text": [
      "Found\n"
     ]
    },
    {
     "data": {
      "text/plain": [
       "2"
      ]
     },
     "execution_count": 219,
     "metadata": {},
     "output_type": "execute_result"
    }
   ],
   "source": [
    "#Linear Search / sequential search  -2\n",
    "def linear_search(x,key):\n",
    "    last = -1\n",
    "    for i in range(len(x)):\n",
    "        if x[i]==key:\n",
    "            print('Found')\n",
    "            last =i \n",
    "            break\n",
    "    if last==-1:\n",
    "        print('Not Found')\n",
    "\n",
    "def linear_recursive(x,i,key):\n",
    "    if i==len(x):\n",
    "        return -1 #return -1 if can't find key\n",
    "    else:\n",
    "        if x[i]==key:\n",
    "            return i #Return the index where found key \n",
    "    return linear_recursive(x,i+1,key)\n",
    "    \n",
    "\n",
    "    \n",
    "\n",
    "x = [10,78,56,45,22]\n",
    "key = 56\n",
    "linear_search(x,key)\n",
    "linear_recursive(x,0,key)"
   ]
  },
  {
   "cell_type": "code",
   "execution_count": 217,
   "metadata": {},
   "outputs": [
    {
     "name": "stdout",
     "output_type": "stream",
     "text": [
      "22 100\n"
     ]
    }
   ],
   "source": [
    "#max and minimum of a list \n",
    "def mx_array(x,i,mx=-2147483648):\n",
    "    if i==len(x):\n",
    "        return mx\n",
    "    if x[i]>mx:\n",
    "        mx = x[i]\n",
    "    return mx_array(x,i+1,mx)\n",
    "\n",
    "def mn_array(x,i,mn=2147483647):\n",
    "    if i==len(x):\n",
    "        return mn\n",
    "    if x[i]<mn:\n",
    "        mn = x[i]\n",
    "    return mn_array(x,i+1,mn)\n",
    "\n",
    "x = [100,78,56,45,22]\n",
    "\n",
    "print(mn_array(x,0),mx_array(x,0))"
   ]
  },
  {
   "cell_type": "code",
   "execution_count": 244,
   "metadata": {},
   "outputs": [
    {
     "name": "stdout",
     "output_type": "stream",
     "text": [
      "[6, 10, 23, 43, 56, 78, 99]\n",
      "STEP_FOUND =  3\n"
     ]
    },
    {
     "data": {
      "text/plain": [
       "False"
      ]
     },
     "execution_count": 244,
     "metadata": {},
     "output_type": "execute_result"
    }
   ],
   "source": [
    "#Binary Search implementation \n",
    "def BS(A,key):\n",
    "    count_step=0\n",
    "    start =0\n",
    "    end = len(A)-1\n",
    "    found=False\n",
    "    while(start<=end and not found):\n",
    "        count_step+=1\n",
    "        mid = (start+end)//2\n",
    "        if key==A[mid]:\n",
    "            found=True\n",
    "        else:\n",
    "            if key<A[mid]:\n",
    "                end = mid-1\n",
    "            else:\n",
    "                start = mid+1\n",
    "    print('STEP_FOUND = ',count_step)\n",
    "    return found\n",
    "\n",
    "\n",
    "\n",
    "x = [10,78,99,43,23,56,6]\n",
    "x.sort()\n",
    "print(x)\n",
    "BS(x,3)\n",
    "        "
   ]
  },
  {
   "cell_type": "code",
   "execution_count": 281,
   "metadata": {},
   "outputs": [
    {
     "name": "stdout",
     "output_type": "stream",
     "text": [
      "Array = [10, 78, 99, 43, 23, 56, 6]\n",
      "SUM = 315\n"
     ]
    }
   ],
   "source": [
    "#BinarySum/Divide & coquer approach \n",
    "def DC_Sum(arra,start,end):\n",
    "    mid = (start+end)//2\n",
    "    if start==end:\n",
    "        return arra[mid]\n",
    "    else:\n",
    "        return DC_Sum(arra,start,mid)+DC_Sum(arra,mid+1,end)\n",
    "    \n",
    "x = [10,78,99,43,23,56,6]\n",
    "s = DC_Sum(x,0,6)\n",
    "\n",
    "print(f\"Array = {x}\\nSUM = {s}\")"
   ]
  },
  {
   "cell_type": "code",
   "execution_count": 293,
   "metadata": {},
   "outputs": [
    {
     "name": "stdout",
     "output_type": "stream",
     "text": [
      "Array = [10, 78, 99, 999, 43, 23, 56, 6]\n",
      "MaxArray = 999\n"
     ]
    }
   ],
   "source": [
    "#MaxArray/Divide & coquer approach \n",
    "\n",
    "def maxArray(arra,start,end):\n",
    "    mid = (start+end)//2\n",
    "    if start==end:\n",
    "        return arra[mid]\n",
    "    else:\n",
    "        if maxArray(arra,start,mid)>maxArray(arra,mid+1,end):\n",
    "            mx = maxArray(arra,start,mid)\n",
    "        else:\n",
    "            mx = maxArray(arra,mid+1,end)\n",
    "        return mx\n",
    "    \n",
    "x = [10,78,99,999,43,23,56,6]\n",
    "m = maxArray(x,0,6)\n",
    "\n",
    "print(f\"Array = {x}\\nMaxArray = {m}\")"
   ]
  },
  {
   "cell_type": "code",
   "execution_count": 324,
   "metadata": {},
   "outputs": [
    {
     "data": {
      "text/plain": [
       "4"
      ]
     },
     "execution_count": 324,
     "metadata": {},
     "output_type": "execute_result"
    }
   ],
   "source": [
    "#BinarySearch_D&C\n",
    "\n",
    "def bs_rec(arra,left,right,key):\n",
    "    mid = left+((right-left)//2)\n",
    "    if left>right:\n",
    "        return False\n",
    "    else:\n",
    "        if arra[mid]==key:\n",
    "            return mid\n",
    "        elif arra[mid]>key:\n",
    "            right = mid-1\n",
    "        elif arra[mid]<key:\n",
    "            left = mid+1\n",
    "            \n",
    "    return bs_rec(arra,left,right,key)\n",
    "\n",
    "x = [4, 10, 33, 35, 57, 178]\n",
    "start = 0\n",
    "end = len(x)-1\n",
    "\n",
    "bs_rec(x,start,end,57)"
   ]
  },
  {
   "cell_type": "code",
   "execution_count": 342,
   "metadata": {},
   "outputs": [
    {
     "data": {
      "text/plain": [
       "16"
      ]
     },
     "execution_count": 342,
     "metadata": {},
     "output_type": "execute_result"
    }
   ],
   "source": [
    "#Exponentiation\n",
    "\n",
    "'''\n",
    "\n",
    "x^n = x^(n/2)*x^(n/2)  when n is even\n",
    "    = x^(n/2)*x^(n/2)*x when n is odd \n",
    "    \n",
    "----test cases--    \n",
    "4^3 = 4^1*4^1*4 \n",
    "4^4 = 4^2*4^2 = (4^1*4^1)*(4^1*4^1)\n",
    "4^0 = 1\n",
    "'''\n",
    "\n",
    "def exp_rec(a,x):\n",
    "    if x==0:\n",
    "        return 1\n",
    "    calc = exp_rec(a,x//2)\n",
    "    if x%2==0:\n",
    "        return calc*calc\n",
    "    else:\n",
    "        return calc*calc*a\n",
    "    \n",
    "exp_rec(2,4)"
   ]
  },
  {
   "cell_type": "code",
   "execution_count": 347,
   "metadata": {},
   "outputs": [
    {
     "name": "stdout",
     "output_type": "stream",
     "text": [
      "[1, 2, 23, 77, 89]\n"
     ]
    }
   ],
   "source": [
    "#Bubble Sorting -1\n",
    "lst = [23,77,89,2,1]\n",
    "for t in range(len(lst)):\n",
    "    for i in range(len(lst)-1):\n",
    "        if lst[i]>lst[i+1]:\n",
    "            lst[i],lst[i+1] = lst[i+1],lst[i]\n",
    "        \n",
    "print(lst)        "
   ]
  },
  {
   "cell_type": "code",
   "execution_count": 96,
   "metadata": {},
   "outputs": [
    {
     "name": "stdout",
     "output_type": "stream",
     "text": [
      "[1, 2, 23, 77, 89]\n"
     ]
    }
   ],
   "source": [
    "#Bubble Sorting -2\n",
    "lst = [23,77,89,2,1]\n",
    "for k in range(len(lst)-1):\n",
    "    for i in range(len(lst)-k-1): #After every k passes, we have k number of sorted elements \n",
    "        if lst[i]>lst[i+1]:\n",
    "            lst[i],lst[i+1] = lst[i+1],lst[i]\n",
    "\n",
    "        \n",
    "print(lst)        "
   ]
  },
  {
   "cell_type": "code",
   "execution_count": 95,
   "metadata": {},
   "outputs": [
    {
     "name": "stdout",
     "output_type": "stream",
     "text": [
      "[1, 2, 23, 77, 89]\n"
     ]
    }
   ],
   "source": [
    "#Bubble Sorting -3\n",
    "def Bubble_Sort(lst,l):\n",
    "    for t in range(l):\n",
    "        flag = 0\n",
    "        for i in range(l-1-t):\n",
    "            if lst[i]>lst[i+1]:\n",
    "                lst[i],lst[i+1] = lst[i+1],lst[i]\n",
    "                flag=-1\n",
    "        if flag==0:\n",
    "            break\n",
    "lst = [23,77,89,2,1]\n",
    "l =len(lst)\n",
    "Bubble_Sort(lst,l)\n",
    "print(lst)        "
   ]
  },
  {
   "cell_type": "code",
   "execution_count": 358,
   "metadata": {},
   "outputs": [
    {
     "name": "stdout",
     "output_type": "stream",
     "text": [
      "[1, 2, 23, 77, 89]\n"
     ]
    }
   ],
   "source": [
    "#Bubble Sorting - 4 (Recursion)\n",
    "\n",
    "def bubble_sort(lst,length):\n",
    "    if length==0:\n",
    "        return lst\n",
    "    else:\n",
    "        for i in range(length):\n",
    "            if lst[i]>lst[i+1]:\n",
    "                lst[i],lst[i+1] = lst[i+1],lst[i] \n",
    "                \n",
    "    bubble_sort(lst,length-1)\n",
    "    \n",
    "    \n",
    "lst = [23,77,89,2,1]        \n",
    "size = len(lst)-1\n",
    "bubble_sort(lst,size)\n",
    "print(lst)"
   ]
  },
  {
   "cell_type": "code",
   "execution_count": 15,
   "metadata": {},
   "outputs": [
    {
     "name": "stdout",
     "output_type": "stream",
     "text": [
      "[1, 2, 23, 77, 89]\n"
     ]
    }
   ],
   "source": [
    "#Selection Sort -1 \n",
    "\n",
    "lst = [23,77,89,2,1]\n",
    "l = len(lst)-1\n",
    "i=0\n",
    "while i<l:\n",
    "    mx = i\n",
    "    for j in range(i+1,len(lst)):\n",
    "        if lst[j]<lst[mx]:\n",
    "            mx = j\n",
    "    \n",
    "    lst[i],lst[mx] = lst[mx],lst[i]\n",
    "    i+=1\n",
    "\n",
    "print(lst)\n",
    "    "
   ]
  },
  {
   "cell_type": "code",
   "execution_count": 43,
   "metadata": {},
   "outputs": [
    {
     "name": "stdout",
     "output_type": "stream",
     "text": [
      "STEP = 14\n"
     ]
    },
    {
     "data": {
      "text/plain": [
       "[1, 8, 2, 19, 21, 23, 55, 77, 89, 100]"
      ]
     },
     "execution_count": 43,
     "metadata": {},
     "output_type": "execute_result"
    }
   ],
   "source": [
    "#SelectionSort-2 (Recursion)\n",
    "def selectionSort(arra,size,count):\n",
    "    if size==0:\n",
    "        print('STEP =',count)\n",
    "        return arra\n",
    "    mn = size\n",
    "    for i in range(size):\n",
    "        if arra[mn]<arra[i]:\n",
    "            mn = i\n",
    "            count+=1\n",
    "    arra[mn],arra[size] = arra[size],arra[mn]\n",
    "    return selectionSort(arra,size-1,count)\n",
    "\n",
    "\n",
    "lst = [21,55,23,77,19,89,8,2,1,100]\n",
    "l = len(lst)-1\n",
    "count=0\n",
    "selectionSort(lst,l,count)"
   ]
  },
  {
   "cell_type": "code",
   "execution_count": 93,
   "metadata": {},
   "outputs": [
    {
     "name": "stdout",
     "output_type": "stream",
     "text": [
      "[0, 1, 4, 6, 34, 78]\n",
      "[3, 4, 8, 10, 17, 61]\n"
     ]
    }
   ],
   "source": [
    "#SelectionSort -3\n",
    "\n",
    "def select_sort1(array,size):  #Iteration Method \n",
    "    for i in range(size-1):\n",
    "        imin = i\n",
    "        for j in range(i+1,size):\n",
    "            if array[j]<array[imin]:\n",
    "                imin = j\n",
    "        temp = array[i]\n",
    "        array[i] = array[imin]\n",
    "        array[imin] = temp\n",
    "\n",
    "        \n",
    "def select_sort2(array,size): #Recursive Method\n",
    "        if size==-1:\n",
    "            return array\n",
    "        imax=size-1\n",
    "        for j in reversed(range(size-1)):\n",
    "            if array[j]>array[imax]:\n",
    "                imax = j\n",
    "        temp = array[imax]\n",
    "        array[imax] = array[size-1]\n",
    "        array[size-1] = temp \n",
    "        return select_sort2(array,size-1)\n",
    "\n",
    "\n",
    "\n",
    "lst1 = [34,6,78,0,1,4]\n",
    "size1 = len(lst1)\n",
    "select_sort1(lst1,size1)\n",
    "print(lst1)\n",
    "\n",
    "\n",
    "lst2 = [3,61,8,10,17,4]\n",
    "size2 = len(lst2)\n",
    "select_sort2(lst2,size2)\n",
    "print(lst2)"
   ]
  },
  {
   "cell_type": "code",
   "execution_count": 107,
   "metadata": {},
   "outputs": [
    {
     "name": "stdout",
     "output_type": "stream",
     "text": [
      "[10, 30, 56, 78, 90, 99]\n"
     ]
    }
   ],
   "source": [
    "#insertion Sort - Basics\n",
    "\n",
    "arra=[10,30,56,78,99,0]\n",
    "elem = 90\n",
    "for i in reversed(range(5)):\n",
    "    if arra[i]>elem:\n",
    "        arra[i+1] = arra[i]\n",
    "    else:\n",
    "        arra[i+1]=elem\n",
    "        break\n",
    "        \n",
    "print(arra)"
   ]
  },
  {
   "cell_type": "code",
   "execution_count": 134,
   "metadata": {},
   "outputs": [
    {
     "name": "stdout",
     "output_type": "stream",
     "text": [
      "------------STEP 0-----------\n",
      "Given Array [120, 30, 516, 8, 99]\n",
      "\n",
      "------------STEP 1-----------\n",
      "pass(i) = 1\n",
      "j =0\n",
      "x= 30\n",
      "After insertion 30 in the array - [30, 120, 516, 8, 99]\n",
      "------------STEP 2-----------\n",
      "pass(i) = 2\n",
      "j =1\n",
      "x= 516\n",
      "After insertion 516 in the array - [30, 120, 516, 8, 99]\n",
      "------------STEP 3-----------\n",
      "pass(i) = 3\n",
      "j =2\n",
      "x= 8\n",
      "After insertion 8 in the array - [8, 30, 120, 516, 99]\n",
      "------------STEP 4-----------\n",
      "pass(i) = 4\n",
      "j =3\n",
      "x= 99\n",
      "After insertion 99 in the array - [8, 30, 99, 120, 516]\n",
      "\n",
      "Final Sorted Array\n",
      "[8, 30, 99, 120, 516]\n"
     ]
    }
   ],
   "source": [
    "#insertion Sort - 1\n",
    "\n",
    "def insertion_Sort(array,size):\n",
    "    print('------------STEP 0-----------')\n",
    "    print(f'Given Array {array}\\n')\n",
    "    \n",
    "    for i in range(1,size):\n",
    "        print(f'------------STEP {i}-----------')\n",
    "        j = i-1\n",
    "        x = array[i]\n",
    "        print(f\"pass(i) = {i}\\nj ={j}\\nx= {x}\")\n",
    "        while (j>-1 and array[j]>x):\n",
    "            array[j+1] = array[j]\n",
    "            j-=1\n",
    "        array[j+1] = x\n",
    "        print(f'After insertion {x} in the array - {array}')\n",
    "        \n",
    "        \n",
    "array1=[120,30,516,8,99]\n",
    "size = len(array1)\n",
    "insertion_Sort(array1,size)\n",
    "print('\\nFinal Sorted Array')\n",
    "print(array1)"
   ]
  },
  {
   "cell_type": "code",
   "execution_count": null,
   "metadata": {},
   "outputs": [],
   "source": []
  },
  {
   "cell_type": "code",
   "execution_count": 149,
   "metadata": {},
   "outputs": [
    {
     "name": "stdout",
     "output_type": "stream",
     "text": [
      "[8, 30, 99, 120, 516]\n"
     ]
    }
   ],
   "source": [
    "#Insertion Sort - 2\n",
    "\n",
    "def insertion_sort2(A):\n",
    "\n",
    "    for i in range(len(A)): #For pass \n",
    "        for j in reversed(range(0,i)): #Element needed to be shifted and swapped\n",
    "            if(A[j]>A[j+1]):\n",
    "                A[j],A[j+1] = A[j+1],A[j]\n",
    "            else:\n",
    "                break\n",
    "                \n",
    "arr =[120,30,516,8,99]\n",
    "insertion_sort2(arr)\n",
    "print(arr)\n"
   ]
  },
  {
   "cell_type": "code",
   "execution_count": 177,
   "metadata": {},
   "outputs": [
    {
     "name": "stdout",
     "output_type": "stream",
     "text": [
      "[8, 30, 99, 120, 516]\n"
     ]
    }
   ],
   "source": [
    "#Insertion Sort -3 (Recursion)\n",
    "def reverseloop():\n",
    "    for i in range(20,-1,-1):\n",
    "        print(i ,end = ' ')\n",
    "\n",
    "\n",
    "def inserSort(A,i):\n",
    "    if i==len(A):\n",
    "        return A\n",
    "    else:\n",
    "        for j in range(i-1,-1,-1): #Element needed to be shifted and swapped\n",
    "            if(A[j+1]<A[j]):\n",
    "                A[j],A[j+1] = A[j+1],A[j]\n",
    "            else:\n",
    "                break\n",
    "        return inserSort(A,i+1)\n",
    "\n",
    "    \n",
    "arr1 =[120,30,516,8,99]\n",
    "size_arr1 = len(arr1)\n",
    "inserSort(arr1,0)\n",
    "print(arr1)\n"
   ]
  },
  {
   "cell_type": "code",
   "execution_count": null,
   "metadata": {},
   "outputs": [],
   "source": [
    "#Max Area in a histogram\n",
    "\n",
    "def maxArea(array):\n",
    "    if len(array)>0:\n",
    "        hisArea(array,0,len(array)-1)\n",
    "    return max_area\n",
    "\n",
    "\n",
    "def hisArea(array,left,right):\n",
    "    global max_area\n",
    "    if left==right:\n",
    "        max_area= max(max_area,array[left])\n",
    "    minloc = findMin(array,left,right)\n",
    "    max_area =max(max_area,(right-left+1)*array[minloc])\n",
    "    \n",
    "    if minloc!=left:\n",
    "        return hisArea(array,left,minloc-1)\n",
    "    if minloc!=right:\n",
    "        return hisArea(array,minloc+1,right)\n",
    "\n",
    "def findMin(array,left,right):\n",
    "    id = left\n",
    "    mn =  array[left]\n",
    "    for i in range(left,right+1):\n",
    "        if array[i]<mn:\n",
    "            mn = array[i]\n",
    "            id = i\n",
    "            \n",
    "    return id        \n",
    "\n",
    "\n",
    "\n",
    "\n",
    "def harea(array,left,right):\n",
    "    if left==right:\n",
    "        return array[left]\n",
    "    \n",
    "    minloc = findMin(array,left,right)\n",
    "    max_area =(right-left+1)*array[minloc]\n",
    "    ar1 = harea(array,left,minloc-1)\n",
    "    ar2 = harea(array,minloc+1,right)\n",
    "    return max(max_area,max(ar1,ar2))\n",
    "    \n",
    "\n",
    "\n",
    "\n",
    "\n",
    "\n",
    "\n",
    "heights = [2,1,5,6,2,3]\n",
    "harea(heights,0,5)"
   ]
  },
  {
   "cell_type": "code",
   "execution_count": null,
   "metadata": {
    "scrolled": false
   },
   "outputs": [],
   "source": [
    "#Fibonacci\n",
    "\n",
    "def fibo(x):\n",
    "    if x<=1:\n",
    "        return x\n",
    "    return fibo(x-1)+fibo(x-2)\n",
    "\n",
    "\n",
    "\n",
    "for i in range(45):\n",
    "    print(fibo(i),end=\" \")"
   ]
  },
  {
   "cell_type": "code",
   "execution_count": 108,
   "metadata": {},
   "outputs": [
    {
     "name": "stdout",
     "output_type": "stream",
     "text": [
      "1836311903\n",
      "999700\n"
     ]
    }
   ],
   "source": [
    "#memoization\n",
    "import time\n",
    "A = list()\n",
    "def F(n):\n",
    "    if (n==0 or n==1):\n",
    "        return 1\n",
    "    else:\n",
    "        return F(n-1)+F(n-2)\n",
    "def FM(n):\n",
    "    if(A[n] > 0):\n",
    "         return A[n]\n",
    "    if(n == 0 or n==1):\n",
    "         return 1\n",
    "    else:\n",
    "         return A[n].append(FM(n-1)+FM(n-2))\n",
    "def CalcFib():\n",
    "    A.insert(0,1)\n",
    "    A.insert(1,1)\n",
    "    for i in range(2,46):\n",
    "        A.insert(i,A[i-1]+A[i-2])\n",
    "\n",
    "#-------------Tester----------------#\n",
    "CalcFib()\n",
    "startTime = time.time_ns()\n",
    "print(FM(45))\n",
    "duration = time.time_ns()-startTime\n",
    "print(duration)"
   ]
  },
  {
   "cell_type": "code",
   "execution_count": 1,
   "metadata": {},
   "outputs": [
    {
     "name": "stdout",
     "output_type": "stream",
     "text": [
      "0 1 1 2 3 5 8 13 21 34 55 "
     ]
    }
   ],
   "source": [
    "#memoization-2\n",
    "\n",
    "fibo_cache={}\n",
    "#here x is the key of dictionary and val is the value of that key. Making a database to \n",
    "#store the data those are not calculated yet. Before every recurive call, we'll check from\n",
    "#here if the function is already calculated, if yes simply return the value\n",
    "\n",
    "def fibo(x):\n",
    "    #if we have already computed then return it\n",
    "    if x in fibo_cache:\n",
    "        return fibo_cache[x]\n",
    "    #else calculate it \n",
    "    if x==1:\n",
    "        return 0\n",
    "    elif x==2:\n",
    "        return 1\n",
    "  \n",
    "    else:\n",
    "        val =fibo(x-1)+fibo(x-2)\n",
    "        \n",
    "        \n",
    "    #cache the value and return it\n",
    "    fibo_cache[x] = val\n",
    "    return val\n",
    "        \n",
    "for i in range(1,12):\n",
    "    #print(i,'th fibonacchi number =',fibo(i))\n",
    "    print(fibo(i),end=' ')\n"
   ]
  }
 ],
 "metadata": {
  "kernelspec": {
   "display_name": "Python 3",
   "language": "python",
   "name": "python3"
  },
  "language_info": {
   "codemirror_mode": {
    "name": "ipython",
    "version": 3
   },
   "file_extension": ".py",
   "mimetype": "text/x-python",
   "name": "python",
   "nbconvert_exporter": "python",
   "pygments_lexer": "ipython3",
   "version": "3.7.6"
  }
 },
 "nbformat": 4,
 "nbformat_minor": 4
}
