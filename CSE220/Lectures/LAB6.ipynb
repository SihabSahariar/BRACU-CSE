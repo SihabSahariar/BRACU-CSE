{
 "cells": [
  {
   "cell_type": "code",
   "execution_count": 1,
   "metadata": {},
   "outputs": [],
   "source": [
    "#----------------------Task1--------------------------\n",
    "def selecttionSort(array,size): \n",
    "        if size==-1:\n",
    "            return array\n",
    "        imax=size-1\n",
    "        for j in reversed(range(size-1)):\n",
    "            if array[j]>array[imax]:\n",
    "                imax = j\n",
    "        temp = array[imax]\n",
    "        array[imax] = array[size-1]\n",
    "        array[size-1] = temp \n",
    "        return selecttionSort(array,size-1)"
   ]
  },
  {
   "cell_type": "code",
   "execution_count": 3,
   "metadata": {},
   "outputs": [],
   "source": [
    "#----------------------Task2--------------------------\n",
    "def insertionSort(A,i):\n",
    "    if i==len(A):\n",
    "        return A\n",
    "    else:\n",
    "        for j in range(i-1,-1,-1):\n",
    "            if(A[j+1]<A[j]):\n",
    "                A[j],A[j+1] = A[j+1],A[j]\n",
    "            else:\n",
    "                break\n",
    "        return insertionSort(A,i+1)"
   ]
  },
  {
   "cell_type": "code",
   "execution_count": 7,
   "metadata": {},
   "outputs": [],
   "source": [
    "#----------------------Task3--------------------------\n",
    "def bubbleSort(self):\n",
    "    end = None\n",
    "    while end != self.startNode:\n",
    "        r = self.startNode\n",
    "        p = self.startNode\n",
    "        \n",
    "        while p.ref != end:\n",
    "            q = p.ref\n",
    "            if p.item > q.item:\n",
    "                p.ref = q.ref\n",
    "                q.ref = p\n",
    "                if p != self.startNode:\n",
    "                    r.ref = q\n",
    "                else:\n",
    "                    self.starNode = q\n",
    "                p,q = q,p\n",
    "            r = p\n",
    "            p = p.ref\n",
    "        end = p\n"
   ]
  },
  {
   "cell_type": "code",
   "execution_count": 12,
   "metadata": {},
   "outputs": [],
   "source": [
    "##----------------------Task4--------------------------\n",
    "def swap(head_ref, currX, currY, prevY) :\n",
    "    head_ref = currY \n",
    "    prevY.next = currX \n",
    "    currY.next,currX.next = currX.next,currY.next\n",
    "    return head_ref\n",
    "def SelectionSort(head):\n",
    "\n",
    "    if head.next is None:\n",
    "        return head \n",
    "\n",
    "    mn ,beforeMin = head , None\n",
    "    ptr = head\n",
    "    while ptr.next:\n",
    "        if ptr.next.data < mn.data:      \n",
    "            mn,beforeMin = ptr.next,ptr\n",
    "        ptr = ptr.next\n",
    "\n",
    "    if mn is not head:\n",
    "        head = swap(head, head, mn, beforeMin) \n",
    "    head.next = SelectionSort(head.next) \n",
    "    return head \n"
   ]
  },
  {
   "cell_type": "code",
   "execution_count": 14,
   "metadata": {},
   "outputs": [],
   "source": [
    "#----------------------Task5--------------------------\n",
    "def Insert(head_Node, newNode):\n",
    "  \n",
    "    current = None\n",
    "    if (head_Node is None):\n",
    "        head_Node = newNode\n",
    "    elif head_Node.data >= newNode.data :\n",
    "        newNode.next = head_Node\n",
    "        newNode.next.prev = head_Node= newNode\n",
    "    else :\n",
    "        current = head_Node\n",
    "        while (current.next and current.next.data < newNode.data):\n",
    "            current = current.next\n",
    "        newNode.next = current.next\n",
    "        if current.next:\n",
    "            newNode.next.prev = newNode\n",
    "        current.next,newNode.prev = newNode,current\n",
    "    return head_Node;\n",
    "\n",
    "def insertionSort(head_Node):\n",
    "    sorted = None\n",
    "    current = head_Node\n",
    "    while current :\n",
    "        next = current.next\n",
    "        current.prev = None\n",
    "        current.next = None\n",
    "        sorted = Insert(sorted, current)\n",
    "        current = next\n",
    "    head_Node = sorted \n",
    "    return head_Node"
   ]
  },
  {
   "cell_type": "code",
   "execution_count": 15,
   "metadata": {},
   "outputs": [
    {
     "data": {
      "text/plain": [
       "4"
      ]
     },
     "execution_count": 15,
     "metadata": {},
     "output_type": "execute_result"
    }
   ],
   "source": [
    "#----------------------Task6--------------------------\n",
    "def bs_rec(arra,left,right,key):\n",
    "    mid = left+((right-left)//2)\n",
    "    if left>right:\n",
    "        return False\n",
    "    else:\n",
    "        if arra[mid]==key:\n",
    "            return mid\n",
    "        elif arra[mid]>key:\n",
    "            right = mid-1\n",
    "        elif arra[mid]<key:\n",
    "            left = mid+1\n",
    "            \n",
    "    return bs_rec(arra,left,right,key)\n"
   ]
  },
  {
   "cell_type": "code",
   "execution_count": 17,
   "metadata": {},
   "outputs": [
    {
     "name": "stdout",
     "output_type": "stream",
     "text": [
      "0 1 1 2 3 5 8 13 21 34 55 "
     ]
    }
   ],
   "source": [
    "#----------------------Task7--------------------------\n",
    "fibo_cache={}\n",
    "#here x is the key of dictionary and val is the value of that key. Making a database to \n",
    "#store the data those are not calculated yet. Before every recurive call, we'll check from\n",
    "#here if the function is already calculated, if yes simply return the value\n",
    "\n",
    "def fibo(x):\n",
    "    #if we have already computed then return it\n",
    "    if x in fibo_cache:\n",
    "        return fibo_cache[x]\n",
    "    #else calculate it \n",
    "    if x==1:\n",
    "        return 0\n",
    "    elif x==2:\n",
    "        return 1\n",
    "  \n",
    "    else:\n",
    "        val =fibo(x-1)+fibo(x-2)\n",
    "        \n",
    "        \n",
    "    #cache the value and return it\n",
    "    fibo_cache[x] = val\n",
    "    return val\n",
    "        \n",
    "for i in range(1,12):\n",
    "    print(fibo(i),end=' ')\n"
   ]
  }
 ],
 "metadata": {
  "kernelspec": {
   "display_name": "Python 3",
   "language": "python",
   "name": "python3"
  },
  "language_info": {
   "codemirror_mode": {
    "name": "ipython",
    "version": 3
   },
   "file_extension": ".py",
   "mimetype": "text/x-python",
   "name": "python",
   "nbconvert_exporter": "python",
   "pygments_lexer": "ipython3",
   "version": "3.7.6"
  }
 },
 "nbformat": 4,
 "nbformat_minor": 4
}
