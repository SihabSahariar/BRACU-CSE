{
 "cells": [
  {
   "cell_type": "code",
   "execution_count": 2,
   "metadata": {},
   "outputs": [
    {
     "name": "stdout",
     "output_type": "stream",
     "text": [
      "=======Team 1=======\n",
      "Pokemon 1: pikachu 90\n",
      "Pokemon 2: charmender 60\n",
      "Combined Power: 1500\n",
      "=======Team 2=======\n",
      "Pokemon 1: bulbasaur 90\n",
      "Pokemon 2: squirtle 70\n",
      "Combined Power: 1350\n"
     ]
    }
   ],
   "source": [
    "#Question 5\n",
    "class Pokemon():\n",
    "    def __init__(self,pokemon1_name,pokemon2_name,pokemon1_power,pokemon2_power,damage_rate):\n",
    "        \n",
    "        self.pokemon1_name = pokemon1_name\n",
    "        \n",
    "        self.pokemon2_name = pokemon2_name\n",
    "        \n",
    "        self.pokemon1_power = pokemon1_power\n",
    "        \n",
    "        self.pokemon2_power = pokemon2_power\n",
    "        \n",
    "        self.damage_rate = damage_rate\n",
    "        \n",
    "        \n",
    "team_pika = Pokemon(\"pikachu\",\"charmender\",90,60,10)\n",
    "\n",
    "print('=======Team 1=======')\n",
    "\n",
    "print('Pokemon 1:',team_pika.pokemon1_name,\n",
    "team_pika.pokemon1_power)\n",
    "print('Pokemon 2:',team_pika.pokemon2_name,\n",
    "team_pika.pokemon2_power)\n",
    "pika_combined_power = (team_pika.pokemon1_power +\n",
    "team_pika.pokemon2_power) * team_pika.damage_rate\n",
    "print('Combined Power:', pika_combined_power)\n",
    "\n",
    "team_bulb = Pokemon(\"bulbasaur\",\"squirtle\",80,70,9)\n",
    "\n",
    "print('=======Team 2=======')\n",
    "\n",
    "print('Pokemon 1:',team_bulb.pokemon1_name,\n",
    "team_pika.pokemon1_power)\n",
    "\n",
    "print('Pokemon 2:',team_bulb.pokemon2_name,\n",
    "team_bulb.pokemon2_power)\n",
    "\n",
    "bulb_combined_power = (team_bulb.pokemon1_power +\n",
    "team_bulb.pokemon2_power) * team_bulb.damage_rate\n",
    "\n",
    "print('Combined Power:', bulb_combined_power)"
   ]
  },
  {
   "cell_type": "code",
   "execution_count": null,
   "metadata": {},
   "outputs": [],
   "source": []
  }
 ],
 "metadata": {
  "kernelspec": {
   "display_name": "Python 3",
   "language": "python",
   "name": "python3"
  },
  "language_info": {
   "codemirror_mode": {
    "name": "ipython",
    "version": 3
   },
   "file_extension": ".py",
   "mimetype": "text/x-python",
   "name": "python",
   "nbconvert_exporter": "python",
   "pygments_lexer": "ipython3",
   "version": "3.7.6"
  }
 },
 "nbformat": 4,
 "nbformat_minor": 4
}
