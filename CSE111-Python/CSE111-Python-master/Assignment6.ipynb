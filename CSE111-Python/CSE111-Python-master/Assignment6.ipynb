{
 "cells": [
  {
   "cell_type": "code",
   "execution_count": null,
   "metadata": {},
   "outputs": [],
   "source": [
    "#Sihab Sahariar\n",
    "#20101402"
   ]
  },
  {
   "cell_type": "code",
   "execution_count": null,
   "metadata": {},
   "outputs": [
    {
     "name": "stdout",
     "output_type": "stream",
     "text": [
      "7\n"
     ]
    }
   ],
   "source": [
    "#Question1\n",
    "class Calculator():\n",
    "    def __init__(self, a, b):\n",
    "        print(\"Let's calculate!\",end=\"\")\n",
    "        self.a = a;\n",
    "        self.b = b\n",
    "    def add(self):\n",
    "          return self.a+self.b\n",
    "    def substract(self):\n",
    "          return (self.a - self.b)\n",
    "    def multiply(self):\n",
    "          return self.a*self.b\n",
    "    def divide(self):\n",
    "          if self.b == 0:\n",
    "            return \"You can't divide by zero\"\n",
    "          else:\n",
    "            return self.a/self.b\n",
    "a=int(input())\n",
    "c=(input())\n",
    "b=int(input())\n",
    "\n",
    "cal=Calculator(a,b)\n",
    "\n",
    "print(f\"\\nValue 1: {a}\\nOperator: {c}\\nValue 2: {b}\")\n",
    "\n",
    "if c==\"+\":\n",
    "    print(\"Result: \",cal.add())\n",
    "elif c==\"-\":\n",
    "    print(\"Result: \",cal.substract())\n",
    "elif c==\"*\":\n",
    "    print(\"Result: \",cal.multiply())\n",
    "elif c==\"/\":\n",
    "    print(\"Result: \",cal.divide())"
   ]
  },
  {
   "cell_type": "code",
   "execution_count": 42,
   "metadata": {},
   "outputs": [
    {
     "name": "stdout",
     "output_type": "stream",
     "text": [
      "Hello!\n",
      "Sam, you purchased 3 item(s):\n",
      "chips\n",
      "chocolate\n",
      "orange juice\n",
      "-----------------------------\n",
      "Hello David!\n",
      "David, you purchased 1 item(s):\n",
      "orange juice\n"
     ]
    }
   ],
   "source": [
    "#Question2\n",
    "class Customer():\n",
    "    def __init__ (self, name):\n",
    "        self.name=name\n",
    "\n",
    "    def greet(self, *info):\n",
    "        if len(info)==0:\n",
    "            print(\"Hello!\")\n",
    "        elif len(info)==1:\n",
    "            self.name1=info[0]\n",
    "            print(\"Hello \"+info[0]+\"!\")\n",
    "\n",
    "\n",
    "    def purchase(self, *n):\n",
    "        self.n=n\n",
    "        print(self.name+\", you purchased\",len(n),\"item(s):\")\n",
    "        for x in range (len(n)):\n",
    "            print(n[x])\n",
    "\n",
    "\n",
    "customer_1 = Customer(\"Sam\")\n",
    "customer_1.greet()\n",
    "customer_1.purchase(\"chips\", \"chocolate\", \"orange juice\")\n",
    "print(\"-----------------------------\")\n",
    "customer_2 = Customer(\"David\")\n",
    "customer_2.greet(\"David\")\n",
    "customer_2.purchase(\"orange juice\")\n"
   ]
  },
  {
   "cell_type": "code",
   "execution_count": 28,
   "metadata": {},
   "outputs": [
    {
     "name": "stdout",
     "output_type": "stream",
     "text": [
      "Kunfu is a Male Panda Bear who is 5 years old\n",
      "Pan Pan is a Female Panda Bear who is 3 years old\n",
      "Ming Ming is a Female Panda Bear who is 8 years old\n",
      "Pan Pan sleeps 10 hours daily and should have Broccoli Chicken\n",
      "Kunfu sleeps 4 hours daily and should have Mixed Veggies\n",
      "Ming Ming's duration is unknown thus should have only bamboo leaves\n"
     ]
    }
   ],
   "source": [
    "#Question3\n",
    "class Panda():\n",
    "    def __init__ (self,name,gender,age):\n",
    "        self.name=name\n",
    "        self.gender=gender\n",
    "        self.age=age\n",
    "\n",
    "\n",
    "\n",
    "    def sleep(self, hour=None):\n",
    "\n",
    "        self.hour = hour\n",
    "        \n",
    "        if hour == None :\n",
    "            return (f\"{self.name}'s duration is unknown thus should have only bamboo leaves\")\n",
    "            \n",
    "        elif hour >=3 and hour<=5:\n",
    "            return (f\"{self.name} sleeps {hour} hours daily and should have Mixed Veggies\")\n",
    "            \n",
    "        elif hour>=6 and hour<=8:\n",
    "            return (f\"{self.name} sleeps {hour} hours daily and should have Eggplant & Tofu\")\n",
    "        \n",
    "        elif hour>=9 and hour<=11:\n",
    "            return (f\"{self.name} sleeps {hour} hours daily and should have Broccoli Chicken\")\n",
    "        \n",
    "\n",
    "\n",
    "panda1 = Panda(\"Kunfu\",\"Male\", 5)\n",
    "panda2=Panda(\"Pan Pan\",\"Female\",3)\n",
    "panda3=Panda(\"Ming Ming\",\"Female\",8)\n",
    "\n",
    "print(\"{} is a {} Panda Bear who is {} years old\".format(panda1.name,panda1.gender,panda1.age))\n",
    "print(\"{} is a {} Panda Bear who is {} years old\".format(panda2.name,panda2.gender,panda2.age))\n",
    "print(\"{} is a {} Panda Bear who is {} years old\".format(panda3.name,panda3.gender,panda3.age))\n",
    "\n",
    "\n",
    "\n",
    "print(panda2.sleep(10))\n",
    "print(panda1.sleep(4))\n",
    "print(panda3.sleep())"
   ]
  },
  {
   "cell_type": "code",
   "execution_count": 32,
   "metadata": {},
   "outputs": [
    {
     "name": "stdout",
     "output_type": "stream",
     "text": [
      "White cat is  sitting\n",
      "Black cat is  sitting\n",
      "Brown cat is  jumping\n",
      "Red cat is  purring\n",
      "Blue cat is  sitting\n",
      "Purple cat is  jumping\n"
     ]
    }
   ],
   "source": [
    "#Question4\n",
    "class Cat():\n",
    "   \n",
    "\n",
    "    def __init__(self,color=\"White\", action=\"sitting\"):\n",
    "        self.color=color\n",
    "        self.action=action\n",
    "\n",
    "    def changeColor(self,color):\n",
    "        self.color=color\n",
    "\n",
    "    def printCat(self):\n",
    "        print(self.color, \"cat is \", self.action)\n",
    "\n",
    "\n",
    "c1 = Cat()\n",
    "c2 = Cat(\"Black\")\n",
    "c3 = Cat(\"Brown\", \"jumping\")\n",
    "c4 = Cat(\"Red\", \"purring\")\n",
    "c1.printCat()\n",
    "c2.printCat()\n",
    "c3.printCat()\n",
    "c4.printCat()\n",
    "c1.changeColor(\"Blue\")\n",
    "c3.changeColor(\"Purple\")\n",
    "c1.printCat()\n",
    "c3.printCat()\n"
   ]
  },
  {
   "cell_type": "code",
   "execution_count": 38,
   "metadata": {},
   "outputs": [
    {
     "name": "stdout",
     "output_type": "stream",
     "text": [
      "(0,0)\n",
      "(0,1)\n",
      "(-1,1)\n",
      "(-1,0)\n"
     ]
    }
   ],
   "source": [
    "#Question5\n",
    "class Vehicle():\n",
    "    def __init__ (self, x=0, y=0):\n",
    "        self.x=x\n",
    "        self.y=y\n",
    "\n",
    "    def moveUp(self,):\n",
    "         self.y=self.y+1\n",
    "            \n",
    "    def moveLeft(self):\n",
    "        self.x = self.x - 1\n",
    "        \n",
    "    def moveDown(self):\n",
    "        self.y = self.y - 1\n",
    "        \n",
    "    def moveRight(self):\n",
    "        self.x = self.x + 1\n",
    "        \n",
    "    def print_position(self):\n",
    "        print(f\"({self.x},{self.y})\")\n",
    "\n",
    "\n",
    "car = Vehicle()\n",
    "car.print_position()\n",
    "car.moveUp()\n",
    "car.print_position()\n",
    "car.moveLeft()\n",
    "car.print_position()\n",
    "car.moveDown()\n",
    "car.print_position()\n",
    "car.moveRight()\n",
    "\n"
   ]
  }
 ],
 "metadata": {
  "kernelspec": {
   "display_name": "Python 3",
   "language": "python",
   "name": "python3"
  },
  "language_info": {
   "codemirror_mode": {
    "name": "ipython",
    "version": 3
   },
   "file_extension": ".py",
   "mimetype": "text/x-python",
   "name": "python",
   "nbconvert_exporter": "python",
   "pygments_lexer": "ipython3",
   "version": "3.7.6"
  }
 },
 "nbformat": 4,
 "nbformat_minor": 4
}
