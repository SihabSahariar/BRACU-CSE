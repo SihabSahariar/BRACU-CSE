{
 "cells": [
  {
   "cell_type": "code",
   "execution_count": 4,
   "metadata": {},
   "outputs": [
    {
     "name": "stdout",
     "output_type": "stream",
     "text": [
      "Please Enter First Value:3\n",
      "Please Enter Second Value:2\n",
      "Please Enter Operator:+\n",
      "3+2=5\n"
     ]
    }
   ],
   "source": [
    "#calculator Project\n",
    "def calc(x,y,op):\n",
    "    if op==\"+\":\n",
    "        return x+y\n",
    "    elif op==\"-\":\n",
    "        return x-y\n",
    "    elif op==\"/\":\n",
    "        return x/y\n",
    "    elif op==\"*\":\n",
    "        return x*y\n",
    "    elif op==\"^\":\n",
    "        return x**y\n",
    "\n",
    "val1=int(input(\"Please Enter First Value:\"))\n",
    "val2=int(input(\"Please Enter Second Value:\"))\n",
    "val3=input(\"Please Enter Operator:\")\n",
    "print(f\"{val1}{val3}{val2}={calc(val1,val2,val3)}\")\n",
    "    "
   ]
  },
  {
   "cell_type": "code",
   "execution_count": 21,
   "metadata": {},
   "outputs": [
    {
     "name": "stdout",
     "output_type": "stream",
     "text": [
      "sizan,rakib,siam,porosh,"
     ]
    }
   ],
   "source": [
    "#Array Basic (Access Through Whie~Loop)\n",
    "items=[\"sizan\",\"rakib\",\"siam\",\"porosh\"]\n",
    "#print(items[0])\n",
    "#print(items)\n",
    "i=0\n",
    "while i<len(items):\n",
    "    print(items[i],end=\",\")\n",
    "    i+=1\n"
   ]
  },
  {
   "cell_type": "code",
   "execution_count": 25,
   "metadata": {},
   "outputs": [
    {
     "name": "stdout",
     "output_type": "stream",
     "text": [
      "sizan,rakib,siam,porosh,"
     ]
    }
   ],
   "source": [
    "#Array Basic (Access Through Whie~Loop)\n",
    "items=[\"sizan\",\"rakib\",\"siam\",\"porosh\"]\n",
    "for name in items:\n",
    "    print(name,end=\",\")"
   ]
  },
  {
   "cell_type": "code",
   "execution_count": 26,
   "metadata": {},
   "outputs": [
    {
     "name": "stdout",
     "output_type": "stream",
     "text": [
      "I Love You\n"
     ]
    }
   ],
   "source": [
    "#Basic Function\n",
    "def pr():\n",
    "    print(\"I Love You\")\n",
    "    \n",
    "pr()"
   ]
  }
 ],
 "metadata": {
  "kernelspec": {
   "display_name": "Python 3",
   "language": "python",
   "name": "python3"
  },
  "language_info": {
   "codemirror_mode": {
    "name": "ipython",
    "version": 3
   },
   "file_extension": ".py",
   "mimetype": "text/x-python",
   "name": "python",
   "nbconvert_exporter": "python",
   "pygments_lexer": "ipython3",
   "version": "3.7.6"
  }
 },
 "nbformat": 4,
 "nbformat_minor": 4
}
