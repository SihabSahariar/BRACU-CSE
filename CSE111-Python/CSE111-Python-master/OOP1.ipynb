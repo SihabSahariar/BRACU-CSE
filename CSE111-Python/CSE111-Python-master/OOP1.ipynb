{
 "cells": [
  {
   "cell_type": "code",
   "execution_count": null,
   "metadata": {},
   "outputs": [],
   "source": [
    "#Basic object oriented programming(OOP) in Python"
   ]
  },
  {
   "cell_type": "code",
   "execution_count": null,
   "metadata": {},
   "outputs": [],
   "source": [
    "#https://olympus.greatlearning.in/courses/12383/pages/creating-the-first-class?module_item_id=536403"
   ]
  },
  {
   "cell_type": "code",
   "execution_count": 3,
   "metadata": {},
   "outputs": [],
   "source": [
    "#Creating First Class\n",
    "#প্রথমে ক্লাস বানাবো। এর পর, এর মধ্যে মেথড/একশন/বিহ্যাভিওর ডিক্লেয়ার করব। মানে ঐ ক্লাস যা করতে পারে। ক্লাস মানে টেপ্লেট। যেটাকে পরে \n",
    "#অবজেক্ট বানাবো ইচ্ছামত আর খেলব মনমত!\n",
    "\n",
    "class Phone:   #Creating Phone class\n",
    "    def make_call(self):\n",
    "        print(\"I can make call\")\n",
    "    def play_game(self):\n",
    "        print(\"I can play games\")\n",
    "        "
   ]
  },
  {
   "cell_type": "code",
   "execution_count": 5,
   "metadata": {},
   "outputs": [],
   "source": [
    "object1 = Phone()   #Instantiating the 'object1' object"
   ]
  },
  {
   "cell_type": "code",
   "execution_count": 6,
   "metadata": {},
   "outputs": [
    {
     "name": "stdout",
     "output_type": "stream",
     "text": [
      "I can make call\n"
     ]
    }
   ],
   "source": [
    "object1.make_call() #Invoking \"make_call()\" methods through object"
   ]
  },
  {
   "cell_type": "code",
   "execution_count": 7,
   "metadata": {},
   "outputs": [
    {
     "name": "stdout",
     "output_type": "stream",
     "text": [
      "I can play games\n"
     ]
    }
   ],
   "source": [
    "object1.play_game() #Invoking \"play_game()\" methods through object"
   ]
  },
  {
   "cell_type": "code",
   "execution_count": null,
   "metadata": {},
   "outputs": [],
   "source": [
    "#Adding parameter to class"
   ]
  },
  {
   "cell_type": "code",
   "execution_count": 14,
   "metadata": {},
   "outputs": [
    {
     "name": "stdout",
     "output_type": "stream",
     "text": [
      "Name: Rose\n",
      "Color: Red\n",
      "\n",
      "I can make call\n",
      "I can play games\n"
     ]
    }
   ],
   "source": [
    "\n",
    "class Phone:\n",
    "    def set_color(self,color):\n",
    "        self.color = color\n",
    "    def set_name(self,name):\n",
    "        self.name = name\n",
    "        \n",
    "    def show_color(self):\n",
    "        return self.color\n",
    "    def show_name(self):\n",
    "        return self.name\n",
    "    \n",
    "    def make_call(self):\n",
    "        print(\"I can make call\")\n",
    "    def play_game(self):\n",
    "        print(\"I can play games\")\n",
    "        \n",
    "obj1 = Phone() #Creating obj1 using Phone class/template \n",
    "\n",
    "\n",
    "obj1.set_color('Red') #Passing parameter 'Red' through set_color() method\n",
    "obj1.set_name('Rose')\n",
    "color = obj1.show_color() #Accessing element from the obj1 though show_color() method\n",
    "name = obj1.show_name()\n",
    "print(f\"Name: {name}\\nColor: {color}\\n\")\n",
    "\n",
    "obj1.make_call()\n",
    "obj1.play_game()"
   ]
  },
  {
   "cell_type": "code",
   "execution_count": 17,
   "metadata": {},
   "outputs": [],
   "source": [
    "#Creating class constructor\n",
    "# বেসিক্যালি কন্সট্রাক্টর তৈরী করা হয় কারণ অবজেক্টের বিভিন্ন প্যারামিটার যেন একবারে ক্লাসের ভেতরে সেটা করা যায় সেজন্য। \n",
    "# আগের প্রোগ্রামে আমাদের দুটো ভ্যালু সেটার ফাংশন লিখতে হয়েছে ( set_color(),set_name() ) \n",
    "# কিন্তু কনস্ট্রাক্টর ব্যবহার করলে একেবারেই শুরুতে একটা\n",
    "# init method লেখা হয় যেটা ব্যাসিক্যালি সব ভেরিয়া্বল/ভ্যালু সেটা করে রাখে। সো দ্যাট, অবজেক্ট তৈরী\n",
    "# করার পর সেখানে প্যারামিটার পাস করা যায়। আর কোন সেটার মেথড/ফাংশন লিখতে হয়না। অর্থাৎ, obj = object(parameter) এভাবে পাস করা যায়"
   ]
  },
  {
   "cell_type": "code",
   "execution_count": 30,
   "metadata": {},
   "outputs": [
    {
     "name": "stdout",
     "output_type": "stream",
     "text": [
      "Name : Sihab Sahariar\n",
      "Age: 21\n",
      "Salary: 75000\n",
      "Favourite Food: Coke\n",
      "\n",
      "Name : Mr. XYZ\n",
      "Age: 21\n",
      "Salary: 75000\n",
      "Favourite Food: Cake\n",
      "\n"
     ]
    }
   ],
   "source": [
    "class Employee:\n",
    "#     name =\" \"         #এগুলা ভ্যারিয়াবল বেসিক্যালি ক্লাস/টেমপ্লেট এর ডিফল্ট ভ্যালু। \n",
    "#     age =0            \n",
    "#     salary = 0\n",
    "#     fv_food = \"\"\n",
    "#     gender = \"\"\n",
    "    def __init__(self,name,age,salary,fv_food,gender):  #Constructor \n",
    "        self.name = name\n",
    "        self.age = age\n",
    "        self.salary = salary\n",
    "        self.fv_food = fv_food\n",
    "        self.gender = gender\n",
    "        \n",
    "    def employee_details(self):\n",
    "        print(f\"Name : {self.name}\\nAge: {self.age}\\nSalary: {self.salary}\\nFavourite Food: {self.fv_food}\\n\")\n",
    "    \n",
    "    \n",
    "employee_samsung = Employee('Sihab Sahariar',21,75000,'Coke','Male')\n",
    "employee_Motorola = Employee('Mr. XYZ',21,75000,'Cake','Male')\n",
    "\n",
    "\n",
    "\n",
    "employee_samsung.employee_details()\n",
    "employee_Motorola.employee_details()\n"
   ]
  },
  {
   "cell_type": "code",
   "execution_count": null,
   "metadata": {},
   "outputs": [],
   "source": [
    "#Inheritance\n",
    "#Man inheritance(উত্তরাধিকারপ্রাপ্ত) feactures from his father\n",
    "#With inheritance one class can derive the another class"
   ]
  },
  {
   "cell_type": "code",
   "execution_count": 46,
   "metadata": {},
   "outputs": [
    {
     "name": "stdout",
     "output_type": "stream",
     "text": [
      "Color =  Red\n",
      "Milage =  150Km/h\n",
      "I'm Pajaro\n"
     ]
    }
   ],
   "source": [
    "class pajaro: #Mother Class/Super Class\n",
    "    def __init__(self,color,milage):\n",
    "        self.color = color\n",
    "        self.milage = milage\n",
    "    def show_det(self):\n",
    "        print(\"Color = \",self.color)\n",
    "        print(\"Milage = \",self.milage)\n",
    "\n",
    "class veh(pajaro): #Child Class -> inheriting the feactures of the pajaro class\n",
    "    #pajaro class এর সব প্রোপার্টি এখানে আছে। অর্থাৎ veh এর কোন অবজেক্ট ক্রিয়েট করলে, সেখান থেকেই pajaro ক্লাসের সব মেথড কল করা\n",
    "    #যাবে\n",
    "    #pajaro()\n",
    "    def hi_message(self):\n",
    "        print(\"I'm Pajaro\")\n",
    "    \n",
    "    \n",
    "    \n",
    "obj1 = veh('Red','150Km/h')\n",
    "\n",
    "obj1.show_det()\n",
    "obj1.hi_message()"
   ]
  },
  {
   "cell_type": "code",
   "execution_count": 55,
   "metadata": {},
   "outputs": [],
   "source": [
    "#Overriding the init method\n",
    "#চাইল্ড ক্লাসে যাওয়ার পর যদি এক্সট্রা কোন প্যারামিটার আ্মাদের ইউস করতে হয় সেক্ষেত্রে মেথড অভাররাইডিং এর প্রয়োজন পড়ে\n",
    "#এ জন্য প্রথমে চাইল্ড ক্লাসে __init__(old_para1,old_para2,new_para1,new_para2) এভাবে init মেথড ওভাররাইড করতে হয়।\n",
    "#চাইল্ড ক্লাসে init মেথড ওভাররাইড করলে সেক্ষেত্রে সুপার ক্লাসে কোন প্যারামিটার পাস করার ওয়ে হচ্ছে super().___init___(parameter Of Super)\n",
    "#এভাবে ইউস করা"
   ]
  },
  {
   "cell_type": "code",
   "execution_count": 54,
   "metadata": {},
   "outputs": [
    {
     "name": "stdout",
     "output_type": "stream",
     "text": [
      "-----Normal Details----\n",
      "Color =  Red\n",
      "Milage =  150Km/h\n",
      "-------Physical Details-----\n",
      "Cost =  1500000\n",
      "Quality =  Good\n"
     ]
    }
   ],
   "source": [
    "class pajaro: #Mother Class/Super Class\n",
    "    def __init__(self,color,milage):\n",
    "        self.color = color\n",
    "        self.milage = milage\n",
    "    def show_det(self):\n",
    "        print(\"-----Normal Details----\")\n",
    "        print(\"Color = \",self.color)\n",
    "        print(\"Milage = \",self.milage)\n",
    "\n",
    "class veh(pajaro):\n",
    "    def __init__(self,color,milage,cost,quality):\n",
    "        super().__init__(color,milage)\n",
    "        self.cost = cost\n",
    "        self.quality = quality \n",
    "    \n",
    "    def hi_message(self):\n",
    "        print(\"-------Physical Details-----\")\n",
    "        print(\"Cost = \",self.cost)\n",
    "        print(\"Quality = \",self.quality)\n",
    "    \n",
    "    \n",
    "    \n",
    "obj1 = veh('Red','150Km/h',1500000,'Good')\n",
    "\n",
    "obj1.show_det()\n",
    "obj1.hi_message()"
   ]
  },
  {
   "cell_type": "code",
   "execution_count": null,
   "metadata": {},
   "outputs": [],
   "source": [
    "#Multiple Inheritance \n",
    "\n",
    "# 1.Single Inheritance\n",
    "# 2.Multiple Inheritance\n",
    "# 3.Multi-level Inheritance\n",
    "# 4.Hybrid Inheritance"
   ]
  },
  {
   "cell_type": "code",
   "execution_count": 74,
   "metadata": {},
   "outputs": [
    {
     "name": "stdout",
     "output_type": "stream",
     "text": [
      "hudai string =  sess\n",
      "Hudai check =  dfd\n",
      "Example of Single Inheritance\n"
     ]
    }
   ],
   "source": [
    "#Single Inheritance Example\n",
    "class Mother:\n",
    "    def __init__(self,s,p1):\n",
    "        self.s = s\n",
    "        self.p1 = p1\n",
    "        \n",
    "    def access(self):\n",
    "        print(\"hudai string = \",self.s)\n",
    "        print(\"Hudai check = \",self.p1)\n",
    "\n",
    "class Child(Mother):\n",
    "    \n",
    "    def test(self):\n",
    "        print(\"Example of Single Inheritance\")\n",
    "    \n",
    "obj1 = Child('sess','dfd')\n",
    "obj1.access()\n",
    "obj1.test()"
   ]
  },
  {
   "cell_type": "code",
   "execution_count": 83,
   "metadata": {
    "scrolled": true
   },
   "outputs": [
    {
     "name": "stdout",
     "output_type": "stream",
     "text": [
      "Mother Class 1 =  Sihab\n",
      "Mother Class 2 =  Sahariar\n",
      "Mother Class 3 =  Sizan\n"
     ]
    }
   ],
   "source": [
    "#Multiple Inheritance Example\n",
    "class mother1:\n",
    "    def assign_string1(self,string1):\n",
    "        self.string1 = string1\n",
    "    def prnt_string1(self):\n",
    "        print(\"Mother Class 1 = \",self.string1)\n",
    "        \n",
    "class mother2:\n",
    "    def assign_string2(self,string2):\n",
    "        self.string2 = string2\n",
    "    def prnt_string2(self):\n",
    "        print(\"Mother Class 2 = \",self.string2)\n",
    "\n",
    "        \n",
    "class mother3(mother1,mother2):\n",
    "    \n",
    "    def assign_string3(self,string3):\n",
    "        self.string3 = string3\n",
    "    def prnt_string3(self):\n",
    "        print(\"Mother Class 3 = \",self.string3)\n",
    "\n",
    "        \n",
    "object1 =mother3()\n",
    "object1.assign_string1('Sihab')\n",
    "object1.assign_string2('Sahariar')\n",
    "object1.assign_string3('Sizan')\n",
    "object1.prnt_string1()\n",
    "object1.prnt_string2()\n",
    "object1.prnt_string3()\n",
    "        \n"
   ]
  },
  {
   "cell_type": "code",
   "execution_count": 86,
   "metadata": {},
   "outputs": [
    {
     "name": "stdout",
     "output_type": "stream",
     "text": [
      "Parent String =  Abb-amma\n",
      "Child String =  ami\n",
      "Grand Child String =  amar baccha-kaccha\n"
     ]
    }
   ],
   "source": [
    "#Multi-level inheritance Examples\n",
    "#Parent -> child -> grand child\n",
    "\n",
    "class parent:\n",
    "    def assign_string_parent(self,string_parent):\n",
    "        self.string_parent = string_parent\n",
    "    def prnt_string_parent(self):\n",
    "        print(\"Parent String = \",self.string_parent)\n",
    "        \n",
    "class child(parent):\n",
    "    def assign_string_child(self,string_child):\n",
    "        self.string_child = string_child\n",
    "    def prnt_string_child(self):\n",
    "        print(\"Child String = \",self.string_child)\n",
    "        \n",
    "class grandchild(child):\n",
    "    def assign_string_grandchild(self,string_grandchild):\n",
    "        self.string_grandchild = string_grandchild\n",
    "    def prnt_string_grandchild(self):\n",
    "        print(\"Grand Child String = \",self.string_grandchild)\n",
    "\n",
    "        \n",
    "obj1 = grandchild()\n",
    "obj1.assign_string_parent(\"Abb-amma\")\n",
    "obj1.assign_string_child(\"ami\")\n",
    "obj1.assign_string_grandchild(\"amar baccha-kaccha\")\n",
    "obj1.prnt_string_parent()\n",
    "obj1.prnt_string_child()\n",
    "obj1.prnt_string_grandchild()"
   ]
  }
 ],
 "metadata": {
  "kernelspec": {
   "display_name": "Python 3",
   "language": "python",
   "name": "python3"
  },
  "language_info": {
   "codemirror_mode": {
    "name": "ipython",
    "version": 3
   },
   "file_extension": ".py",
   "mimetype": "text/x-python",
   "name": "python",
   "nbconvert_exporter": "python",
   "pygments_lexer": "ipython3",
   "version": "3.7.6"
  }
 },
 "nbformat": 4,
 "nbformat_minor": 4
}
