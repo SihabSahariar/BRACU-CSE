{
 "cells": [
  {
   "cell_type": "code",
   "execution_count": 35,
   "metadata": {},
   "outputs": [
    {
     "name": "stdout",
     "output_type": "stream",
     "text": [
      "adam's\n",
      "adam's\n",
      "B\n",
      "h\n",
      "Upper: BANGLADESH\n",
      "Lower: bangladesh\n",
      "hsizan\n",
      "Please Enter a String: siz\n",
      "Got it Boss; found at 37\n"
     ]
    }
   ],
   "source": [
    "#StringOperation - Not Mutable\n",
    "str=\"adam's\";\n",
    "print (str);\n",
    "\n",
    "str1='adam\\'s';\n",
    "print (str1);\n",
    "\n",
    "str_name=\"Bangladesh\"\n",
    "len(str_name)\n",
    "print(str_name[0])\n",
    "print(str_name[-1])\n",
    "x=str_name.upper()\n",
    "y=str_name.lower()\n",
    "print(\"Upper: \"+x+\"\\nLower: \"+y)\n",
    "new_str=str_name[-1]+\"sizan\"\n",
    "print(new_str)\n",
    "\n",
    "v=\"bangladesh is a nice country told by sizan\"\n",
    "f=input(\"Please Enter a String: \")\n",
    "if v.find(f):\n",
    "    print(\"Got it Boss; found at\",v.find(f))\n",
    "else:\n",
    "    print(\"Couldn't find\")\n"
   ]
  },
  {
   "cell_type": "code",
   "execution_count": 60,
   "metadata": {},
   "outputs": [
    {
     "name": "stdout",
     "output_type": "stream",
     "text": [
      "sizan\n",
      "-1\n",
      "Bangladessizan\n"
     ]
    }
   ],
   "source": [
    "str=\"Bangladesh\"\n",
    "v=input()\n",
    "print(str.find(v))\n",
    "str=str.replace(str[-1],v)\n",
    "print(str)"
   ]
  },
  {
   "cell_type": "code",
   "execution_count": 68,
   "metadata": {},
   "outputs": [
    {
     "name": "stdout",
     "output_type": "stream",
     "text": [
      "     bcd \n",
      " bcd     \n",
      " bcd\n"
     ]
    }
   ],
   "source": [
    "str=\"     bcd    \"\n",
    "x=str.rstrip()\n",
    "y=str.lstrip()\n",
    "z=str.strip()\n",
    "print(x,'\\n',y,'\\n',z)"
   ]
  },
  {
   "cell_type": "code",
   "execution_count": 88,
   "metadata": {},
   "outputs": [
    {
     "name": "stdout",
     "output_type": "stream",
     "text": [
      "SIZASSSN\n",
      "sizasssn\n",
      "4\n",
      "Sizasssn\n",
      "False\n"
     ]
    }
   ],
   "source": [
    "str=\"sizasssn\"\n",
    "print(str.upper())\n",
    "print(str.lower())\n",
    "print(str.count(\"s\"))\n",
    "print(str.capitalize())\n",
    "print(str.isnumeric())\n",
    "\n"
   ]
  },
  {
   "cell_type": "code",
   "execution_count": 90,
   "metadata": {},
   "outputs": [
    {
     "name": "stdout",
     "output_type": "stream",
     "text": [
      "Rakib Sizan\n"
     ]
    }
   ],
   "source": [
    "s=\"Sizan\"\n",
    "i=\"Rakib\"\n",
    "s,i=i,s //SWAP\n",
    "print(s,i)"
   ]
  },
  {
   "cell_type": "code",
   "execution_count": 103,
   "metadata": {},
   "outputs": [
    {
     "name": "stdout",
     "output_type": "stream",
     "text": [
      "Plaindrome\n"
     ]
    }
   ],
   "source": [
    "s=\"madam\"\n",
    "y=s[::-1] #Reverse String\n",
    "if s==y:\n",
    "    print(\"Plaindrome\")\n",
    "else:\n",
    "    print(\"Not Palindroe\")\n"
   ]
  },
  {
   "cell_type": "code",
   "execution_count": 148,
   "metadata": {},
   "outputs": [
    {
     "name": "stdout",
     "output_type": "stream",
     "text": [
      "['lamp', 'table', 'pen', 'tissuebox'] ['tissuebox', 'pen', 'table', 'lamp']\n",
      "lamp\n",
      "table\n",
      "pen\n",
      "tissuebox\n",
      "\n",
      "\n",
      "tissuebox\n",
      "pen\n",
      "table\n",
      "lamp\n",
      "\n",
      "\n",
      "length: 4\n",
      "['tissuebox', 'pen', 'table', 'lamp']\n",
      "['tissuebox', 'pen', 'table', 'lamp', 'Rakib']\n",
      "['tissuebox', 'pen', 'table', 'lamp']\n",
      "1\n",
      "\n",
      "\n",
      "['tissuebox', 'pen', 'table', 'lamp']\n",
      "\n",
      "\n",
      "['tissuebox', 'pen', 'table']\n",
      "\n",
      "\n",
      "['pen', 'table', 'tissuebox']\n",
      "\n",
      "\n",
      "['pen', 'table', 'sizan', 'tissuebox']\n",
      "[]\n"
     ]
    }
   ],
   "source": [
    "#List_DataStructure - Mutable\n",
    "l=['lamp','table','pen','tissuebox']\n",
    "x=l[::-1]\n",
    "print(l,x,end=\"\\n\")\n",
    "for i in l:\n",
    "    print(i)\n",
    "print(\"\\n\")\n",
    "\n",
    "\n",
    "for i in x:\n",
    "    print(i)\n",
    "print(\"\\n\")\n",
    "\n",
    "\n",
    "print(\"length:\",len(x))\n",
    "\n",
    "l.reverse()\n",
    "print(l)\n",
    "\n",
    "l.append(\"Rakib\")#sobar last e dhukbe \n",
    "print(l)\n",
    "l.pop()#sobar last er ta tulbe \n",
    "print(l,end=\"\\n\")\n",
    "\n",
    "print(l.index(\"pen\"))#get index of 'pen' in the list \n",
    "print(\"\\n\")\n",
    "ll=l.copy()\n",
    "print(ll)\n",
    "print(\"\\n\")\n",
    "l.remove(\"lamp\")\n",
    "print(l)\n",
    "print(\"\\n\")\n",
    "l.sort()\n",
    "print(l)\n",
    "print(\"\\n\")\n",
    "l.insert(2,\"sizan\") # 2 number index e sizan replace hbe \n",
    "print(l)\n",
    "l.clear()\n",
    "print(l)"
   ]
  },
  {
   "cell_type": "code",
   "execution_count": 176,
   "metadata": {
    "scrolled": true
   },
   "outputs": [
    {
     "name": "stdout",
     "output_type": "stream",
     "text": [
      "['shoron', 'tamanna']\n",
      "['Shayan', 'Sithi', 'tamanna', 'shoron', 'sizan']\n",
      "['sizan', 'tamanna', 'Shayan']\n",
      "['sizan', 'shoron', 'tamanna', 'Sithi', 'Rakib']\n",
      "['sizan', 'shoron', 'tamanna', 'Sithi']\n"
     ]
    }
   ],
   "source": [
    "l=['sizan','shoron','tamanna','Sithi','Shayan']\n",
    "#    0       1         2        3        4\n",
    "print (l[1:3])\n",
    "print(l[::-1])\n",
    "print(l[0:5:2])\n",
    "l[-1]=\"Rakib\"\n",
    "print(l)\n",
    "l.pop()\n",
    "print(l)\n"
   ]
  },
  {
   "cell_type": "code",
   "execution_count": 203,
   "metadata": {},
   "outputs": [
    {
     "name": "stdout",
     "output_type": "stream",
     "text": [
      "s\n",
      "Consonant\n"
     ]
    }
   ],
   "source": [
    "#Conditional Logic\n",
    "l=['sizan','rakib','rafsan']\n",
    "'sizan' in l\n",
    "\n",
    "a=True\n",
    "b=False\n",
    "a and b\n",
    "a or b\n",
    "x=\"sizan\"\n",
    "y=\"sizannna\"\n",
    "p='123'\n",
    "b='112345'\n",
    "x is y\n",
    "x in y\n",
    "p in b\n",
    "q=12\n",
    "r=56\n",
    "#if q<r: print(\"Sizan\")\n",
    "vowel=['a','e','i','o','u']\n",
    "val=input()\n",
    "if val in vowel:print(\"Vowel\")\n",
    "else:print(\"Consonant\")"
   ]
  },
  {
   "cell_type": "code",
   "execution_count": null,
   "metadata": {},
   "outputs": [],
   "source": []
  }
 ],
 "metadata": {
  "kernelspec": {
   "display_name": "Python 3",
   "language": "python",
   "name": "python3"
  },
  "language_info": {
   "codemirror_mode": {
    "name": "ipython",
    "version": 3
   },
   "file_extension": ".py",
   "mimetype": "text/x-python",
   "name": "python",
   "nbconvert_exporter": "python",
   "pygments_lexer": "ipython3",
   "version": "3.7.6"
  }
 },
 "nbformat": 4,
 "nbformat_minor": 4
}
