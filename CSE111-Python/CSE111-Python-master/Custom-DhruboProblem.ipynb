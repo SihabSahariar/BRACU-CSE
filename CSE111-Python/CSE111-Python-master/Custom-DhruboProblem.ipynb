{
 "cells": [
  {
   "cell_type": "code",
   "execution_count": null,
   "metadata": {},
   "outputs": [],
   "source": [
    "dct={}\n",
    "stn=input()\n",
    "stn=stn.replace(\"{\",\"\")\n",
    "stn=stn.replace(\"}\",\"\")\n",
    "stn=stn.replace(\"‘\",\"\")\n",
    "stn=stn.replace(\"’\",\"\")\n",
    "l=stn.split(\",\")\n",
    "#print(l)\n",
    "for i in range(len(l)):\n",
    "    t=str(l[i])\n",
    "    lst1=t.split(\":\")\n",
    "    dct[lst1[0]]=int(lst1[1])\n",
    "lst=[] \n",
    "for k,v in dct.items():\n",
    "    if k not in lst:\n",
    "        lst.append(k)\n",
    "        for key,value in dct.items():\n",
    "            if key>k and (v+value)//2>=90:\n",
    "                    print(str(k)+str(key))\n",
    "                    "
   ]
  },
  {
   "cell_type": "code",
   "execution_count": 2,
   "metadata": {},
   "outputs": [],
   "source": [
    "#Alice 8000 GalGadot 8505 Jackson 5848 Robert 9848 TomKroos 5000"
   ]
  }
 ],
 "metadata": {
  "kernelspec": {
   "display_name": "Python 3",
   "language": "python",
   "name": "python3"
  },
  "language_info": {
   "codemirror_mode": {
    "name": "ipython",
    "version": 3
   },
   "file_extension": ".py",
   "mimetype": "text/x-python",
   "name": "python",
   "nbconvert_exporter": "python",
   "pygments_lexer": "ipython3",
   "version": "3.7.6"
  }
 },
 "nbformat": 4,
 "nbformat_minor": 4
}
