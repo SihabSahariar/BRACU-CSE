{
 "cells": [
  {
   "cell_type": "code",
   "execution_count": null,
   "metadata": {},
   "outputs": [],
   "source": [
    "#Sihab Sahariar (CSE111-20101402)\n",
    "#Assignment 2"
   ]
  },
  {
   "cell_type": "code",
   "execution_count": 4,
   "metadata": {
    "scrolled": true
   },
   "outputs": [
    {
     "data": {
      "text/plain": [
       "0.5"
      ]
     },
     "execution_count": 4,
     "metadata": {},
     "output_type": "execute_result"
    }
   ],
   "source": [
    "#Easy1\n",
    "def frac(x,y):\n",
    "    if x==0 or y==0:\n",
    "        return 0\n",
    "    else:\n",
    "        return (x/y)-(int(x/y))\n",
    "\n",
    "frac(5,2)"
   ]
  },
  {
   "cell_type": "code",
   "execution_count": 17,
   "metadata": {},
   "outputs": [
    {
     "name": "stdout",
     "output_type": "stream",
     "text": [
      "Enter Weight: 196\n",
      "Enter Height: 152\n",
      "Score is 39.6.You are Obese\n"
     ]
    }
   ],
   "source": [
    "#Easy2\n",
    "def BMI(kg,cm):\n",
    "    return kg/(cm/100)**2\n",
    "def status(x):\n",
    "    if x<18.5:\n",
    "        return \"Underweight\"\n",
    "    elif x>=18.5 and x<=24.9:\n",
    "        return \"Normal\"\n",
    "    elif x>=25 and x<=30:\n",
    "        return \"Overweight\"\n",
    "    elif x>30:\n",
    "        return \"Obese\"\n",
    "    \n",
    "w=int(input(\"Enter Weight: \"))\n",
    "h=int(input(\"Enter Height: \"))\n",
    "val=\"{:.1f}\".format(BMI(h,w))\n",
    "print(\"Score is\",val+\".You are\",status(float(val)))\n"
   ]
  },
  {
   "cell_type": "code",
   "execution_count": 7,
   "metadata": {},
   "outputs": [
    {
     "data": {
      "text/plain": [
       "45"
      ]
     },
     "execution_count": 7,
     "metadata": {},
     "output_type": "execute_result"
    }
   ],
   "source": [
    "#Easy3\n",
    "def divisor(a,b,c):\n",
    "    sum=0\n",
    "    while a<b:\n",
    "        if a%c==0:\n",
    "            sum+=a\n",
    "        a+=1\n",
    "    return sum\n",
    "\n",
    "divisor(3,16,3)\n"
   ]
  },
  {
   "cell_type": "code",
   "execution_count": 186,
   "metadata": {},
   "outputs": [
    {
     "data": {
      "text/plain": [
       "243.6"
      ]
     },
     "execution_count": 186,
     "metadata": {},
     "output_type": "execute_result"
    }
   ],
   "source": [
    "#Med1\n",
    "def calc(burger,place=\"Mohakhali\"):\n",
    "    if place==\"Mohakhali\":\n",
    "        sum=40\n",
    "    else:\n",
    "        sum=60\n",
    "    if burger==\"BBQ Chicken Cheese Burger\":\n",
    "        sum+=250+20\n",
    "    elif burger==\"Beef Burger\":\n",
    "        sum+=170+13.6\n",
    "    elif burger==\"Naga Drums\":\n",
    "        sum+=200+16\n",
    "    return sum\n",
    "\n",
    "calc(\"Beef Burger\",\"Dhanmondi\")\n",
    "    "
   ]
  },
  {
   "cell_type": "code",
   "execution_count": 182,
   "metadata": {},
   "outputs": [
    {
     "name": "stdout",
     "output_type": "stream",
     "text": [
      "Changed: alice@sheba.xyz\n",
      "Unchanged: bob@sheba.xyz\n"
     ]
    }
   ],
   "source": [
    "#Med2\n",
    "def check_new(string,s2):\n",
    "    if string.find(s2)!=-1:\n",
    "        return 1\n",
    "    else:\n",
    "        return -1\n",
    "\n",
    "def replace_domain(s1,s2,s3=\"kaaj.com\"):\n",
    "    i=0\n",
    "    strcpy=\"\"\n",
    "    while i<len(s1):\n",
    "        if(s1[i]==\"@\"):\n",
    "            strcpy+=s1[i]\n",
    "            break\n",
    "        else:\n",
    "            strcpy+=s1[i]\n",
    "        i+=1  \n",
    "    check=check_new(s1,s2)\n",
    "    if check==1:\n",
    "        strnew=(\"Unchanged: \"+s1)\n",
    "    else:\n",
    "        strnew=(\"Changed: \"+strcpy+s2)\n",
    "    print(strnew)\n",
    "    return\n",
    "replace_domain(\"alice@kaaj.com\",\"sheba.xyz\",\"kaaj.com\")\n",
    "replace_domain(\"bob@sheba.xyz\",\"sheba.xyz\")"
   ]
  },
  {
   "cell_type": "code",
   "execution_count": 61,
   "metadata": {
    "scrolled": true
   },
   "outputs": [
    {
     "name": "stdout",
     "output_type": "stream",
     "text": [
      "Vowels: e,e,o. Total number of vowels: 3\n",
      "No vowels in the name\n"
     ]
    }
   ],
   "source": [
    "#Med3\n",
    "def vowel_scan(string):\n",
    "    i=0\n",
    "    vowel=\"\"\n",
    "    vcount=0\n",
    "    while i<len(string):\n",
    "        if string[i]==\"a\" or string[i]==\"e\" or string[i]==\"i\" or string[i]==\"o\" or string[i]==\"u\" or string[i]==\"A\" or string[i]==\"E\" or string[i]==\"I\" or string[i]==\"O\" or string[i]==\"U\":\n",
    "            vcount+=1\n",
    "            vowel+=string[i]\n",
    "        i+=1\n",
    "    if vcount==0:\n",
    "        print(\"No vowels in the name\")\n",
    "    else:\n",
    "        print(\"Vowels:\",end=\" \")\n",
    "        j=0\n",
    "        while j<len(vowel)-1:\n",
    "            print(vowel[j],end=\",\")\n",
    "            j+=1\n",
    "        print(vowel[len(vowel)-1],end=\"\")\n",
    "        print(f\". Total number of vowels: {vcount}\")\n",
    "vowel_scan(\"Steve Jobs\")\n",
    "vowel_scan(\"XYZ\")"
   ]
  },
  {
   "cell_type": "code",
   "execution_count": 98,
   "metadata": {},
   "outputs": [
    {
     "name": "stdout",
     "output_type": "stream",
     "text": [
      "Palindrome\n",
      "Not a Palindrome\n",
      "Palindrome\n"
     ]
    }
   ],
   "source": [
    "#Med4\n",
    "def palindrome_scan(string):\n",
    "    back=' '.join(string).split() \n",
    "    s=reversed(back)\n",
    "    if list(back)==list(s):\n",
    "        print(\"Palindrome\")\n",
    "    else:\n",
    "        print(\"Not a Palindrome\")\n",
    "        \n",
    "        \n",
    "palindrome_scan(\"madam\")\n",
    "palindrome_scan(\"hello\")\n",
    "palindrome_scan(\"nurses run\")"
   ]
  },
  {
   "cell_type": "code",
   "execution_count": 1,
   "metadata": {},
   "outputs": [
    {
     "name": "stdout",
     "output_type": "stream",
     "text": [
      "Alice: 2000 "
     ]
    }
   ],
   "source": [
    "#Hard1\n",
    "from datetime import date\n",
    " \n",
    "def sal(year, real):\n",
    "    if year < 5:\n",
    "        return real * 0.1\n",
    "    elif year <= 10:\n",
    "        return real *0.1 +5000\n",
    "    else:\n",
    "        return real * .15+15000\n",
    "   \n",
    "    \n",
    "def countyear(jdate):\n",
    "    cut = jdate.split(\"-\")   \n",
    "    gap3=date.today()-date(int(cut[0]), int(cut[1]), int(cut[2]))\n",
    "    gap=gap3.days/365\n",
    "    return gap\n",
    " \n",
    "\n",
    "def final_calc(*infos):\n",
    "    i = 0\n",
    "    j = len(infos)\n",
    "    while i < j:\n",
    "        ny = countyear(infos[i + 2])\n",
    "        p = sal(ny, infos[i + 1])\n",
    "        if i < j - 3:\n",
    "            print(infos[i]+ \":\", int(p), end=\",\")\n",
    "        else:\n",
    "            print(infos[i]+ \":\", int(p), end=\" \")\n",
    "        i += 3\n",
    " \n",
    " \n",
    "final_calc(\"Alice\", 20000, \"2017-03-21\")"
   ]
  },
  {
   "cell_type": "code",
   "execution_count": 144,
   "metadata": {},
   "outputs": [
    {
     "name": "stdout",
     "output_type": "stream",
     "text": [
      "11 years, 10 months and 5 days\n",
      "10 years, 11 months and 20 days\n"
     ]
    }
   ],
   "source": [
    "#Hard2\n",
    "def cdate(d): \n",
    "    year = int(d / 365) \n",
    "    month = int((d % 365) /30) \n",
    "    days = (d % 365) % 30 \n",
    "    print(year,\"years,\",month,\"months and\",days,\"days\") \n",
    "\n",
    "cdate(4320) \n",
    "cdate(4000)"
   ]
  },
  {
   "cell_type": "code",
   "execution_count": 51,
   "metadata": {},
   "outputs": [
    {
     "name": "stdout",
     "output_type": "stream",
     "text": [
      "My favourite animal is a dog. a dog has sharp teeth so that it can eat flesh very easily. do you know my pet dog’s name? i Love my pet very much.\n",
      "My favourite animal is a dog. A dog has sharp teeth so that it can eat flesh very easily. Do you know my pet dog’s name? I love my pet very much.\n"
     ]
    }
   ],
   "source": [
    "#Bonus\n",
    "import re\n",
    "def txtcap(string):\n",
    "    x = re.split('([.!?] )', string)\n",
    "    s=(''.join([i.capitalize() for i in x]))\n",
    "    return s\n",
    "\n",
    "str = input()\n",
    "cap=txtcap(str)\n",
    "print(cap)\n"
   ]
  }
 ],
 "metadata": {
  "kernelspec": {
   "display_name": "Python 3",
   "language": "python",
   "name": "python3"
  },
  "language_info": {
   "codemirror_mode": {
    "name": "ipython",
    "version": 3
   },
   "file_extension": ".py",
   "mimetype": "text/x-python",
   "name": "python",
   "nbconvert_exporter": "python",
   "pygments_lexer": "ipython3",
   "version": "3.7.6"
  }
 },
 "nbformat": 4,
 "nbformat_minor": 4
}
