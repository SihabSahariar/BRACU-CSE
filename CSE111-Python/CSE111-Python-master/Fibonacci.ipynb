{
 "cells": [
  {
   "cell_type": "code",
   "execution_count": null,
   "metadata": {},
   "outputs": [
    {
     "name": "stdout",
     "output_type": "stream",
     "text": [
      "20\n",
      "{0: 0, 1: 1, 2: 1, 3: 2, 4: 3, 5: 5, 6: 8, 7: 13}\n",
      "3\n",
      "1\n",
      "19\n",
      "No fibo\n"
     ]
    }
   ],
   "source": [
    "n = int(input())\n",
    "t1=0\n",
    "t2=1\n",
    "dic={}\n",
    "count = 0\n",
    "while t1 < n:\n",
    "    dic[count]=t1\n",
    "    temp = t1 + t2\n",
    "    t1 = t2\n",
    "    t2 = temp\n",
    "    count += 1          \n",
    "print(dic)\n",
    "a=int(input())\n",
    "try:\n",
    "    print(dic[a-1])\n",
    "except:\n",
    "    print(\"No fibo\")\n",
    "    \n",
    "b=int(input())\n",
    "try:\n",
    "    print(dic[b-1])\n",
    "except:\n",
    "    print(\"No fibo\")\n",
    "    \n",
    "c=int(input())\n",
    "try:\n",
    "    print(dic[c-1])\n",
    "except:\n",
    "    print(\"No fibo\")\n"
   ]
  }
 ],
 "metadata": {
  "kernelspec": {
   "display_name": "Python 3",
   "language": "python",
   "name": "python3"
  },
  "language_info": {
   "codemirror_mode": {
    "name": "ipython",
    "version": 3
   },
   "file_extension": ".py",
   "mimetype": "text/x-python",
   "name": "python",
   "nbconvert_exporter": "python",
   "pygments_lexer": "ipython3",
   "version": "3.7.6"
  }
 },
 "nbformat": 4,
 "nbformat_minor": 4
}
