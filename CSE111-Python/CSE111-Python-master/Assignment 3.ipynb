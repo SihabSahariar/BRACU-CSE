{
 "cells": [
  {
   "cell_type": "code",
   "execution_count": 1,
   "metadata": {},
   "outputs": [],
   "source": [
    "#Name: Sihab Sahariar\n",
    "#ID: 20101402"
   ]
  },
  {
   "cell_type": "code",
   "execution_count": null,
   "metadata": {},
   "outputs": [],
   "source": [
    "#Easy1\n",
    "s=input(\"Enter a String: \")\n",
    "new_s=\"\"\n",
    "i=0\n",
    "count_vowel=0\n",
    "while i<len(s):\n",
    "    if s[i]=='a' or s[i]=='e'or s[i]=='i' or s[i]=='o' or s[i]=='u':\n",
    "        count_vowel+=1\n",
    "    else:\n",
    "        new_s=new_s+s[i]\n",
    "    i+=1    \n",
    "    \n",
    "print(new_s,end=\"\")\n",
    "print(count_vowel)"
   ]
  },
  {
   "cell_type": "code",
   "execution_count": null,
   "metadata": {},
   "outputs": [],
   "source": [
    "#Easy2\n",
    "str=input()\n",
    "str_new=\"\"\n",
    "l=len(str)\n",
    "i=0\n",
    "while i<l:\n",
    "    if str[i]!=\" \":\n",
    "        str_new+=str[i]\n",
    "    i+=1\n",
    "if str_new==str_new[::-1]:\n",
    "    print(\"True\")\n",
    "else:\n",
    "    print(\"False\")"
   ]
  },
  {
   "cell_type": "code",
   "execution_count": null,
   "metadata": {},
   "outputs": [],
   "source": [
    "#Easy3\n",
    "str=input()\n",
    "str_new=\"\"\n",
    "l=len(str)\n",
    "if l<4:\n",
    "    str_new=str\n",
    "else:\n",
    "    if str[(l-3):l]==\"ful\":\n",
    "        str_new=str+\"ly\"\n",
    "    else:\n",
    "        str_new=str+\"ful\"\n",
    "print(str_new)"
   ]
  },
  {
   "cell_type": "code",
   "execution_count": null,
   "metadata": {},
   "outputs": [],
   "source": [
    "#Med1\n",
    "str=input()\n",
    "i=0\n",
    "c_l=0\n",
    "c_u=0\n",
    "while i<len(str):\n",
    "    if str[i].islower():\n",
    "        c_l+=1\n",
    "    elif str[i].isupper():\n",
    "        c_u+=1\n",
    "    i+=1\n",
    "if c_l>=c_u:\n",
    "    print(str.lower())\n",
    "else:\n",
    "    print(str.upper())\n",
    "        "
   ]
  },
  {
   "cell_type": "code",
   "execution_count": null,
   "metadata": {},
   "outputs": [],
   "source": [
    "#Med2\n",
    "str=input()\n",
    "if str.isalpha():\n",
    "    print(\"WORD\")\n",
    "elif str.isdigit():\n",
    "    print(\"NUMBER\")\n",
    "else:\n",
    "    print(\"MIXED\")"
   ]
  },
  {
   "cell_type": "code",
   "execution_count": 3,
   "metadata": {},
   "outputs": [
    {
     "name": "stdout",
     "output_type": "stream",
     "text": [
      "baNgladEsh\n",
      "glad\n"
     ]
    }
   ],
   "source": [
    "#Med3\n",
    "str=input()\n",
    "i=0\n",
    "j=0\n",
    "new_str=\"\"\n",
    "while i<len(str):\n",
    "    if str[i].isupper():\n",
    "        j+=1\n",
    "    elif j==2:\n",
    "        break\n",
    "    elif j==1:\n",
    "        new_str+=str[i]\n",
    "    i+=1    \n",
    "if len(new_str)==0:\n",
    "    print(\"BLANK\")\n",
    "else:\n",
    "    print(new_str)"
   ]
  },
  {
   "cell_type": "code",
   "execution_count": 12,
   "metadata": {},
   "outputs": [
    {
     "name": "stdout",
     "output_type": "stream",
     "text": [
      "The book is not too good!\n",
      "The book is not excellent!\n"
     ]
    }
   ],
   "source": [
    "#Med4\n",
    "str=input()\n",
    "check=0\n",
    "if str.find(\"too good\"):\n",
    "    str=str.replace(\"too good\",\"excellent\")\n",
    "    print(str)\n",
    "else:\n",
    "    print(str)"
   ]
  },
  {
   "cell_type": "code",
   "execution_count": 22,
   "metadata": {},
   "outputs": [
    {
     "name": "stdout",
     "output_type": "stream",
     "text": [
      "harry\n",
      "hermonione\n",
      "hrrhr\n"
     ]
    }
   ],
   "source": [
    "#Hard1\n",
    "str1=input()\n",
    "str2=input()\n",
    "str3=\"\"\n",
    "str4=\"\"\n",
    "i=0\n",
    "j=0\n",
    "while i<len(str1):\n",
    "    if str1[i] in str2:\n",
    "        str3+=str1[i]\n",
    "    i+=1\n",
    "    \n",
    "while j<len(str2):\n",
    "    if str2[j] in str1:\n",
    "        str4+=str2[j]\n",
    "    j+=1\n",
    "    \n",
    "final_str=str3+str4\n",
    "if final_str==\"\":\n",
    "    print(\"Nothing in Common\")\n",
    "else:\n",
    "    print(final_str)"
   ]
  },
  {
   "cell_type": "code",
   "execution_count": 28,
   "metadata": {
    "scrolled": true
   },
   "outputs": [
    {
     "name": "stdout",
     "output_type": "stream",
     "text": [
      "fixprefixsuffix\n",
      "fix\n"
     ]
    }
   ],
   "source": [
    "#Hard2\n",
    "str=input()\n",
    "check=str[0:3]\n",
    "got=False\n",
    "for i in range(0,len(str),3):\n",
    "    if str[i]==check[0] and str[i+1]==check[1] and str[i+2]==check[2]:\n",
    "        got=True\n",
    "        \n",
    "if got==False:\n",
    "    print(\"Not Palindrome Substring\")\n",
    "else:\n",
    "    print(check)"
   ]
  },
  {
   "cell_type": "code",
   "execution_count": 50,
   "metadata": {},
   "outputs": [
    {
     "name": "stdout",
     "output_type": "stream",
     "text": [
      "Mybrac_\n",
      "Digit missing"
     ]
    }
   ],
   "source": [
    "#Hard3\n",
    "str=input()\n",
    "i=0\n",
    "clow=False\n",
    "cupr=False\n",
    "cspc=False\n",
    "cdigit=False\n",
    "msg=\"\"\n",
    "\n",
    "while i<len(str):\n",
    "    if str[i].islower():\n",
    "        clow=True\n",
    "    elif str[i].isupper():\n",
    "        cupr=True\n",
    "    elif str[i].isdigit():\n",
    "        cdigit=True\n",
    "    elif str[i]==\"_\" or str[i]==\"@\" or str[i]==\"$\" or str[i]==\"#\":\n",
    "        cspc=True\n",
    "    i+=1\n",
    "    \n",
    "if clow==cupr==cspc==cdigit==True:\n",
    "    print(\"OK\")\n",
    "else:\n",
    "    if clow==False:\n",
    "        msg+=\"Lowercase character missing, \"\n",
    "    if cupr==False:\n",
    "        msg+=\"Uppercase character missing, \"\n",
    "    if cdigit==False:\n",
    "        msg+=\"Digit missing,\"\n",
    "    if cspc==False:\n",
    "        msg+=\"Special character missing,\"\n",
    "   \n",
    "    print(msg+ \"\\b\",end=\"\")\n",
    "    \n",
    "    "
   ]
  }
 ],
 "metadata": {
  "kernelspec": {
   "display_name": "Python 3",
   "language": "python",
   "name": "python3"
  },
  "language_info": {
   "codemirror_mode": {
    "name": "ipython",
    "version": 3
   },
   "file_extension": ".py",
   "mimetype": "text/x-python",
   "name": "python",
   "nbconvert_exporter": "python",
   "pygments_lexer": "ipython3",
   "version": "3.7.6"
  }
 },
 "nbformat": 4,
 "nbformat_minor": 4
}
