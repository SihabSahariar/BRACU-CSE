{
 "cells": [
  {
   "cell_type": "code",
   "execution_count": null,
   "metadata": {},
   "outputs": [],
   "source": [
    "#Iteration-\n",
    "#While Loop-\n",
    "#Nested Loop\n"
   ]
  },
  {
   "cell_type": "code",
   "execution_count": 7,
   "metadata": {},
   "outputs": [
    {
     "name": "stdout",
     "output_type": "stream",
     "text": [
      "90\n",
      "89\n",
      "88\n",
      "87\n",
      "86\n",
      "85\n",
      "84\n",
      "83\n",
      "82\n",
      "81\n",
      "80\n",
      "79\n",
      "78\n",
      "77\n",
      "76\n",
      "75\n",
      "74\n",
      "73\n",
      "72\n",
      "71\n"
     ]
    }
   ],
   "source": [
    "x=90\n",
    "while x>70:\n",
    "    print(x)\n",
    "    x-=1"
   ]
  },
  {
   "cell_type": "code",
   "execution_count": null,
   "metadata": {},
   "outputs": [],
   "source": [
    "#Even Number From 1-100\n",
    "count=1\n",
    "while count<=100:\n",
    "    if count%2==0:\n",
    "        print(count,end=\" \")\n",
    "    count+=1"
   ]
  },
  {
   "cell_type": "code",
   "execution_count": 25,
   "metadata": {},
   "outputs": [
    {
     "name": "stdout",
     "output_type": "stream",
     "text": [
      "91\n",
      "92\n",
      "93\n",
      "94\n",
      "96\n",
      "97\n",
      "98\n",
      "99\n",
      "100\n"
     ]
    }
   ],
   "source": [
    "#Continue\n",
    "x=90\n",
    "while(x<100):\n",
    "    x+=1\n",
    "    if x==95:\n",
    "        continue\n",
    "    print(x)\n",
    "    "
   ]
  },
  {
   "cell_type": "code",
   "execution_count": 27,
   "metadata": {},
   "outputs": [
    {
     "name": "stdout",
     "output_type": "stream",
     "text": [
      "1 , 1\n",
      "1 , 2\n",
      "1 , 3\n",
      "End of Inner\n",
      "2 , 1\n",
      "2 , 2\n",
      "2 , 3\n",
      "End of Inner\n",
      "End Of Outer\n"
     ]
    }
   ],
   "source": [
    "#NestedWhile\n",
    "outer=1\n",
    "while outer<=2:\n",
    "    inner=1\n",
    "    while inner<=3:\n",
    "        print(outer,\",\",inner)\n",
    "        inner+=1\n",
    "    print(\"End of Inner\")\n",
    "    outer+=1\n",
    "print(\"End Of Outer\")"
   ]
  },
  {
   "cell_type": "code",
   "execution_count": 37,
   "metadata": {},
   "outputs": [
    {
     "name": "stdout",
     "output_type": "stream",
     "text": [
      "Please Enter a Number: 5\n",
      "120\n"
     ]
    }
   ],
   "source": [
    "#Factorial(n)\n",
    "mal=1\n",
    "val=int(input(\"Please Enter a Number: \"))\n",
    "while val>1:\n",
    "    mal*=val\n",
    "    val-=1\n",
    "   \n",
    "print(mal)\n",
    "    "
   ]
  },
  {
   "cell_type": "code",
   "execution_count": null,
   "metadata": {},
   "outputs": [],
   "source": []
  },
  {
   "cell_type": "code",
   "execution_count": null,
   "metadata": {},
   "outputs": [],
   "source": []
  },
  {
   "cell_type": "code",
   "execution_count": null,
   "metadata": {},
   "outputs": [],
   "source": []
  },
  {
   "cell_type": "code",
   "execution_count": null,
   "metadata": {},
   "outputs": [],
   "source": []
  }
 ],
 "metadata": {
  "kernelspec": {
   "display_name": "Python 3",
   "language": "python",
   "name": "python3"
  }
 },
 "nbformat": 4,
 "nbformat_minor": 4
}
