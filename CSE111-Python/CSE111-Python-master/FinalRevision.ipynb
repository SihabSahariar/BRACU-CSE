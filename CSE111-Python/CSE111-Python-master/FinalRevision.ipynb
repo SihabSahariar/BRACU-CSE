{
 "cells": [
  {
   "cell_type": "code",
   "execution_count": null,
   "metadata": {},
   "outputs": [],
   "source": [
    "check={}\n",
    "s1=input()\n",
    "l=s1.split(\",\")\n",
    "for i in range(len(l)):\n",
    "    s=str(l[i])\n",
    "    l1=s.split(\":\")\n",
    "    check[l1[0]]=int(l1[1])\n",
    "\n",
    "print(check)\n",
    "while True:\n",
    "    s=input()\n",
    "    if s==\"STOP\":\n",
    "        break\n",
    "\n",
    "    n=int(s)\n",
    "    if n in check.values():\n",
    "        print(\"True\")\n",
    "    else:\n",
    "        print(\"False\")"
   ]
  },
  {
   "cell_type": "code",
   "execution_count": null,
   "metadata": {},
   "outputs": [],
   "source": [
    "mark={}\n",
    "s1=input()\n",
    "l=s1.split(\",\")\n",
    "lst=[]\n",
    "for i in range(len(l)):\n",
    "    s2=str(l[i])\n",
    "    l1=s2.split(\":\")\n",
    "    mark[l1[0]]=int(l1[1])\n",
    "\n",
    "print(mark)\n",
    "#max_result=max(mark,key=mark.get)\n",
    "#min_result=min(mark,key=mark.get)\n",
    "max_result=\"\"\n",
    "min_result=\"\"\n",
    "max1=0\n",
    "min1=101\n",
    "for key,value in mark.items():\n",
    "    if value>max1:\n",
    "        max_result=key\n",
    "        max1=value\n",
    "    if value<min1:\n",
    "        min_result=key\n",
    "        min1=value\n",
    "\n",
    "\n",
    "\n",
    "print(\"Minimum:\",min_result)\n",
    "print(\"Maximum:\",max_result)\n",
    "\n",
    "\n",
    "#Physics: 82, Math : 65,History: 75"
   ]
  },
  {
   "cell_type": "code",
   "execution_count": 3,
   "metadata": {},
   "outputs": [
    {
     "name": "stdout",
     "output_type": "stream",
     "text": [
      "1\n",
      "David: 9005, Beckham: 10000, Messi: 10005, Neuer: 6000, Suarez: 7000\n",
      "David and  Beckham\n",
      "David and  Messi\n",
      " Beckham and  Messi\n"
     ]
    }
   ],
   "source": [
    "test=int(input())\n",
    "for i in range(test):\n",
    "    s = input()\n",
    "    l = s.split(\",\")\n",
    "    dic = {}\n",
    "    for i in range(len(l)):\n",
    "        t = str(l[i])\n",
    "        l1 = t.split(\":\")\n",
    "        dic[l1[0]] = int(l1[1])\n",
    "    lst = []\n",
    "    for k, v in dic.items():\n",
    "        if k not in lst:\n",
    "            lst.append(k)\n",
    "            for k1, v1 in dic.items():\n",
    "                if k1 not in lst:\n",
    "                        if(v + v1) // 2 >= 9000:\n",
    "                            print(str(k)+\" and \" +str(k1))\n",
    "                            "
   ]
  },
  {
   "cell_type": "code",
   "execution_count": 10,
   "metadata": {},
   "outputs": [
    {
     "name": "stdout",
     "output_type": "stream",
     "text": [
      "2\n",
      "David 9005 Beckham 10000 Messi 10005 Neuer 6000 Suarez 7000\n",
      "David and Messi\n",
      "Beckham and David\n",
      "Beckham and Messi\n",
      "Alice 8000 GalGadot 8505 Jackson 5848 Robert 9848 TomKroos 5000\n",
      "GalGadot and Robert\n"
     ]
    }
   ],
   "source": [
    "test=int(input())\n",
    "for i in range(test):\n",
    "    s = input()\n",
    "    l = s.split()\n",
    "    dic = {}\n",
    "    for i in range(0,len(l),2):\n",
    "        dic[l[i]] = int(l[i+1])\n",
    "    lst = []\n",
    "    check=False\n",
    "    for k, v in dic.items():\n",
    "        if k not in lst:\n",
    "            lst.append(k)\n",
    "            for k1, v1 in dic.items():\n",
    "                if k1 > k:\n",
    "                        if(v + v1) // 2 >= 9000:\n",
    "                            print(str(k)+\" and \" + str(k1))\n",
    "                            check=True\n",
    "    if check==False:\n",
    "        print(\"Not Found\")\n",
    "\n",
    "\n"
   ]
  },
  {
   "cell_type": "code",
   "execution_count": null,
   "metadata": {},
   "outputs": [],
   "source": []
  },
  {
   "cell_type": "code",
   "execution_count": 13,
   "metadata": {},
   "outputs": [
    {
     "name": "stdout",
     "output_type": "stream",
     "text": [
      "1\n",
      "David: 9005,Beckham: 10000, Messi: 10005, Neuer: 6000, Suarez: 7000\n",
      "David and Beckham\n",
      "David and  Messi\n",
      "Beckham and  Messi\n"
     ]
    }
   ],
   "source": [
    "test=int(input())\n",
    "for i in range(test):\n",
    "    s = input()\n",
    "    l = s.split(\",\")\n",
    "    dic = {}\n",
    "    for i in range(len(l)):\n",
    "        t = str(l[i])\n",
    "        l1 = t.split(\":\")\n",
    "        dic[l1[0]] = int(l1[1])\n",
    "    check=False\n",
    "    lst=[]\n",
    "    for k, v in dic.items():\n",
    "        if k not in lst:\n",
    "            lst.append(k)\n",
    "            for k1, v1 in dic.items():\n",
    "                if k1 not in lst:\n",
    "                        if(v + v1) // 2 >= 9000:\n",
    "                            print(str(k)+\" and \" + str(k1))\n",
    "                            check=True\n",
    "    if check==False:\n",
    "        print(\"Not Found\")"
   ]
  }
 ],
 "metadata": {
  "kernelspec": {
   "display_name": "Python 3",
   "language": "python",
   "name": "python3"
  },
  "language_info": {
   "codemirror_mode": {
    "name": "ipython",
    "version": 3
   },
   "file_extension": ".py",
   "mimetype": "text/x-python",
   "name": "python",
   "nbconvert_exporter": "python",
   "pygments_lexer": "ipython3",
   "version": "3.7.6"
  }
 },
 "nbformat": 4,
 "nbformat_minor": 4
}
