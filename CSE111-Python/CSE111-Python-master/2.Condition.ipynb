{
 "cells": [
  {
   "cell_type": "code",
   "execution_count": 5,
   "metadata": {},
   "outputs": [
    {
     "name": "stdout",
     "output_type": "stream",
     "text": [
      "Please Enter An Number:\n",
      "78\n",
      "Even\n"
     ]
    }
   ],
   "source": [
    "#EvenODD\n",
    "a=int(input(\"Please Enter A Number:\\n\"))\n",
    "if a%2==0:\n",
    "    print(\"Even\")\n",
    "else:\n",
    "    print(\"Odd\")"
   ]
  },
  {
   "cell_type": "code",
   "execution_count": 7,
   "metadata": {},
   "outputs": [
    {
     "name": "stdout",
     "output_type": "stream",
     "text": [
      "Please Enter A Number:5\n",
      "Five\n"
     ]
    }
   ],
   "source": [
    "#NormalConditionTest\n",
    "number=int(input(\"Please Enter A Number:\"))\n",
    "if number==3:\n",
    "    print(\"Three\")\n",
    "elif number==5:\n",
    "    print(\"Five\")\n",
    "else:\n",
    "    print(\"Unknown\")"
   ]
  },
  {
   "cell_type": "code",
   "execution_count": 29,
   "metadata": {},
   "outputs": [
    {
     "name": "stdout",
     "output_type": "stream",
     "text": [
      "Please Enter Marks:78\n",
      "B\n",
      "-Thank You-\n"
     ]
    }
   ],
   "source": [
    "#BRACU Grading System(Practice1)\n",
    "marks=int(input(\"Please Enter Marks:\"))\n",
    "if marks<50 and marks>=0: \n",
    "    print(\"F\")\n",
    "elif marks>=50 and marks<70:\n",
    "    print(\"C\")\n",
    "elif marks>=70 and marks<90:\n",
    "    print(\"B\")\n",
    "elif marks>=90 and marks<=100:\n",
    "    print(\"A\")\n",
    "else:\n",
    "    print(\"Not A Valid Number\")\n",
    "print(\"-Thank You-\")\n"
   ]
  },
  {
   "cell_type": "code",
   "execution_count": 39,
   "metadata": {},
   "outputs": [
    {
     "name": "stdout",
     "output_type": "stream",
     "text": [
      "11 is ODD Number\n",
      "a and b is not same\n",
      "SIZAN is There!\n",
      "c contains \"SIZAN\"\n"
     ]
    }
   ],
   "source": [
    "#ConditionTest2\n",
    "a=11\n",
    "b=90\n",
    "d=[\"SIZAN\",\"MIZAN\"]\n",
    "c=\"SIZAN\"\n",
    "\n",
    "if a%2:\n",
    "    print(f\"{a} is ODD Number\")\n",
    "if a is not b:\n",
    "    print(\"a and b is not same\")\n",
    "if c in d:\n",
    "    print(\"SIZAN is There!\")\n",
    "if c==\"SIZAN\":\n",
    "    print(f\"c contains \\\"{c}\\\"\")"
   ]
  },
  {
   "cell_type": "code",
   "execution_count": 42,
   "metadata": {},
   "outputs": [
    {
     "name": "stdout",
     "output_type": "stream",
     "text": [
      "Enter a Number34\n",
      "Enter a Number78\n",
      "34<78 and 34 is even\n"
     ]
    }
   ],
   "source": [
    "#NestedCondition\n",
    "a=int(input(\"Enter a Number\"))\n",
    "b=int(input(\"Enter a Number\"))\n",
    "if a>b:\n",
    "    if a%2==0:\n",
    "        print(f\"{a}>{b} and {a} is even\")\n",
    "    else:\n",
    "        print(f\"{a}>{b} and {a} is odd\")\n",
    "elif a<b:\n",
    "    if a%2==0:\n",
    "        print(f\"{a}<{b} and {a} is even\")\n",
    "    else:\n",
    "        print(f\"{a}<{b} and {a} is odd\")"
   ]
  }
 ],
 "metadata": {
  "kernelspec": {
   "display_name": "Python 3",
   "language": "python",
   "name": "python3"
  },
  "language_info": {
   "codemirror_mode": {
    "name": "ipython",
    "version": 3
   },
   "file_extension": ".py",
   "mimetype": "text/x-python",
   "name": "python",
   "nbconvert_exporter": "python",
   "pygments_lexer": "ipython3",
   "version": "3.7.6"
  }
 },
 "nbformat": 4,
 "nbformat_minor": 4
}
