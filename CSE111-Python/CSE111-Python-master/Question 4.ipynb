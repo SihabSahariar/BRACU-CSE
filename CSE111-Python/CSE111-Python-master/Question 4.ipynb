{
 "cells": [
  {
   "cell_type": "code",
   "execution_count": 1,
   "metadata": {},
   "outputs": [
    {
     "name": "stdout",
     "output_type": "stream",
     "text": [
      "Heath Ledger\n",
      "Mind Game\n",
      "False\n",
      "=====================\n",
      "Joaquin Phoenix\n",
      "Laughing out Loud\n",
      "True\n",
      "=====================\n",
      "different\n",
      "same\n",
      "The first if/else block prints the output as 'different' because j1 and j2 have different values.\n",
      "The first if/else block prints the output as 'same' because name value was changed for both object.\n"
     ]
    }
   ],
   "source": [
    "class Joker():\n",
    "    def __init__(self,name,power,is_he_psycho):\n",
    "        self.name = name\n",
    "        self.power = power\n",
    "        self.is_he_psycho =is_he_psycho \n",
    "j1 = Joker('Heath Ledger', 'Mind Game', False)\n",
    "\n",
    "print(j1.name)\n",
    "print(j1.power)\n",
    "print(j1.is_he_psycho)\n",
    "print(\"=====================\")\n",
    "\n",
    "j2 = Joker('Joaquin Phoenix', 'Laughing out Loud', True)\n",
    "print(j2.name)\n",
    "print(j2.power)\n",
    "print(j2.is_he_psycho)\n",
    "print('=====================')\n",
    "\n",
    "\n",
    "if j1 == j2:\n",
    "    print('same')\n",
    "    \n",
    "else:\n",
    "    print('different')\n",
    "    \n",
    "j2.name = 'Heath Ledger'\n",
    "\n",
    "if j1.name == j2.name:\n",
    "    print('same')\n",
    "    \n",
    "else:\n",
    "    print('different')\n",
    "    \n",
    "    \n",
    "    \n",
    "print(\"The first if/else block prints the output as 'different' because j1 and j2 have different values.\")\n",
    "\n",
    "print(\"The first if/else block prints the output as 'same' because name value was changed for both object.\")"
   ]
  },
  {
   "cell_type": "code",
   "execution_count": null,
   "metadata": {},
   "outputs": [],
   "source": []
  }
 ],
 "metadata": {
  "kernelspec": {
   "display_name": "Python 3",
   "language": "python",
   "name": "python3"
  },
  "language_info": {
   "codemirror_mode": {
    "name": "ipython",
    "version": 3
   },
   "file_extension": ".py",
   "mimetype": "text/x-python",
   "name": "python",
   "nbconvert_exporter": "python",
   "pygments_lexer": "ipython3",
   "version": "3.7.6"
  }
 },
 "nbformat": 4,
 "nbformat_minor": 4
}
