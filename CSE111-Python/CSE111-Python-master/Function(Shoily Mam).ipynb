{
 "cells": [
  {
   "cell_type": "code",
   "execution_count": 8,
   "metadata": {},
   "outputs": [
    {
     "data": {
      "text/plain": [
       "90"
      ]
     },
     "execution_count": 8,
     "metadata": {},
     "output_type": "execute_result"
    }
   ],
   "source": [
    "#Min & Max\n",
    "max([10,17,88,90])"
   ]
  },
  {
   "cell_type": "code",
   "execution_count": 16,
   "metadata": {},
   "outputs": [
    {
     "name": "stdout",
     "output_type": "stream",
     "text": [
      "45\n",
      "4\n",
      "180\n"
     ]
    }
   ],
   "source": [
    "def myfunc():\n",
    "    i=int(input())\n",
    "    t=int(input())\n",
    "    print(i*t)\n",
    "\n",
    "myfunc()"
   ]
  },
  {
   "cell_type": "code",
   "execution_count": 17,
   "metadata": {},
   "outputs": [
    {
     "name": "stdout",
     "output_type": "stream",
     "text": [
      "sizan\n",
      "piyal\n",
      "piyal\n"
     ]
    }
   ],
   "source": [
    "def compstr(x,y):\n",
    "    if len(x)>len(y):\n",
    "        return x\n",
    "    else:\n",
    "        return y\n",
    "a=input()\n",
    "b=input()\n",
    "print(compstr(a,b))\n",
    "    "
   ]
  },
  {
   "cell_type": "code",
   "execution_count": 18,
   "metadata": {},
   "outputs": [
    {
     "name": "stdout",
     "output_type": "stream",
     "text": [
      "sizan\n",
      "Hello sizan\n"
     ]
    }
   ],
   "source": [
    "def name(nam):\n",
    "    print(\"Hello\",nam)\n",
    "n=input()\n",
    "name(n)"
   ]
  },
  {
   "cell_type": "code",
   "execution_count": 35,
   "metadata": {},
   "outputs": [
    {
     "name": "stdout",
     "output_type": "stream",
     "text": [
      "Sizn is from Dhaka\n",
      "rabn is from Dhaka\n"
     ]
    }
   ],
   "source": [
    "def add(name,place):\n",
    "    print(name,\"is from\",place)\n",
    "    \n",
    "add(\"Sizn\",\"Dhaka\")\n",
    "add(\"rabn\",\"Dhaka\")\n",
    "        "
   ]
  },
  {
   "cell_type": "code",
   "execution_count": 32,
   "metadata": {},
   "outputs": [
    {
     "name": "stdout",
     "output_type": "stream",
     "text": [
      "Hello sizan alice\n"
     ]
    }
   ],
   "source": [
    "#Multiple Arguments\n",
    "def name(*names):\n",
    "    print(\"Hello\",names[0],names[1])\n",
    "    \n",
    "name(\"sizan\",\"alice\")"
   ]
  },
  {
   "cell_type": "code",
   "execution_count": 34,
   "metadata": {},
   "outputs": [
    {
     "name": "stdout",
     "output_type": "stream",
     "text": [
      "Corona Satus: Male: 180 Female: 80\n"
     ]
    }
   ],
   "source": [
    "def coron(*update):\n",
    "    print(\"Corona Satus:\",update[0],update[1],update[2],update[3])\n",
    "\n",
    "coron(\"Male:\",\"180\",\"Female:\",\"80\")"
   ]
  },
  {
   "cell_type": "code",
   "execution_count": 37,
   "metadata": {},
   "outputs": [
    {
     "name": "stdout",
     "output_type": "stream",
     "text": [
      "Value1: t value2: Sizan Value3: 679\n"
     ]
    }
   ],
   "source": [
    "def fun1(v1,v2,v3):\n",
    "    print(\"Value1:\",v1,\"value2:\",v2,\"Value3:\",v3)\n",
    "fun1(v2=\"Sizan\",v3=\"679\",v1=\"t\")"
   ]
  },
  {
   "cell_type": "code",
   "execution_count": 1,
   "metadata": {
    "scrolled": true
   },
   "outputs": [
    {
     "name": "stdout",
     "output_type": "stream",
     "text": [
      "2^2+2*2*3+3^2= 25\n",
      "2^2+2*2*3+3^2= 25\n"
     ]
    }
   ],
   "source": [
    "#Default Arguments Value\n",
    "def sq(x=2,y=3):\n",
    "    print(f\"{x}^2+2*{x}*{y}+{y}^2=\",x*x+2*x*y+y*y)\n",
    "sq()\n",
    "sq(2)"
   ]
  },
  {
   "cell_type": "code",
   "execution_count": 56,
   "metadata": {},
   "outputs": [
    {
     "name": "stdout",
     "output_type": "stream",
     "text": [
      "10\n",
      "10*1= 10\n",
      "10*2= 20\n",
      "10*3= 30\n",
      "10*4= 40\n",
      "10*5= 50\n",
      "10*6= 60\n",
      "10*7= 70\n",
      "10*8= 80\n",
      "10*9= 90\n",
      "10*10= 100\n"
     ]
    }
   ],
   "source": [
    "#Multiplication \n",
    "def mul(y,x):\n",
    "    return y*x\n",
    "val=int(input())\n",
    "i=1\n",
    "while i<=10:\n",
    "    print(f\"{val}*{i}=\",mul(val,i),end=\"\\n\")\n",
    "    i+=1\n",
    "    "
   ]
  },
  {
   "cell_type": "code",
   "execution_count": 59,
   "metadata": {},
   "outputs": [],
   "source": [
    "#Pass_Lamda Function\n",
    "def function():\n",
    "    pass\n",
    "function()"
   ]
  },
  {
   "cell_type": "code",
   "execution_count": 60,
   "metadata": {},
   "outputs": [
    {
     "name": "stdout",
     "output_type": "stream",
     "text": [
      "3.5\n"
     ]
    }
   ],
   "source": [
    "def avg(x,y):\n",
    "    return (x+y)/2\n",
    "print(avg(3,4))"
   ]
  },
  {
   "cell_type": "code",
   "execution_count": 69,
   "metadata": {},
   "outputs": [
    {
     "data": {
      "text/plain": [
       "18.5"
      ]
     },
     "execution_count": 69,
     "metadata": {},
     "output_type": "execute_result"
    }
   ],
   "source": [
    "(lambda x, y: (x+y)/2)(33,4)"
   ]
  },
  {
   "cell_type": "code",
   "execution_count": 70,
   "metadata": {},
   "outputs": [
    {
     "data": {
      "text/plain": [
       "4.5"
      ]
     },
     "execution_count": 70,
     "metadata": {},
     "output_type": "execute_result"
    }
   ],
   "source": [
    "(lambda a,b:(a+b)/2)(5,4)"
   ]
  }
 ],
 "metadata": {
  "kernelspec": {
   "display_name": "Python 3",
   "language": "python",
   "name": "python3"
  },
  "language_info": {
   "codemirror_mode": {
    "name": "ipython",
    "version": 3
   },
   "file_extension": ".py",
   "mimetype": "text/x-python",
   "name": "python",
   "nbconvert_exporter": "python",
   "pygments_lexer": "ipython3",
   "version": "3.7.6"
  }
 },
 "nbformat": 4,
 "nbformat_minor": 4
}
