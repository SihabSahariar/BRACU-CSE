{
 "cells": [
  {
   "cell_type": "code",
   "execution_count": 13,
   "metadata": {},
   "outputs": [
    {
     "name": "stdout",
     "output_type": "stream",
     "text": [
      "1 10 5 65 100 56\n",
      "5600\n"
     ]
    }
   ],
   "source": []
  },
  {
   "cell_type": "code",
   "execution_count": 16,
   "metadata": {},
   "outputs": [
    {
     "name": "stdout",
     "output_type": "stream",
     "text": [
      "Easy\n",
      "asy\n"
     ]
    }
   ],
   "source": [
    "#question1\n",
    "\n",
    "s=input()\n",
    "snew=\"\"\n",
    "for i in range(len(s)):\n",
    "    if s[i]>='a' and s[i]<='z':\n",
    "        snew+=s[i]\n",
    "print(snew)"
   ]
  },
  {
   "cell_type": "code",
   "execution_count": 9,
   "metadata": {},
   "outputs": [
    {
     "name": "stdout",
     "output_type": "stream",
     "text": [
      "WXYZA\n",
      "ABCDE"
     ]
    }
   ],
   "source": [
    "s=input()\n",
    "for i in range(len(s)):\n",
    "    l=0\n",
    "    l=ord(s[i])+4\n",
    "    if l<=90:\n",
    "        print(chr(l),end=\"\")\n",
    "    else:\n",
    "        gap=ord(\"Z\")-ord(s[i])\n",
    "        t=abs(gap-4)\n",
    "        print(chr(t+64),end=\"\")"
   ]
  },
  {
   "cell_type": "code",
   "execution_count": 1,
   "metadata": {},
   "outputs": [
    {
     "name": "stdout",
     "output_type": "stream",
     "text": [
      "abc\n",
      "KLM"
     ]
    }
   ],
   "source": [
    "s=input()\n",
    "for i in range(len(s)):\n",
    "    l=0\n",
    "    l=ord(s[i])+4\n",
    "    if l<=90:\n",
    "        print(chr(l),end=\"\")\n",
    "    else:\n",
    "        gap=ord(\"Z\")-ord(s[i])\n",
    "        t=abs(gap-4)\n",
    "        print(chr(t+64),end=\"\")"
   ]
  },
  {
   "cell_type": "code",
   "execution_count": null,
   "metadata": {},
   "outputs": [],
   "source": []
  },
  {
   "cell_type": "code",
   "execution_count": 36,
   "metadata": {},
   "outputs": [
    {
     "name": "stdout",
     "output_type": "stream",
     "text": [
      "200 100 900 67\n",
      "[100, 200, 900]\n",
      "1100\n"
     ]
    }
   ],
   "source": [
    "def Even_Find(s):\n",
    "    \n",
    "        \n",
    "    for i in range(len(lst1)):\n",
    "        if lst1[i]%2==0:lst2.append(lst1[i])\n",
    "            \n",
    "    for i in range(len(lst2)):\n",
    "        for j in range(len(lst2)-1):\n",
    "            if lst2[j]>lst2[j+1]:\n",
    "                temp=lst2[j]\n",
    "                lst2[j]=lst2[j+1]\n",
    "                lst2[j+1]=temp\n",
    "                          \n",
    "    if len(lst2)>1:\n",
    "        x=(lst2[len(lst2)-2]+lst2[len(lst2)-1])\n",
    "    else:\n",
    "        x=-1\n",
    "        \n",
    "    return x\n",
    "        \n",
    "        \n",
    "lst=input()\n",
    "n = lst.split()\n",
    "    lst1 =[]\n",
    "\n",
    "    for i in range(len(n)):\n",
    "        lst1.append(int(n[i]))\n",
    "        \n",
    "print(Even_Find(lst))"
   ]
  },
  {
   "cell_type": "code",
   "execution_count": 5,
   "metadata": {},
   "outputs": [
    {
     "name": "stdout",
     "output_type": "stream",
     "text": [
      "1\n",
      "Car\n"
     ]
    }
   ],
   "source": [
    "def calc(k): \n",
    "    bus=k*20 \n",
    "    bike=k*2 \n",
    "    car=k*.8 \n",
    "    if(bus>=100 and k>=5):\n",
    "        x=\"Bus\"\n",
    "    elif(bike<=60 and k>=2):\n",
    "        x=\"Motocycle\"\n",
    "    elif(car<=40 and k>=0.8):\n",
    "        x=\"Car\"\n",
    "    return x\n",
    "\n",
    "k=float(input())\n",
    "print(calc(k))\n"
   ]
  },
  {
   "cell_type": "code",
   "execution_count": null,
   "metadata": {
    "scrolled": true
   },
   "outputs": [],
   "source": [
    "def Even_Find(s):\n",
    "    n = s.split()\n",
    "    lst1 =[]\n",
    "    lst2 =[]\n",
    "    for i in range(len(n)):\n",
    "        lst1.append(int(n[i]))\n",
    "        \n",
    "    for i in range(len(lst1)):\n",
    "        if lst1[i]%2==0:lst2.append(lst1[i])\n",
    "            \n",
    "    for i in range(len(lst2)):\n",
    "        for j in range(len(lst2)-1):\n",
    "            if lst2[j]>lst2[j+1]:\n",
    "                lst2[j],lst2[j+1]=lst2[j+1],lst2[j]\n",
    "                \n",
    "    if len(lst2)!=0:\n",
    "        x=(lst2[len(lst2)-2]+lst2[len(lst2)-1])\n",
    "    else:\n",
    "        x=-1\n",
    "        \n",
    "    return x\n",
    "        \n",
    "        \n",
    "lst=input()\n",
    "print(Even_Find(lst))"
   ]
  },
  {
   "cell_type": "code",
   "execution_count": null,
   "metadata": {},
   "outputs": [],
   "source": [
    "s=input()\n",
    "l=s.split(\",\")\n",
    "i=0\n",
    "j=0\n",
    "while i<len(l):\n",
    "    sum=0\n",
    "    j=i+3\n",
    "while j<(i+3)+(int(l[i+2]):\n",
    "    sum=sum+int(l[j])\n",
    "    j=j+1\n",
    "j=j+int(l[i+2])-1\n",
    "print(l[i]+\" is a \"+l[i+1].lower()+\" student taking\",int(l[i+2]),\"courses. His total midterm mark is\",sum)\n",
    "i=i+3+int(l[i+2])"
   ]
  },
  {
   "cell_type": "code",
   "execution_count": 8,
   "metadata": {},
   "outputs": [
    {
     "name": "stdout",
     "output_type": "stream",
     "text": [
      "WXYZ\n",
      "ABCD"
     ]
    }
   ],
   "source": [
    "s=input()\n",
    "for i in range(len(s)):\n",
    "    l=0\n",
    "    if s[i]<='V' and s[i]>='A':\n",
    "        l=ord(s[i])+4\n",
    "        print(chr(l),end=\"\")\n",
    "    else:\n",
    "        if(s[i]=='W'):print('A',end=\"\")\n",
    "        if(s[i]=='X'):print('B',end=\"\")\n",
    "        if(s[i]=='Y'):print('C',end=\"\")\n",
    "        if(s[i]=='Z'):print('D',end=\"\")"
   ]
  }
 ],
 "metadata": {
  "kernelspec": {
   "display_name": "Python 3",
   "language": "python",
   "name": "python3"
  },
  "language_info": {
   "codemirror_mode": {
    "name": "ipython",
    "version": 3
   },
   "file_extension": ".py",
   "mimetype": "text/x-python",
   "name": "python",
   "nbconvert_exporter": "python",
   "pygments_lexer": "ipython3",
   "version": "3.7.6"
  }
 },
 "nbformat": 4,
 "nbformat_minor": 4
}
