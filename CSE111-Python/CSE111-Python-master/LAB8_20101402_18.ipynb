{
 "cells": [
  {
   "cell_type": "code",
   "execution_count": 1,
   "metadata": {},
   "outputs": [],
   "source": [
    "#Sihab Sahariar\n",
    "#ID:20101402 "
   ]
  },
  {
   "cell_type": "code",
   "execution_count": 6,
   "metadata": {},
   "outputs": [
    {
     "name": "stdout",
     "output_type": "stream",
     "text": [
      "Name: default Department: BBA\n",
      "Name: Humpty Dumpty Department: BBA\n",
      "Name: Little Bo Peep Department: BBA\n"
     ]
    }
   ],
   "source": [
    "# Question1\n",
    "class Student:\n",
    "    def __init__(self, name='Just a student', dept='nothing'):\n",
    "        self.__name = name\n",
    "        self.__department = dept\n",
    "\n",
    "    def set_department(self, dept):\n",
    "        self.__department = dept\n",
    "\n",
    "    def get_name(self):\n",
    "        return self.__name\n",
    "\n",
    "    def set_name(self, name):\n",
    "        self.__name = name\n",
    "\n",
    "    def __str__(self):\n",
    "        return 'Name: ' + self.__name + ' Department: ' + self.__department\n",
    "\n",
    "\n",
    "class BBA_Student(Student):\n",
    "    def __init__(self,name=\"\",dept=\"\"):\n",
    "        self.name = name\n",
    "        self.dept = dept\n",
    "        if(self.name == \"\" and self.dept ==\"\"):\n",
    "            super().__init__('default','BBA')\n",
    "        else:\n",
    "            super().__init__(self.name,'BBA')\n",
    "\n",
    "\n",
    "\n",
    "print(BBA_Student())\n",
    "print(BBA_Student('Humpty Dumpty'))\n",
    "print(BBA_Student('Little Bo Peep'))"
   ]
  },
  {
   "cell_type": "code",
   "execution_count": 7,
   "metadata": {},
   "outputs": [
    {
     "name": "stdout",
     "output_type": "stream",
     "text": [
      "Part 1\n",
      "------\n",
      "(0 , 0)\n",
      "(0 , 1)\n",
      "(-1 , 1)\n",
      "(-1 , 0)\n",
      "(0 , 0)\n",
      "------\n",
      "Part 2\n",
      "------\n",
      "(0 , 0)\n",
      "(-1 , -1)\n",
      "False\n",
      "True\n",
      "------\n"
     ]
    }
   ],
   "source": [
    "# Question2\n",
    "class Vehicle:\n",
    "    def __init__(self):\n",
    "        self.x = 0\n",
    "        self.y = 0\n",
    "    def moveUp(self):\n",
    "        self.y+=1\n",
    "    def moveDown(self):\n",
    "        self.y-=1\n",
    "    def moveRight(self):\n",
    "        self.x+=1\n",
    "    def moveLeft(self):\n",
    "        self.x-=1\n",
    "    def __str__(self):\n",
    "        return '('+str(self.x)+' , '+str(self.y)+')'\n",
    "\n",
    "class Vehicle2010(Vehicle):\n",
    "    def moveUpperRight(self):\n",
    "        self.moveUp()\n",
    "        self.moveRight()\n",
    "    def moveLowerRight(self):\n",
    "        self.moveDown()\n",
    "        self.moveRight()\n",
    "    def moveUpperLeft(self):\n",
    "        self.moveUp()\n",
    "        self.moveLeft()\n",
    "    def moveLowerLeft(self):\n",
    "        self.moveDown()\n",
    "        self.moveLeft()\n",
    "    def equals(self,other):\n",
    "        if self.x == other.x and self.y == other.y:\n",
    "            return True\n",
    "        else:\n",
    "            return False\n",
    "\n",
    "\n",
    "print('Part 1')\n",
    "print('------')\n",
    "car = Vehicle()\n",
    "print(car)\n",
    "car.moveUp()\n",
    "print(car)\n",
    "car.moveLeft()\n",
    "print(car)\n",
    "car.moveDown()\n",
    "print(car)\n",
    "car.moveRight()\n",
    "print(car)\n",
    "print('------')\n",
    "print('Part 2')\n",
    "print('------')\n",
    "car1 = Vehicle2010()\n",
    "print(car1)\n",
    "car1.moveLowerLeft()\n",
    "print(car1)\n",
    "car2 = Vehicle2010()\n",
    "car2.moveLeft()\n",
    "print(car1.equals(car2))\n",
    "car2.moveDown()\n",
    "print(car1.equals(car2))\n",
    "print('------')"
   ]
  },
  {
   "cell_type": "code",
   "execution_count": 12,
   "metadata": {},
   "outputs": [
    {
     "name": "stdout",
     "output_type": "stream",
     "text": [
      "RealPart: 1.0\n",
      "ImaginaryPart: 1.0\n",
      "---------\n",
      "RealPart: 5.0\n",
      "ImaginaryPart: 7.0\n",
      "---------\n"
     ]
    }
   ],
   "source": [
    "#Question3\n",
    "class RealNumber:\n",
    "    def __init__(self, r=0):\n",
    "        self.__realValue = r\n",
    "\n",
    "    def getRealValue(self):\n",
    "        return self.__realValue\n",
    "\n",
    "    def setRealValue(self, r):\n",
    "        self.__realValue = r\n",
    "\n",
    "    def ping(self):\n",
    "        print('I am in RealNumber class')\n",
    "\n",
    "    def __str__(self):\n",
    "        return 'RealPart: ' + str(self.getRealValue())\n",
    "\n",
    "\n",
    "class ComplexNumber(RealNumber):\n",
    "    def __init__(self, real=1.0, com=1.0):\n",
    "        super().setRealValue(float(real))\n",
    "        self.com = float(com)\n",
    "\n",
    "    def __str__(self):\n",
    "        return (f\"RealPart: {self.getRealValue()}\\nImaginaryPart: {self.com}\")\n",
    "\n",
    "\n",
    "cn1 = ComplexNumber()\n",
    "print(cn1)\n",
    "print('---------')\n",
    "cn2 = ComplexNumber(5, 7)\n",
    "print(cn2)\n",
    "print('---------')\n"
   ]
  },
  {
   "cell_type": "code",
   "execution_count": 13,
   "metadata": {},
   "outputs": [
    {
     "name": "stdout",
     "output_type": "stream",
     "text": [
      "Number of Checking Accounts: 0\n",
      "Account Balance: 0.0\n",
      "Account Balance: 100.0\n",
      "Account Balance: 200.0\n",
      "Number of Checking Accounts: 3\n"
     ]
    }
   ],
   "source": [
    "#Question4\n",
    "class Account:\n",
    "    def __init__(self, balance):\n",
    "        self._balance = balance\n",
    "\n",
    "    def getBalance(self):\n",
    "        return self._balance\n",
    "\n",
    "\n",
    "class CheckingAccount(Account):\n",
    "    count = 0\n",
    "    numberOfAccount = \"0\"\n",
    "\n",
    "    def __init__(self, tk=0.0):\n",
    "        CheckingAccount.count += 1\n",
    "        self.tk = float(tk)\n",
    "        CheckingAccount.numberOfAccount = str(CheckingAccount.count)\n",
    "\n",
    "    def __str__(self):\n",
    "        return f\"Account Balance: {self.tk}\"\n",
    "\n",
    "\n",
    "print('Number of Checking Accounts: ' + CheckingAccount.numberOfAccount)\n",
    "print(CheckingAccount())\n",
    "print(CheckingAccount(100.00))\n",
    "print(CheckingAccount(200.00))\n",
    "print('Number of Checking Accounts: ' + CheckingAccount.numberOfAccount)\n"
   ]
  },
  {
   "cell_type": "code",
   "execution_count": 19,
   "metadata": {},
   "outputs": [
    {
     "name": "stdout",
     "output_type": "stream",
     "text": [
      "Animal does not make sound\n",
      "meow\n",
      "bark\n"
     ]
    }
   ],
   "source": [
    "#Question5\n",
    "class Animal:\n",
    "    def __init__(self,sound):\n",
    "        self.__sound = sound\n",
    "    def makeSound(self):\n",
    "        return self.__sound\n",
    "class Printer:\n",
    "     def printSound(self, a):\n",
    "        print(a.makeSound())\n",
    "class Dog(Animal):\n",
    "    pass\n",
    "class Cat(Animal):\n",
    "    pass\n",
    "d1 = Dog('bark')\n",
    "c1 = Cat('meow')\n",
    "a1 = Animal('Animal does not make sound')\n",
    "pr = Printer()\n",
    "pr.printSound(a1)\n",
    "pr.printSound(c1)\n",
    "pr.printSound(d1)"
   ]
  },
  {
   "cell_type": "code",
   "execution_count": 24,
   "metadata": {},
   "outputs": [
    {
     "name": "stdout",
     "output_type": "stream",
     "text": [
      "----Printing Detail----\n",
      "Do not eat the Mango .\n",
      "Mangos are bad for you\n",
      "----Printing Detail----\n",
      "Eat the Jackfruit .\n",
      "Jackfruits are good for you\n"
     ]
    }
   ],
   "source": [
    "#Question6\n",
    "class Fruit:\n",
    "    def __init__(self, formalin=False, name=''):\n",
    "        self.__formalin = formalin\n",
    "        self.name = name\n",
    "\n",
    "    def getName(self):\n",
    "        return self.name\n",
    "\n",
    "    def hasFormalin(self):\n",
    "        return self.__formalin\n",
    "\n",
    "\n",
    "class testFruit:\n",
    "    def test(self, f):\n",
    "        print('----Printing Detail----')\n",
    "        if f.hasFormalin():\n",
    "            print('Do not eat the', f.getName(), '.')\n",
    "            print(f)\n",
    "        else:\n",
    "            print('Eat the', f.getName(), '.')\n",
    "            print(f)\n",
    "\n",
    "\n",
    "class Mango(Fruit):\n",
    "    def __init__(self):\n",
    "        super().__init__(True,'Mango')\n",
    "    def __str__(self):\n",
    "        return (f\"{self.name}s are bad for you\")\n",
    "\n",
    "\n",
    "class Jackfruit(Fruit):\n",
    "    def __init__(self):\n",
    "        super().__init__(False, 'Jackfruit')\n",
    "    def __str__(self):\n",
    "        return (f\"{self.name}s are good for you\")\n",
    "\n",
    "\n",
    "m = Mango()\n",
    "j = Jackfruit()\n",
    "t1 = testFruit()\n",
    "t1.test(m)\n",
    "t1.test(j)\n"
   ]
  }
 ],
 "metadata": {
  "kernelspec": {
   "display_name": "Python 3",
   "language": "python",
   "name": "python3"
  },
  "language_info": {
   "codemirror_mode": {
    "name": "ipython",
    "version": 3
   },
   "file_extension": ".py",
   "mimetype": "text/x-python",
   "name": "python",
   "nbconvert_exporter": "python",
   "pygments_lexer": "ipython3",
   "version": "3.7.6"
  }
 },
 "nbformat": 4,
 "nbformat_minor": 4
}
