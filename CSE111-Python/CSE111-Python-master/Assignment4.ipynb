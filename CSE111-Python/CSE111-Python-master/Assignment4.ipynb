{
 "cells": [
  {
   "cell_type": "code",
   "execution_count": null,
   "metadata": {},
   "outputs": [],
   "source": [
    "#Name- Sihab Sahariar\n",
    "#ID- 20101402"
   ]
  },
  {
   "cell_type": "code",
   "execution_count": null,
   "metadata": {},
   "outputs": [],
   "source": [
    "#Easy1\n",
    "l = [] \n",
    "for i in range(0, 10): \n",
    "    value= int(input()) \n",
    "    l.append(value)  \n",
    "l.reverse()     \n",
    "print(l) "
   ]
  },
  {
   "cell_type": "code",
   "execution_count": 1,
   "metadata": {},
   "outputs": [
    {
     "name": "stdout",
     "output_type": "stream",
     "text": [
      "a,b,c,d\n",
      "f,g,t\n",
      "[a,b,c,f,g,t]"
     ]
    }
   ],
   "source": [
    "#Easy2\n",
    "str1=input()\n",
    "str2=input()\n",
    "l=str1.split(\",\")\n",
    "l2=str2.split(\",\")\n",
    "newl=[]\n",
    "i=0\n",
    "while i<len(l)-1:\n",
    "    newl.append(l[i])\n",
    "    i+=1\n",
    "l3=newl+l2\n",
    "j=0\n",
    "print(\"[\",end=\"\")\n",
    "while j<len(l3)-1:\n",
    "    print(l3[j],end=\",\")\n",
    "    j+=1\n",
    "print(l3[-1],end=\"]\")"
   ]
  },
  {
   "cell_type": "code",
   "execution_count": null,
   "metadata": {},
   "outputs": [],
   "source": [
    "#Easy3\n",
    "l = [] \n",
    "count=0\n",
    "i=0\n",
    "while i<10:\n",
    "    if count==10:\n",
    "        break\n",
    "    else: \n",
    "        value= int(input()) \n",
    "        if l.count(value)==0:\n",
    "            l.append(value)\n",
    "            count+=1\n",
    "        else:\n",
    "            print(\"Please Enter Another Number: \")\n",
    "        \n",
    "    \n",
    "        "
   ]
  },
  {
   "cell_type": "code",
   "execution_count": null,
   "metadata": {},
   "outputs": [],
   "source": [
    "# Med1\n",
    "l = []\n",
    "while 1:\n",
    "    s = input()\n",
    "    if s == \"STOP\":\n",
    "        break\n",
    "    else:\n",
    "        l.append(int(s))\n",
    "i = 0\n",
    "count = 1\n",
    "l.sort()\n",
    "l.append(\" \")\n",
    "#print(l)\n",
    "while i < len(l)-1 :\n",
    "    if l[i] != l[i + 1]:\n",
    "        print(l[i], '-', count, 'times')\n",
    "        count = 1\n",
    "    else:\n",
    "        count+=1\n",
    "    i += 1\n"
   ]
  },
  {
   "cell_type": "code",
   "execution_count": null,
   "metadata": {},
   "outputs": [],
   "source": [
    "#Med2\n",
    "l=[]\n",
    "val=int(input())\n",
    "i=0\n",
    "maxs=0\n",
    "maxl=[]\n",
    "while i<val:\n",
    "    str=input()\n",
    "    ls=str.split()\n",
    "    k=0\n",
    "    sum=0\n",
    "    while k<len(ls):\n",
    "        sum+=int(ls[k])\n",
    "        k+=1\n",
    "    #print(sum)\n",
    "    if sum>maxs:\n",
    "        maxs=sum\n",
    "        maxl=ls\n",
    "    i+=1\n",
    "\n",
    "print(maxs)\n",
    "print(\"[\",end=\"\")\n",
    "j=0\n",
    "while j<len(maxl)-1:\n",
    "    print(maxl[j],end=\",\")\n",
    "    j+=1\n",
    "print(maxl[-1],end=\"]\")"
   ]
  },
  {
   "cell_type": "code",
   "execution_count": null,
   "metadata": {},
   "outputs": [],
   "source": [
    "#Med3\n",
    "str1=input()\n",
    "str2=input()\n",
    "str1=str1.split()\n",
    "str2=str2.split()\n",
    "i=0\n",
    "lst=[]\n",
    "\n",
    "while i<len(str1):\n",
    "    j=0\n",
    "    while j<len(str2):\n",
    "        x=int(str1[i])*int(str2[j])\n",
    "        lst.append(x)\n",
    "        j+=1\n",
    "    i+=1\n",
    "\n",
    "print(\"[\",end=\"\")\n",
    "l=0\n",
    "while l<len(lst)-1:\n",
    "    print(lst[l],end=\",\")\n",
    "    l+=1\n",
    "print(lst[-1],end=\"]\")"
   ]
  },
  {
   "cell_type": "code",
   "execution_count": null,
   "metadata": {},
   "outputs": [],
   "source": [
    "#Med4\n",
    "val=int(input())\n",
    "str=input()\n",
    "lst=str.split(\",\")\n",
    "c=0\n",
    "l=[]\n",
    "while c<val:\n",
    "    p=[]\n",
    "    j=c\n",
    "    while j<len(lst):\n",
    "        p.append(lst[j])\n",
    "        j+=val\n",
    "    l.append(p)\n",
    "    c+=1\n",
    "print(l)\n"
   ]
  },
  {
   "cell_type": "code",
   "execution_count": null,
   "metadata": {},
   "outputs": [],
   "source": [
    "#Hard1\n",
    "while True:\n",
    "    str=input()\n",
    "    if str==\"STOP\":\n",
    "        break\n",
    "    else:\n",
    "        j=True\n",
    "        newstr=str.split()\n",
    "        n=len(newstr)\n",
    "        lst=[]\n",
    "        for i in range(n):\n",
    "            t=int(newstr[i])\n",
    "            lst.append(t)\n",
    "            ls=[]\n",
    "        for i in range(n-1):\n",
    "            a=abs(lst[i+1]-lst[i])\n",
    "            ls.append(a)\n",
    "            ls.sort()\n",
    "        for i in range(n-1):\n",
    "            if ls[i]!=i+1:\n",
    "                j=False\n",
    "        if j==False:\n",
    "            print(\"Not UB Jumper\")\n",
    "        else:\n",
    "            print(\"UB Jumper\")\n"
   ]
  },
  {
   "cell_type": "code",
   "execution_count": null,
   "metadata": {},
   "outputs": [],
   "source": [
    "# Hard2\n",
    "def sstr(s):\n",
    "    l_c = []\n",
    "    u_c = []\n",
    "    od = []\n",
    "    ed = []\n",
    "    for char in s:\n",
    "        if char.islower():\n",
    "            l_c.append(char)\n",
    "        elif char.isupper():\n",
    "            u_c.append(char)\n",
    "        elif char.isdigit():\n",
    "            if int(char) % 2 == 0:\n",
    "                ed.append(char)\n",
    "            else:\n",
    "                od.append(char)\n",
    "    return (''.join(sorted(l_c) + sorted(u_c) + sorted(od) + sorted(ed)))\n",
    "\n",
    "\n",
    "s = input()\n",
    "print(sstr(s))"
   ]
  },
  {
   "cell_type": "code",
   "execution_count": null,
   "metadata": {},
   "outputs": [],
   "source": [
    "#Hard3\n",
    "\n",
    "n=int(input())\n",
    "k=int(input())\n",
    "lst=[]\n",
    "i=0\n",
    "while i<n:\n",
    "    p=int(input())\n",
    "    lst.append(p)\n",
    "    i+=1\n",
    "count=0\n",
    "j=0\n",
    "while j<n:\n",
    "    if 5-lst[j]>=k:\n",
    "        count+=1\n",
    "    j+=1\n",
    "res=int(count/3)\n",
    "print(res)\n",
    "\n"
   ]
  }
 ],
 "metadata": {
  "kernelspec": {
   "display_name": "Python 3",
   "language": "python",
   "name": "python3"
  },
  "language_info": {
   "codemirror_mode": {
    "name": "ipython",
    "version": 3
   },
   "file_extension": ".py",
   "mimetype": "text/x-python",
   "name": "python",
   "nbconvert_exporter": "python",
   "pygments_lexer": "ipython3",
   "version": "3.7.6"
  }
 },
 "nbformat": 4,
 "nbformat_minor": 4
}
