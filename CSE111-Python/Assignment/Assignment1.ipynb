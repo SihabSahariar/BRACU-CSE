{
 "cells": [
  {
   "cell_type": "code",
   "execution_count": null,
   "metadata": {},
   "outputs": [],
   "source": [
    "#Sihab Sahariar (CSE111-20101402)\n",
    "#Assignment 1"
   ]
  },
  {
   "cell_type": "code",
   "execution_count": 37,
   "metadata": {},
   "outputs": [
    {
     "name": "stdout",
     "output_type": "stream",
     "text": [
      "3 5 6 9 10 12 15 18 20 21 24 25 27 30 "
     ]
    }
   ],
   "source": [
    "\n",
    "for num in range(2,31):\n",
    "\tif num%3==0:\n",
    "\t\tprint(num,end=\" \")\n",
    "\telif num%5==0:\n",
    "\t\tprint(num,end=\" \")\n",
    "        "
   ]
  },
  {
   "cell_type": "code",
   "execution_count": 1,
   "metadata": {},
   "outputs": [
    {
     "name": "stdout",
     "output_type": "stream",
     "text": [
      "Enter 1st value : 5\n",
      "Enter 2nd value : 5\n",
      "Enter 3rd value : 5\n",
      "5\n"
     ]
    }
   ],
   "source": [
    "val1=int(input(\"Enter 1st value : \"))\n",
    "val2=int(input(\"Enter 2nd value : \"))\n",
    "val3=int(input(\"Enter 3rd value : \"))\n",
    "if val1>=val2 and val1>=val3:\n",
    "    print(val1)\n",
    "elif val2>=val1 and val2>=val3:\n",
    "    print(val2)\n",
    "elif val3>=val1 and val3>=val1:\n",
    "    print(val3)"
   ]
  },
  {
   "cell_type": "code",
   "execution_count": 2,
   "metadata": {},
   "outputs": [
    {
     "name": "stdout",
     "output_type": "stream",
     "text": [
      "90\n",
      "A\n"
     ]
    }
   ],
   "source": [
    "mark=int(input())\n",
    "if mark>=90:\n",
    "    print(\"A\")\n",
    "elif mark>=85:\n",
    "    print(\"A-\")\n",
    "elif mark>=80:\n",
    "    print(\"B+\")\n",
    "elif mark>=75:\n",
    "    print(\"B\")\n",
    "elif mark>=70:\n",
    "    print(\"B-\")\n",
    "elif mark>=65:\n",
    "    print(\"C+\")\n",
    "elif mark>=60:\n",
    "    print(\"C\")\n",
    "elif mark>=57:\n",
    "    print(\"C-\")\n",
    "elif mark>=55:\n",
    "    print(\"D+\")\n",
    "elif mark>=52:\n",
    "    print(\"D\")\n",
    "elif mark>=50:\n",
    "    print(\"D-\")\n",
    "else:\n",
    "    print(\"F\")"
   ]
  },
  {
   "cell_type": "code",
   "execution_count": 8,
   "metadata": {},
   "outputs": [
    {
     "name": "stdout",
     "output_type": "stream",
     "text": [
      "99\n",
      "Composite number\n"
     ]
    }
   ],
   "source": [
    "val=int(input())\n",
    "i,j=1,0\n",
    "while i<val:\n",
    "    if val%i==0:\n",
    "        j=j+1\n",
    "    if j==2:\n",
    "        break\n",
    "    i=i+1\n",
    "if j==1:\n",
    "    print(\"Prime Number\")\n",
    "else:\n",
    "    print(\"Composite number\")\n",
    "    "
   ]
  },
  {
   "cell_type": "code",
   "execution_count": 41,
   "metadata": {},
   "outputs": [
    {
     "name": "stdout",
     "output_type": "stream",
     "text": [
      "10\n",
      "0 1 1 2 3 5 8 "
     ]
    }
   ],
   "source": [
    "term=int(input())\n",
    "x=0\n",
    "y=1\n",
    "print(x,end=\" \")\n",
    "while y<term:\n",
    "    print(y,end=\" \")\n",
    "    x,y = y,x+y"
   ]
  },
  {
   "cell_type": "code",
   "execution_count": 12,
   "metadata": {},
   "outputs": [
    {
     "name": "stdout",
     "output_type": "stream",
     "text": [
      "12345\n",
      "54321"
     ]
    }
   ],
   "source": [
    "val=int(input())\n",
    "temp=0\n",
    "while val>0:\n",
    "    temp=val%10\n",
    "    print(temp,end=\"\")\n",
    "    val//=10"
   ]
  },
  {
   "cell_type": "code",
   "execution_count": 14,
   "metadata": {},
   "outputs": [
    {
     "name": "stdout",
     "output_type": "stream",
     "text": [
      "13\n",
      "Not Perfect\n"
     ]
    }
   ],
   "source": [
    "val=int(input())\n",
    "i=1\n",
    "s=0\n",
    "while i<val:\n",
    "    if val%i==0:\n",
    "       s+=i\n",
    "    i=i+1\n",
    "if(s==val):\n",
    "    print(\"Perfect Number\")\n",
    "else:\n",
    "    print(\"Not Perfect\")"
   ]
  },
  {
   "cell_type": "code",
   "execution_count": 27,
   "metadata": {},
   "outputs": [
    {
     "name": "stdout",
     "output_type": "stream",
     "text": [
      "12344\n",
      "1\n"
     ]
    }
   ],
   "source": [
    "s1 = input()\n",
    "s2 = \"\"\n",
    "s3 = \"\"\n",
    "s2 =''.join(sorted(s1))\n",
    "s2+= \" \"\n",
    "i=0\n",
    "while i<len(s2)-1:\n",
    "    if(s2[i]==s2[i+1]):\n",
    "        i+=1\n",
    "        continue\n",
    "    else:\n",
    "        s3+=s2[i]\n",
    "        i+=1        \n",
    "print(len(s3))"
   ]
  },
  {
   "cell_type": "code",
   "execution_count": 35,
   "metadata": {},
   "outputs": [
    {
     "name": "stdout",
     "output_type": "stream",
     "text": [
      "3\n",
      "  *  \n",
      " * * \n",
      "*****\n",
      " * * \n",
      "  *  \n"
     ]
    }
   ],
   "source": [
    "N=int(input())\n",
    "x=2\n",
    "#uporerta\n",
    "for row in range(1,N+1):\n",
    "    for col in range(1,2*N):\n",
    "        if row+col==N+1 or col-row==N-1 or row==N:\n",
    "            print(\"*\",end=\"\")\n",
    "        else:\n",
    "            print(end=\" \")\n",
    "    print()\n",
    "#nicherta\n",
    "for row in range(N-1,0,-1):\n",
    "    for col in range(1,2*N):\n",
    "        if row+col==N+1 or col-row==N-1 or row==N:\n",
    "            print(\"*\",end=\"\")\n",
    "        else:\n",
    "            print(end=\" \")\n",
    "    print()"
   ]
  },
  {
   "cell_type": "code",
   "execution_count": 20,
   "metadata": {},
   "outputs": [
    {
     "name": "stdout",
     "output_type": "stream",
     "text": [
      "37\n",
      "7\n"
     ]
    }
   ],
   "source": [
    "\n",
    "val=int(input())\n",
    "i=1\n",
    "count=0\n",
    "while val>0:\n",
    "    temp=val%2\n",
    "    if temp==1:\n",
    "        count+=1\n",
    "    val//=2\n",
    "print((2**count)-1)"
   ]
  },
  {
   "cell_type": "code",
   "execution_count": null,
   "metadata": {},
   "outputs": [],
   "source": []
  }
 ],
 "metadata": {
  "kernelspec": {
   "display_name": "Python 3",
   "language": "python",
   "name": "python3"
  },
  "language_info": {
   "codemirror_mode": {
    "name": "ipython",
    "version": 3
   },
   "file_extension": ".py",
   "mimetype": "text/x-python",
   "name": "python",
   "nbconvert_exporter": "python",
   "pygments_lexer": "ipython3",
   "version": "3.7.6"
  }
 },
 "nbformat": 4,
 "nbformat_minor": 4
}
